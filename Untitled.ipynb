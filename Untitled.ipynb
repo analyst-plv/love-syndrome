{
 "cells": [
  {
   "cell_type": "markdown",
   "id": "b7784b0e",
   "metadata": {
    "toc": true
   },
   "source": [
    "<h1>Table of Contents<span class=\"tocSkip\"></span></h1>\n",
    "<div class=\"toc\"><ul class=\"toc-item\"></ul></div>"
   ]
  },
  {
   "cell_type": "code",
   "execution_count": null,
   "id": "76320a24",
   "metadata": {},
   "outputs": [],
   "source": []
  },
  {
   "cell_type": "code",
   "execution_count": null,
   "id": "50af6569",
   "metadata": {},
   "outputs": [],
   "source": []
  },
  {
   "cell_type": "code",
   "execution_count": 28,
   "id": "1c0777c9",
   "metadata": {},
   "outputs": [],
   "source": [
    "import pandas as pd\n",
    "import numpy as np\n",
    "import datetime as dt\n",
    "import csv"
   ]
  },
  {
   "cell_type": "code",
   "execution_count": 2,
   "id": "bb251469",
   "metadata": {},
   "outputs": [],
   "source": [
    "# google_df1 = pd.read_html('https://docs.google.com/spreadsheets/d/128wrp-t37KNodHGhAZVq3bzxs69JaJmd/edit?usp=drive_link&ouid=103557660010487701162&rtpof=true&sd=true')\n",
    "# google_df1.head()"
   ]
  },
  {
   "cell_type": "code",
   "execution_count": 3,
   "id": "756738da",
   "metadata": {},
   "outputs": [],
   "source": [
    "# создаем список файлов, которые нужно загрузить\n",
    "file_names=['01.01.24-30.06.24.xls','01.07.2024-31.12.2024.xls','01.01.2023-31.06.2023.xls','01.07.2023-31.12.2023.xls','01.01.2022-30.06.2022.xls','01.07.2022-31.12.2022.xls']"
   ]
  },
  {
   "cell_type": "code",
   "execution_count": 4,
   "id": "1d1e4a3f",
   "metadata": {},
   "outputs": [],
   "source": [
    "# создаем список названий необходимых столбцов\n",
    "col_list =['ID','Дата начала (Минимальное)','Комментарий','Направление сделки','Стадия сделки','В стадии: Удачно',\\\n",
    "           'Ожидаемая сумма','Полученная сумма','Утраченная сумма','Повторная сделка','Датавремя платежа',\\\n",
    "           'Фактическая сумма пожертвования', 'Контакт: ID','Контакт: Дата создания','Контакт: Город_',\\\n",
    "           'Контакт: Страна_','Контакт: Регион_','Контакт: Дата создания в базе','Контакт: Пол',\\\n",
    "          'Код (список)','Контакт: Аналитика: Дата первого пожертвования']"
   ]
  },
  {
   "cell_type": "code",
   "execution_count": 5,
   "id": "e7e645be",
   "metadata": {},
   "outputs": [],
   "source": [
    "# создадим датафрейм, загрузив файл из списка file_names с индексом 0\n",
    "df = pd.read_html(file_names[0], skiprows=0, header=0)[0]\n",
    "# удаляем все столбцы, кроме выбранных из списка col_list\n",
    "df.drop(columns=df.columns.difference(col_list), inplace=True)"
   ]
  },
  {
   "cell_type": "code",
   "execution_count": 6,
   "id": "df596a12",
   "metadata": {},
   "outputs": [],
   "source": [
    "# запустим цикл, который пройдет по списку с файлами file_names \n",
    "for i in range(1,len(file_names)): \n",
    "    data = pd.read_html(file_names[i], skiprows=0, header=0)[0]\n",
    "    data.drop(columns=data.columns.difference(col_list), inplace=True)# удаляем все столбцы, кроме выбранных из списка col_list\n",
    "    df = pd.concat([df,data], ignore_index = True) \n"
   ]
  },
  {
   "cell_type": "code",
   "execution_count": 7,
   "id": "09db089b",
   "metadata": {},
   "outputs": [
    {
     "data": {
      "text/html": [
       "<div>\n",
       "<style scoped>\n",
       "    .dataframe tbody tr th:only-of-type {\n",
       "        vertical-align: middle;\n",
       "    }\n",
       "\n",
       "    .dataframe tbody tr th {\n",
       "        vertical-align: top;\n",
       "    }\n",
       "\n",
       "    .dataframe thead th {\n",
       "        text-align: right;\n",
       "    }\n",
       "</style>\n",
       "<table border=\"1\" class=\"dataframe\">\n",
       "  <thead>\n",
       "    <tr style=\"text-align: right;\">\n",
       "      <th></th>\n",
       "      <th>ID</th>\n",
       "      <th>Дата начала (Минимальное)</th>\n",
       "      <th>Комментарий</th>\n",
       "      <th>Направление сделки</th>\n",
       "      <th>Стадия сделки</th>\n",
       "      <th>В стадии: Удачно</th>\n",
       "      <th>Ожидаемая сумма</th>\n",
       "      <th>Полученная сумма</th>\n",
       "      <th>Утраченная сумма</th>\n",
       "      <th>Повторная сделка</th>\n",
       "      <th>...</th>\n",
       "      <th>Контакт: Дата создания</th>\n",
       "      <th>Контакт: Город_</th>\n",
       "      <th>Контакт: Страна_</th>\n",
       "      <th>Контакт: Регион_</th>\n",
       "      <th>Контакт: Дата создания в базе</th>\n",
       "      <th>Контакт: Пол</th>\n",
       "      <th>Контакт: Аналитика: Дата первого пожертвования</th>\n",
       "      <th>Датавремя платежа</th>\n",
       "      <th>Код (список)</th>\n",
       "      <th>Фактическая сумма пожертвования</th>\n",
       "    </tr>\n",
       "  </thead>\n",
       "  <tbody>\n",
       "    <tr>\n",
       "      <th>0</th>\n",
       "      <td>382389</td>\n",
       "      <td>05.06.2024</td>\n",
       "      <td>Ежемесячное пожертвование в БФ \"Синдром любви\"</td>\n",
       "      <td>Пожертвования</td>\n",
       "      <td>Prospecting</td>\n",
       "      <td>Нет</td>\n",
       "      <td>500</td>\n",
       "      <td>0</td>\n",
       "      <td>500</td>\n",
       "      <td>Да</td>\n",
       "      <td>...</td>\n",
       "      <td>05.08.2023</td>\n",
       "      <td>Вена</td>\n",
       "      <td>NaN</td>\n",
       "      <td>NaN</td>\n",
       "      <td>05.08.2023</td>\n",
       "      <td>Ж</td>\n",
       "      <td>05.08.2023</td>\n",
       "      <td>05.06.2024</td>\n",
       "      <td>f212</td>\n",
       "      <td>0.0</td>\n",
       "    </tr>\n",
       "    <tr>\n",
       "      <th>1</th>\n",
       "      <td>382391</td>\n",
       "      <td>05.06.2024</td>\n",
       "      <td>Поддержать соревнование</td>\n",
       "      <td>Пожертвования</td>\n",
       "      <td>Posted</td>\n",
       "      <td>Да</td>\n",
       "      <td>500</td>\n",
       "      <td>500</td>\n",
       "      <td>0</td>\n",
       "      <td>Да</td>\n",
       "      <td>...</td>\n",
       "      <td>09.01.2024</td>\n",
       "      <td>Химки</td>\n",
       "      <td>NaN</td>\n",
       "      <td>NaN</td>\n",
       "      <td>09.01.2024</td>\n",
       "      <td>0</td>\n",
       "      <td>02.01.2024</td>\n",
       "      <td>05.06.2024</td>\n",
       "      <td>f207</td>\n",
       "      <td>485.5</td>\n",
       "    </tr>\n",
       "    <tr>\n",
       "      <th>2</th>\n",
       "      <td>382399</td>\n",
       "      <td>05.06.2024</td>\n",
       "      <td>Ежемесячное пожертвование в БФ \"Синдром любви\"</td>\n",
       "      <td>Пожертвования</td>\n",
       "      <td>Posted</td>\n",
       "      <td>Да</td>\n",
       "      <td>1 000</td>\n",
       "      <td>1 000</td>\n",
       "      <td>0</td>\n",
       "      <td>Да</td>\n",
       "      <td>...</td>\n",
       "      <td>03.08.2022</td>\n",
       "      <td>Москва</td>\n",
       "      <td>Россия</td>\n",
       "      <td>Москва</td>\n",
       "      <td>30.07.2015</td>\n",
       "      <td>0</td>\n",
       "      <td>30.10.2012</td>\n",
       "      <td>05.06.2024</td>\n",
       "      <td>f212</td>\n",
       "      <td>971.0</td>\n",
       "    </tr>\n",
       "    <tr>\n",
       "      <th>3</th>\n",
       "      <td>382423</td>\n",
       "      <td>05.06.2024</td>\n",
       "      <td>Поддержать соревнование</td>\n",
       "      <td>Пожертвования</td>\n",
       "      <td>Posted</td>\n",
       "      <td>Да</td>\n",
       "      <td>130</td>\n",
       "      <td>130</td>\n",
       "      <td>0</td>\n",
       "      <td>Да</td>\n",
       "      <td>...</td>\n",
       "      <td>21.03.2024</td>\n",
       "      <td>Париж</td>\n",
       "      <td>NaN</td>\n",
       "      <td>NaN</td>\n",
       "      <td>NaN</td>\n",
       "      <td>Ж</td>\n",
       "      <td>21.03.2024</td>\n",
       "      <td>05.06.2024</td>\n",
       "      <td>f207</td>\n",
       "      <td>126.1</td>\n",
       "    </tr>\n",
       "    <tr>\n",
       "      <th>4</th>\n",
       "      <td>382427</td>\n",
       "      <td>05.06.2024</td>\n",
       "      <td>Разовое пожертвование в БФ \"Синдром любви\"</td>\n",
       "      <td>Пожертвования</td>\n",
       "      <td>Posted</td>\n",
       "      <td>Да</td>\n",
       "      <td>2 500</td>\n",
       "      <td>2 500</td>\n",
       "      <td>0</td>\n",
       "      <td>Да</td>\n",
       "      <td>...</td>\n",
       "      <td>03.08.2022</td>\n",
       "      <td>г Москва</td>\n",
       "      <td>Россия</td>\n",
       "      <td>г Москва</td>\n",
       "      <td>10.04.2022</td>\n",
       "      <td>0</td>\n",
       "      <td>10.04.2022</td>\n",
       "      <td>05.06.2024</td>\n",
       "      <td>f214</td>\n",
       "      <td>2427.5</td>\n",
       "    </tr>\n",
       "  </tbody>\n",
       "</table>\n",
       "<p>5 rows × 21 columns</p>\n",
       "</div>"
      ],
      "text/plain": [
       "       ID Дата начала (Минимальное)  \\\n",
       "0  382389                05.06.2024   \n",
       "1  382391                05.06.2024   \n",
       "2  382399                05.06.2024   \n",
       "3  382423                05.06.2024   \n",
       "4  382427                05.06.2024   \n",
       "\n",
       "                                      Комментарий Направление сделки  \\\n",
       "0  Ежемесячное пожертвование в БФ \"Синдром любви\"      Пожертвования   \n",
       "1                         Поддержать соревнование      Пожертвования   \n",
       "2  Ежемесячное пожертвование в БФ \"Синдром любви\"      Пожертвования   \n",
       "3                         Поддержать соревнование      Пожертвования   \n",
       "4      Разовое пожертвование в БФ \"Синдром любви\"      Пожертвования   \n",
       "\n",
       "  Стадия сделки В стадии: Удачно Ожидаемая сумма Полученная сумма  \\\n",
       "0   Prospecting              Нет             500                0   \n",
       "1        Posted               Да             500              500   \n",
       "2        Posted               Да           1 000            1 000   \n",
       "3        Posted               Да             130              130   \n",
       "4        Posted               Да           2 500            2 500   \n",
       "\n",
       "  Утраченная сумма Повторная сделка  ...  Контакт: Дата создания  \\\n",
       "0              500               Да  ...              05.08.2023   \n",
       "1                0               Да  ...              09.01.2024   \n",
       "2                0               Да  ...              03.08.2022   \n",
       "3                0               Да  ...              21.03.2024   \n",
       "4                0               Да  ...              03.08.2022   \n",
       "\n",
       "  Контакт: Город_ Контакт: Страна_ Контакт: Регион_  \\\n",
       "0            Вена              NaN              NaN   \n",
       "1           Химки              NaN              NaN   \n",
       "2          Москва           Россия           Москва   \n",
       "3           Париж              NaN              NaN   \n",
       "4        г Москва           Россия         г Москва   \n",
       "\n",
       "  Контакт: Дата создания в базе Контакт: Пол  \\\n",
       "0                    05.08.2023            Ж   \n",
       "1                    09.01.2024            0   \n",
       "2                    30.07.2015            0   \n",
       "3                           NaN            Ж   \n",
       "4                    10.04.2022            0   \n",
       "\n",
       "  Контакт: Аналитика: Дата первого пожертвования Датавремя платежа  \\\n",
       "0                                     05.08.2023        05.06.2024   \n",
       "1                                     02.01.2024        05.06.2024   \n",
       "2                                     30.10.2012        05.06.2024   \n",
       "3                                     21.03.2024        05.06.2024   \n",
       "4                                     10.04.2022        05.06.2024   \n",
       "\n",
       "  Код (список) Фактическая сумма пожертвования  \n",
       "0         f212                             0.0  \n",
       "1         f207                           485.5  \n",
       "2         f212                           971.0  \n",
       "3         f207                           126.1  \n",
       "4         f214                          2427.5  \n",
       "\n",
       "[5 rows x 21 columns]"
      ]
     },
     "execution_count": 7,
     "metadata": {},
     "output_type": "execute_result"
    }
   ],
   "source": [
    "df.head()"
   ]
  },
  {
   "cell_type": "code",
   "execution_count": 8,
   "id": "570208c0",
   "metadata": {},
   "outputs": [
    {
     "name": "stdout",
     "output_type": "stream",
     "text": [
      "<class 'pandas.core.frame.DataFrame'>\n",
      "RangeIndex: 58161 entries, 0 to 58160\n",
      "Data columns (total 21 columns):\n",
      " #   Column                                          Non-Null Count  Dtype  \n",
      "---  ------                                          --------------  -----  \n",
      " 0   ID                                              58161 non-null  int64  \n",
      " 1   Дата начала (Минимальное)                       58161 non-null  object \n",
      " 2   Комментарий                                     37505 non-null  object \n",
      " 3   Направление сделки                              58161 non-null  object \n",
      " 4   Стадия сделки                                   58161 non-null  object \n",
      " 5   В стадии: Удачно                                58161 non-null  object \n",
      " 6   Ожидаемая сумма                                 58161 non-null  object \n",
      " 7   Полученная сумма                                58161 non-null  object \n",
      " 8   Утраченная сумма                                58161 non-null  object \n",
      " 9   Повторная сделка                                58161 non-null  object \n",
      " 10  Контакт: ID                                     52321 non-null  float64\n",
      " 11  Контакт: Дата создания                          52321 non-null  object \n",
      " 12  Контакт: Город_                                 37225 non-null  object \n",
      " 13  Контакт: Страна_                                33217 non-null  object \n",
      " 14  Контакт: Регион_                                19551 non-null  object \n",
      " 15  Контакт: Дата создания в базе                   48444 non-null  object \n",
      " 16  Контакт: Пол                                    41338 non-null  object \n",
      " 17  Контакт: Аналитика: Дата первого пожертвования  42075 non-null  object \n",
      " 18  Датавремя платежа                               45298 non-null  object \n",
      " 19  Код (список)                                    45231 non-null  object \n",
      " 20  Фактическая сумма пожертвования                 58161 non-null  float64\n",
      "dtypes: float64(2), int64(1), object(18)\n",
      "memory usage: 9.3+ MB\n"
     ]
    }
   ],
   "source": [
    "df.info()"
   ]
  },
  {
   "cell_type": "code",
   "execution_count": null,
   "id": "3000e350",
   "metadata": {},
   "outputs": [],
   "source": []
  },
  {
   "cell_type": "code",
   "execution_count": 9,
   "id": "c7bd60e0",
   "metadata": {},
   "outputs": [],
   "source": [
    "col_sum=['Ожидаемая сумма','Полученная сумма','Утраченная сумма']"
   ]
  },
  {
   "cell_type": "code",
   "execution_count": 13,
   "id": "8019c623",
   "metadata": {},
   "outputs": [],
   "source": [
    "for col in col_sum:\n",
    "    df[col]=df[col].apply(lambda p: float(''.join(filter(str.isdigit, p)))if not p.isnumeric() else float(p))"
   ]
  },
  {
   "cell_type": "code",
   "execution_count": 14,
   "id": "5567497e",
   "metadata": {},
   "outputs": [
    {
     "name": "stdout",
     "output_type": "stream",
     "text": [
      "<class 'pandas.core.frame.DataFrame'>\n",
      "RangeIndex: 58161 entries, 0 to 58160\n",
      "Data columns (total 21 columns):\n",
      " #   Column                                          Non-Null Count  Dtype  \n",
      "---  ------                                          --------------  -----  \n",
      " 0   ID                                              58161 non-null  int64  \n",
      " 1   Дата начала (Минимальное)                       58161 non-null  object \n",
      " 2   Комментарий                                     37505 non-null  object \n",
      " 3   Направление сделки                              58161 non-null  object \n",
      " 4   Стадия сделки                                   58161 non-null  object \n",
      " 5   В стадии: Удачно                                58161 non-null  object \n",
      " 6   Ожидаемая сумма                                 58161 non-null  float64\n",
      " 7   Полученная сумма                                58161 non-null  float64\n",
      " 8   Утраченная сумма                                58161 non-null  float64\n",
      " 9   Повторная сделка                                58161 non-null  object \n",
      " 10  Контакт: ID                                     52321 non-null  float64\n",
      " 11  Контакт: Дата создания                          52321 non-null  object \n",
      " 12  Контакт: Город_                                 37225 non-null  object \n",
      " 13  Контакт: Страна_                                33217 non-null  object \n",
      " 14  Контакт: Регион_                                19551 non-null  object \n",
      " 15  Контакт: Дата создания в базе                   48444 non-null  object \n",
      " 16  Контакт: Пол                                    41338 non-null  object \n",
      " 17  Контакт: Аналитика: Дата первого пожертвования  42075 non-null  object \n",
      " 18  Датавремя платежа                               45298 non-null  object \n",
      " 19  Код (список)                                    45231 non-null  object \n",
      " 20  Фактическая сумма пожертвования                 58161 non-null  float64\n",
      "dtypes: float64(5), int64(1), object(15)\n",
      "memory usage: 9.3+ MB\n"
     ]
    }
   ],
   "source": [
    "df.info()"
   ]
  },
  {
   "cell_type": "code",
   "execution_count": null,
   "id": "db22e9ce",
   "metadata": {},
   "outputs": [],
   "source": []
  },
  {
   "cell_type": "code",
   "execution_count": 22,
   "id": "793104c3",
   "metadata": {},
   "outputs": [],
   "source": [
    "col_date=['Дата начала (Минимальное)', 'Контакт: Аналитика: Дата первого пожертвования','Датавремя платежа']"
   ]
  },
  {
   "cell_type": "code",
   "execution_count": 25,
   "id": "7b9c1f9b",
   "metadata": {},
   "outputs": [
    {
     "name": "stderr",
     "output_type": "stream",
     "text": [
      "/var/folders/xj/_w6nxz9x6270x2jptsqzy58r0000gn/T/ipykernel_27440/2444543996.py:2: UserWarning: Parsing dates in DD/MM/YYYY format when dayfirst=False (the default) was specified. This may lead to inconsistently parsed dates! Specify a format to ensure consistent parsing.\n",
      "  df[col]=pd.to_datetime(df[col],errors = 'coerce')\n"
     ]
    }
   ],
   "source": [
    "for col in col_date:\n",
    "    df[col]=pd.to_datetime(df[col],errors = 'coerce')"
   ]
  },
  {
   "cell_type": "code",
   "execution_count": 26,
   "id": "e0a89b90",
   "metadata": {},
   "outputs": [
    {
     "name": "stdout",
     "output_type": "stream",
     "text": [
      "<class 'pandas.core.frame.DataFrame'>\n",
      "RangeIndex: 58161 entries, 0 to 58160\n",
      "Data columns (total 21 columns):\n",
      " #   Column                                          Non-Null Count  Dtype         \n",
      "---  ------                                          --------------  -----         \n",
      " 0   ID                                              58161 non-null  int64         \n",
      " 1   Дата начала (Минимальное)                       58161 non-null  datetime64[ns]\n",
      " 2   Комментарий                                     37505 non-null  object        \n",
      " 3   Направление сделки                              58161 non-null  object        \n",
      " 4   Стадия сделки                                   58161 non-null  object        \n",
      " 5   В стадии: Удачно                                58161 non-null  object        \n",
      " 6   Ожидаемая сумма                                 58161 non-null  float64       \n",
      " 7   Полученная сумма                                58161 non-null  float64       \n",
      " 8   Утраченная сумма                                58161 non-null  float64       \n",
      " 9   Повторная сделка                                58161 non-null  object        \n",
      " 10  Контакт: ID                                     52321 non-null  float64       \n",
      " 11  Контакт: Дата создания                          52321 non-null  datetime64[ns]\n",
      " 12  Контакт: Город_                                 37225 non-null  object        \n",
      " 13  Контакт: Страна_                                33217 non-null  object        \n",
      " 14  Контакт: Регион_                                19551 non-null  object        \n",
      " 15  Контакт: Дата создания в базе                   48444 non-null  datetime64[ns]\n",
      " 16  Контакт: Пол                                    41338 non-null  object        \n",
      " 17  Контакт: Аналитика: Дата первого пожертвования  42066 non-null  datetime64[ns]\n",
      " 18  Датавремя платежа                               45298 non-null  datetime64[ns]\n",
      " 19  Код (список)                                    45231 non-null  object        \n",
      " 20  Фактическая сумма пожертвования                 58161 non-null  float64       \n",
      "dtypes: datetime64[ns](5), float64(5), int64(1), object(10)\n",
      "memory usage: 9.3+ MB\n"
     ]
    }
   ],
   "source": [
    "df.info()"
   ]
  },
  {
   "cell_type": "code",
   "execution_count": 30,
   "id": "aa556afb",
   "metadata": {},
   "outputs": [
    {
     "data": {
      "text/plain": [
       "array(['Ж', '0', 'М', nan], dtype=object)"
      ]
     },
     "execution_count": 30,
     "metadata": {},
     "output_type": "execute_result"
    }
   ],
   "source": [
    "df['Контакт: Пол'].unique()"
   ]
  },
  {
   "cell_type": "code",
   "execution_count": 29,
   "id": "18242b91",
   "metadata": {},
   "outputs": [],
   "source": [
    "with open('output.csv', mode='w', newline='') as file:\n",
    "    csv_writer = csv.writer(file)\n",
    "    csv_writer.writerows(df)"
   ]
  },
  {
   "cell_type": "code",
   "execution_count": 31,
   "id": "3c6f6524",
   "metadata": {},
   "outputs": [
    {
     "data": {
      "text/html": [
       "<div>\n",
       "<style scoped>\n",
       "    .dataframe tbody tr th:only-of-type {\n",
       "        vertical-align: middle;\n",
       "    }\n",
       "\n",
       "    .dataframe tbody tr th {\n",
       "        vertical-align: top;\n",
       "    }\n",
       "\n",
       "    .dataframe thead th {\n",
       "        text-align: right;\n",
       "    }\n",
       "</style>\n",
       "<table border=\"1\" class=\"dataframe\">\n",
       "  <thead>\n",
       "    <tr style=\"text-align: right;\">\n",
       "      <th></th>\n",
       "      <th>missing_values</th>\n",
       "      <th>% of total</th>\n",
       "    </tr>\n",
       "  </thead>\n",
       "  <tbody>\n",
       "    <tr>\n",
       "      <th>Контакт: Регион_</th>\n",
       "      <td>38610</td>\n",
       "      <td>66.0</td>\n",
       "    </tr>\n",
       "    <tr>\n",
       "      <th>Контакт: Страна_</th>\n",
       "      <td>24944</td>\n",
       "      <td>43.0</td>\n",
       "    </tr>\n",
       "    <tr>\n",
       "      <th>Контакт: Город_</th>\n",
       "      <td>20936</td>\n",
       "      <td>36.0</td>\n",
       "    </tr>\n",
       "    <tr>\n",
       "      <th>Комментарий</th>\n",
       "      <td>20656</td>\n",
       "      <td>36.0</td>\n",
       "    </tr>\n",
       "    <tr>\n",
       "      <th>Контакт: Пол</th>\n",
       "      <td>16823</td>\n",
       "      <td>29.0</td>\n",
       "    </tr>\n",
       "    <tr>\n",
       "      <th>Контакт: Аналитика: Дата первого пожертвования</th>\n",
       "      <td>16095</td>\n",
       "      <td>28.0</td>\n",
       "    </tr>\n",
       "    <tr>\n",
       "      <th>Код (список)</th>\n",
       "      <td>12930</td>\n",
       "      <td>22.0</td>\n",
       "    </tr>\n",
       "    <tr>\n",
       "      <th>Датавремя платежа</th>\n",
       "      <td>12863</td>\n",
       "      <td>22.0</td>\n",
       "    </tr>\n",
       "    <tr>\n",
       "      <th>Контакт: Дата создания в базе</th>\n",
       "      <td>9717</td>\n",
       "      <td>17.0</td>\n",
       "    </tr>\n",
       "    <tr>\n",
       "      <th>Контакт: ID</th>\n",
       "      <td>5840</td>\n",
       "      <td>10.0</td>\n",
       "    </tr>\n",
       "    <tr>\n",
       "      <th>Контакт: Дата создания</th>\n",
       "      <td>5840</td>\n",
       "      <td>10.0</td>\n",
       "    </tr>\n",
       "    <tr>\n",
       "      <th>ID</th>\n",
       "      <td>0</td>\n",
       "      <td>0.0</td>\n",
       "    </tr>\n",
       "    <tr>\n",
       "      <th>Дата начала (Минимальное)</th>\n",
       "      <td>0</td>\n",
       "      <td>0.0</td>\n",
       "    </tr>\n",
       "    <tr>\n",
       "      <th>Повторная сделка</th>\n",
       "      <td>0</td>\n",
       "      <td>0.0</td>\n",
       "    </tr>\n",
       "    <tr>\n",
       "      <th>Утраченная сумма</th>\n",
       "      <td>0</td>\n",
       "      <td>0.0</td>\n",
       "    </tr>\n",
       "    <tr>\n",
       "      <th>Полученная сумма</th>\n",
       "      <td>0</td>\n",
       "      <td>0.0</td>\n",
       "    </tr>\n",
       "    <tr>\n",
       "      <th>Ожидаемая сумма</th>\n",
       "      <td>0</td>\n",
       "      <td>0.0</td>\n",
       "    </tr>\n",
       "    <tr>\n",
       "      <th>В стадии: Удачно</th>\n",
       "      <td>0</td>\n",
       "      <td>0.0</td>\n",
       "    </tr>\n",
       "    <tr>\n",
       "      <th>Стадия сделки</th>\n",
       "      <td>0</td>\n",
       "      <td>0.0</td>\n",
       "    </tr>\n",
       "    <tr>\n",
       "      <th>Направление сделки</th>\n",
       "      <td>0</td>\n",
       "      <td>0.0</td>\n",
       "    </tr>\n",
       "    <tr>\n",
       "      <th>Фактическая сумма пожертвования</th>\n",
       "      <td>0</td>\n",
       "      <td>0.0</td>\n",
       "    </tr>\n",
       "  </tbody>\n",
       "</table>\n",
       "</div>"
      ],
      "text/plain": [
       "                                                missing_values  % of total\n",
       "Контакт: Регион_                                         38610        66.0\n",
       "Контакт: Страна_                                         24944        43.0\n",
       "Контакт: Город_                                          20936        36.0\n",
       "Комментарий                                              20656        36.0\n",
       "Контакт: Пол                                             16823        29.0\n",
       "Контакт: Аналитика: Дата первого пожертвования           16095        28.0\n",
       "Код (список)                                             12930        22.0\n",
       "Датавремя платежа                                        12863        22.0\n",
       "Контакт: Дата создания в базе                             9717        17.0\n",
       "Контакт: ID                                               5840        10.0\n",
       "Контакт: Дата создания                                    5840        10.0\n",
       "ID                                                           0         0.0\n",
       "Дата начала (Минимальное)                                    0         0.0\n",
       "Повторная сделка                                             0         0.0\n",
       "Утраченная сумма                                             0         0.0\n",
       "Полученная сумма                                             0         0.0\n",
       "Ожидаемая сумма                                              0         0.0\n",
       "В стадии: Удачно                                             0         0.0\n",
       "Стадия сделки                                                0         0.0\n",
       "Направление сделки                                           0         0.0\n",
       "Фактическая сумма пожертвования                              0         0.0"
      ]
     },
     "execution_count": 31,
     "metadata": {},
     "output_type": "execute_result"
    }
   ],
   "source": [
    "# проверим пропущенные значения\n",
    "report = df.isna().sum().to_frame()\n",
    "report = report.rename(columns = {0: 'missing_values'})\n",
    "report['% of total'] = (report['missing_values'] / df.shape[0]).round(2)*100\n",
    "report.sort_values(by = 'missing_values', ascending = False)"
   ]
  },
  {
   "cell_type": "markdown",
   "id": "9db9c218",
   "metadata": {},
   "source": [
    "Чтобы установить связь пропусков в столбце balance с данными, добавим столбец, в котором будет отображаться 0 - если пропуска в балансе нет и 1 -  если пропуск есть."
   ]
  },
  {
   "cell_type": "code",
   "execution_count": null,
   "id": "e59fadc7",
   "metadata": {},
   "outputs": [],
   "source": [
    "df['missing_balance'] = np.where(df['balance'].isna(),1,0)\n",
    "df.head()"
   ]
  },
  {
   "cell_type": "code",
   "execution_count": null,
   "id": "6d2135cf",
   "metadata": {},
   "outputs": [],
   "source": [
    "df_corr_balance=df.corr()\n",
    "df_corr_balance=df_corr_balance.drop(['user_id','balance'])\n",
    "df_corr_balance"
   ]
  },
  {
   "cell_type": "code",
   "execution_count": null,
   "id": "ac924da7",
   "metadata": {},
   "outputs": [],
   "source": [
    "sns.heatmap(df_corr_balance.loc[:,['missing_balance']].drop('missing_balance'), annot=True, cmap='vlag', center=0, fmt='.2%')    \n",
    "plt.title('Корреляция пропусков в столбце balance') \n",
    "plt.show()"
   ]
  },
  {
   "cell_type": "code",
   "execution_count": 32,
   "id": "e2a6fd9f",
   "metadata": {},
   "outputs": [
    {
     "name": "stdout",
     "output_type": "stream",
     "text": [
      "Количество дубликатов в таблице: 10672\n"
     ]
    }
   ],
   "source": [
    "# проверим наличие дубликатов\n",
    "\n",
    "print('Количество дубликатов в таблице:', df.duplicated().sum())"
   ]
  },
  {
   "cell_type": "markdown",
   "id": "548f2de7",
   "metadata": {},
   "source": [
    "Проверим на уникальность значения столбцов Контакт: Пол и Контакт: Город_\t\t"
   ]
  },
  {
   "cell_type": "code",
   "execution_count": 34,
   "id": "8389e8f8",
   "metadata": {},
   "outputs": [
    {
     "data": {
      "text/plain": [
       "Москва                        18695\n",
       "Санкт-Петербург                1366\n",
       "г Москва                       1115\n",
       "Екатеринбург                    642\n",
       "Краснодар                       518\n",
       "                              ...  \n",
       "Herndon                           1\n",
       "Charlesbourg                      1\n",
       "Ульчновск                         1\n",
       "пос. Сосенское, Коммунарка        1\n",
       "г Юрга                            1\n",
       "Name: Контакт: Город_, Length: 1538, dtype: int64"
      ]
     },
     "execution_count": 34,
     "metadata": {},
     "output_type": "execute_result"
    }
   ],
   "source": [
    "df['Контакт: Город_'].value_counts()"
   ]
  },
  {
   "cell_type": "code",
   "execution_count": 35,
   "id": "8fa03567",
   "metadata": {},
   "outputs": [
    {
     "data": {
      "text/plain": [
       "0    25075\n",
       "Ж    11277\n",
       "М     4986\n",
       "Name: Контакт: Пол, dtype: int64"
      ]
     },
     "execution_count": 35,
     "metadata": {},
     "output_type": "execute_result"
    }
   ],
   "source": [
    "df['Контакт: Пол'].value_counts()"
   ]
  },
  {
   "cell_type": "code",
   "execution_count": 37,
   "id": "08e21c3a",
   "metadata": {},
   "outputs": [
    {
     "data": {
      "text/plain": [
       "343989.0    200\n",
       "438703.0    186\n",
       "436259.0    138\n",
       "416421.0    127\n",
       "432427.0    106\n",
       "           ... \n",
       "475091.0      1\n",
       "474733.0      1\n",
       "474151.0      1\n",
       "474991.0      1\n",
       "355995.0      1\n",
       "Name: Контакт: ID, Length: 16283, dtype: int64"
      ]
     },
     "execution_count": 37,
     "metadata": {},
     "output_type": "execute_result"
    }
   ],
   "source": [
    "df['Контакт: ID'].value_counts()"
   ]
  },
  {
   "cell_type": "code",
   "execution_count": null,
   "id": "c2bddb16",
   "metadata": {},
   "outputs": [],
   "source": []
  }
 ],
 "metadata": {
  "kernelspec": {
   "display_name": "Python 3 (ipykernel)",
   "language": "python",
   "name": "python3"
  },
  "language_info": {
   "codemirror_mode": {
    "name": "ipython",
    "version": 3
   },
   "file_extension": ".py",
   "mimetype": "text/x-python",
   "name": "python",
   "nbconvert_exporter": "python",
   "pygments_lexer": "ipython3",
   "version": "3.10.9"
  },
  "toc": {
   "base_numbering": 1,
   "nav_menu": {},
   "number_sections": true,
   "sideBar": true,
   "skip_h1_title": true,
   "title_cell": "Table of Contents",
   "title_sidebar": "Contents",
   "toc_cell": true,
   "toc_position": {},
   "toc_section_display": true,
   "toc_window_display": false
  }
 },
 "nbformat": 4,
 "nbformat_minor": 5
}
