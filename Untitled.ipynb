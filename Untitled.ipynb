{
 "cells": [
  {
   "cell_type": "markdown",
   "id": "b7784b0e",
   "metadata": {
    "toc": true
   },
   "source": [
    "<h1>Table of Contents<span class=\"tocSkip\"></span></h1>\n",
    "<div class=\"toc\"><ul class=\"toc-item\"></ul></div>"
   ]
  },
  {
   "cell_type": "markdown",
   "id": "81570fd3-6fc3-4353-b0ba-351fe43b395b",
   "metadata": {},
   "source": [
    "# Анализ данных о клиентах фонда \"Синдром любви\""
   ]
  },
  {
   "cell_type": "markdown",
   "id": "e3496328-c975-4618-8e37-0103614aa166",
   "metadata": {
    "jp-MarkdownHeadingCollapsed": true
   },
   "source": [
    "\n",
    "**Общая задача**\n",
    "Помощь фонду “Синдром любви” с анализом данных о клиентах (жертвователях). \n",
    "\n",
    "**Цель исследования** – выявить ключевые тенденции, сегменты жертвователей и предложить рекомендации по улучшению маркетинговых стратегий фонда.\n",
    "\n",
    "**Ключевые вопросы исследования**\n",
    "\n",
    "1. Динамика основных показателей по годам – как развивается проект?\n",
    "2. Приток новых жертвователей – сколько новых доноров приходит ежемесячно?\n",
    "Тут желательно график с датами, чтобы потом мы могли наложить самые результативные периоды на наши активности по PR.\n",
    "- Сколько новеньких приходит с кодом и сколько без кода. С кодом это значит точно была наша запланированная активность.\n",
    "3. Когортный анализ – сколько пожертвований делает один человек и в каком промежутке времени?\n",
    "- Срок жизни клиента. Через сколько платежей, через какое время и через какую сумму в среднем от пропадёт.\n",
    "- Если там есть данные, то интересно какие самые популярные часы и дни месяца когда больше всего платежей\n",
    "4. RFM-анализ – анализ состояния текущей базы жертвователей за последний год. (пример для понимания: RFM-анализ / Хабр)) \n",
    "5. Социально-демографический и географический портрет доноров (если будет достаточно данных).\n",
    "6. Дополнительные гипотезы и сегментации – любые инсайты, которые помогут заказчику улучшить маркетинг.\n",
    "- Убрать самые крупные пожертвования (больше 200к) и построить график как меняется средняя сумма пожертвования\n",
    "- Редкие жертвователи, кто жертвует не чаще раз в 6мес. В какие даты они просыпаются? В Новогодний период? Есть ли закономерности?\n",
    "\n",
    "\n"
   ]
  },
  {
   "cell_type": "markdown",
   "id": "94b67983-d601-4cfc-a3cc-f3791a49aacd",
   "metadata": {},
   "source": [
    "## Загрузка данных и просмотр общей информации"
   ]
  },
  {
   "cell_type": "code",
   "execution_count": 185,
   "id": "1c0777c9",
   "metadata": {},
   "outputs": [],
   "source": [
    "import pandas as pd\n",
    "import numpy as np\n",
    "import datetime as dt\n",
    "import csv\n",
    "import seaborn as sns\n",
    "import plotly.express as px\n",
    "from matplotlib import pyplot as plt"
   ]
  },
  {
   "cell_type": "code",
   "execution_count": 70,
   "id": "756738da",
   "metadata": {},
   "outputs": [],
   "source": [
    "# создаем список файлов, которые нужно загрузить\n",
    "file_names=['01.01.24-30.06.24.xls','01.07.2024-31.12.2024.xls','01.01.2023-31.06.2023.xls','01.07.2023-31.12.2023.xls','01.01.2022-30.06.2022.xls','01.07.2022-31.12.2022.xls']"
   ]
  },
  {
   "cell_type": "code",
   "execution_count": 71,
   "id": "1d1e4a3f",
   "metadata": {},
   "outputs": [],
   "source": [
    "# создаем список названий необходимых столбцов\n",
    "col_list =['ID','Дата начала (Минимальное)','Комментарий','Направление сделки','Стадия сделки','В стадии: Удачно',\\\n",
    "           'Фактическая сумма пожертвования','Ожидаемая сумма','Полученная сумма','Утраченная сумма','Повторная сделка','Датавремя платежа',\\\n",
    "           'Контакт: ID','Контакт: Дата создания','Контакт: Город_','Контакт: Страна_','Контакт: Регион_','Контакт: Пол',\\\n",
    "           'Компания: ID','Компания: Дата создания','Код (список)']"
   ]
  },
  {
   "cell_type": "code",
   "execution_count": 72,
   "id": "e7e645be",
   "metadata": {},
   "outputs": [],
   "source": [
    "# создадим датафрейм, загрузив файл из списка file_names с индексом 0\n",
    "df = pd.read_html(file_names[0], skiprows=0, header=0)[0]\n",
    "# удаляем все столбцы, кроме выбранных из списка col_list\n",
    "df.drop(columns=df.columns.difference(col_list), inplace=True)"
   ]
  },
  {
   "cell_type": "code",
   "execution_count": 73,
   "id": "df596a12",
   "metadata": {},
   "outputs": [],
   "source": [
    "# запустим цикл, который пройдет по списку с файлами file_names\n",
    "for i in range(1,len(file_names)): \n",
    "    data = pd.read_html(file_names[i], skiprows=0, header=0)[0]# загружаем каждый файл из списка\n",
    "    data.drop(columns=data.columns.difference(col_list), inplace=True)# удаляем все столбцы, кроме выбранных из списка col_list\n",
    "    df = pd.concat([df,data], ignore_index = True) # объединяем таблицы в один датафрейм\n"
   ]
  },
  {
   "cell_type": "code",
   "execution_count": 74,
   "id": "09db089b",
   "metadata": {},
   "outputs": [
    {
     "data": {
      "text/html": [
       "<div>\n",
       "<style scoped>\n",
       "    .dataframe tbody tr th:only-of-type {\n",
       "        vertical-align: middle;\n",
       "    }\n",
       "\n",
       "    .dataframe tbody tr th {\n",
       "        vertical-align: top;\n",
       "    }\n",
       "\n",
       "    .dataframe thead th {\n",
       "        text-align: right;\n",
       "    }\n",
       "</style>\n",
       "<table border=\"1\" class=\"dataframe\">\n",
       "  <thead>\n",
       "    <tr style=\"text-align: right;\">\n",
       "      <th></th>\n",
       "      <th>ID</th>\n",
       "      <th>Дата начала (Минимальное)</th>\n",
       "      <th>Комментарий</th>\n",
       "      <th>Направление сделки</th>\n",
       "      <th>Стадия сделки</th>\n",
       "      <th>В стадии: Удачно</th>\n",
       "      <th>Ожидаемая сумма</th>\n",
       "      <th>Полученная сумма</th>\n",
       "      <th>Утраченная сумма</th>\n",
       "      <th>Повторная сделка</th>\n",
       "      <th>...</th>\n",
       "      <th>Контакт: Дата создания</th>\n",
       "      <th>Контакт: Город_</th>\n",
       "      <th>Контакт: Страна_</th>\n",
       "      <th>Контакт: Регион_</th>\n",
       "      <th>Контакт: Пол</th>\n",
       "      <th>Компания: ID</th>\n",
       "      <th>Компания: Дата создания</th>\n",
       "      <th>Датавремя платежа</th>\n",
       "      <th>Код (список)</th>\n",
       "      <th>Фактическая сумма пожертвования</th>\n",
       "    </tr>\n",
       "  </thead>\n",
       "  <tbody>\n",
       "    <tr>\n",
       "      <th>0</th>\n",
       "      <td>382389</td>\n",
       "      <td>05.06.2024</td>\n",
       "      <td>Ежемесячное пожертвование в БФ \"Синдром любви\"</td>\n",
       "      <td>Пожертвования</td>\n",
       "      <td>Prospecting</td>\n",
       "      <td>Нет</td>\n",
       "      <td>500</td>\n",
       "      <td>0</td>\n",
       "      <td>500</td>\n",
       "      <td>Да</td>\n",
       "      <td>...</td>\n",
       "      <td>05.08.2023</td>\n",
       "      <td>Вена</td>\n",
       "      <td>NaN</td>\n",
       "      <td>NaN</td>\n",
       "      <td>Ж</td>\n",
       "      <td>NaN</td>\n",
       "      <td>NaN</td>\n",
       "      <td>05.06.2024</td>\n",
       "      <td>f212</td>\n",
       "      <td>0.00</td>\n",
       "    </tr>\n",
       "    <tr>\n",
       "      <th>1</th>\n",
       "      <td>382391</td>\n",
       "      <td>05.06.2024</td>\n",
       "      <td>Поддержать соревнование</td>\n",
       "      <td>Пожертвования</td>\n",
       "      <td>Posted</td>\n",
       "      <td>Да</td>\n",
       "      <td>500</td>\n",
       "      <td>500</td>\n",
       "      <td>0</td>\n",
       "      <td>Да</td>\n",
       "      <td>...</td>\n",
       "      <td>09.01.2024</td>\n",
       "      <td>Химки</td>\n",
       "      <td>NaN</td>\n",
       "      <td>NaN</td>\n",
       "      <td>0</td>\n",
       "      <td>NaN</td>\n",
       "      <td>NaN</td>\n",
       "      <td>05.06.2024</td>\n",
       "      <td>f207</td>\n",
       "      <td>485.50</td>\n",
       "    </tr>\n",
       "    <tr>\n",
       "      <th>2</th>\n",
       "      <td>382399</td>\n",
       "      <td>05.06.2024</td>\n",
       "      <td>Ежемесячное пожертвование в БФ \"Синдром любви\"</td>\n",
       "      <td>Пожертвования</td>\n",
       "      <td>Posted</td>\n",
       "      <td>Да</td>\n",
       "      <td>1 000</td>\n",
       "      <td>1 000</td>\n",
       "      <td>0</td>\n",
       "      <td>Да</td>\n",
       "      <td>...</td>\n",
       "      <td>03.08.2022</td>\n",
       "      <td>Москва</td>\n",
       "      <td>Россия</td>\n",
       "      <td>Москва</td>\n",
       "      <td>0</td>\n",
       "      <td>NaN</td>\n",
       "      <td>NaN</td>\n",
       "      <td>05.06.2024</td>\n",
       "      <td>f212</td>\n",
       "      <td>971.00</td>\n",
       "    </tr>\n",
       "    <tr>\n",
       "      <th>3</th>\n",
       "      <td>382423</td>\n",
       "      <td>05.06.2024</td>\n",
       "      <td>Поддержать соревнование</td>\n",
       "      <td>Пожертвования</td>\n",
       "      <td>Posted</td>\n",
       "      <td>Да</td>\n",
       "      <td>130</td>\n",
       "      <td>130</td>\n",
       "      <td>0</td>\n",
       "      <td>Да</td>\n",
       "      <td>...</td>\n",
       "      <td>21.03.2024</td>\n",
       "      <td>Париж</td>\n",
       "      <td>NaN</td>\n",
       "      <td>NaN</td>\n",
       "      <td>Ж</td>\n",
       "      <td>NaN</td>\n",
       "      <td>NaN</td>\n",
       "      <td>05.06.2024</td>\n",
       "      <td>f207</td>\n",
       "      <td>126.10</td>\n",
       "    </tr>\n",
       "    <tr>\n",
       "      <th>4</th>\n",
       "      <td>382427</td>\n",
       "      <td>05.06.2024</td>\n",
       "      <td>Разовое пожертвование в БФ \"Синдром любви\"</td>\n",
       "      <td>Пожертвования</td>\n",
       "      <td>Posted</td>\n",
       "      <td>Да</td>\n",
       "      <td>2 500</td>\n",
       "      <td>2 500</td>\n",
       "      <td>0</td>\n",
       "      <td>Да</td>\n",
       "      <td>...</td>\n",
       "      <td>03.08.2022</td>\n",
       "      <td>г Москва</td>\n",
       "      <td>Россия</td>\n",
       "      <td>г Москва</td>\n",
       "      <td>0</td>\n",
       "      <td>NaN</td>\n",
       "      <td>NaN</td>\n",
       "      <td>05.06.2024</td>\n",
       "      <td>f214</td>\n",
       "      <td>2427.50</td>\n",
       "    </tr>\n",
       "    <tr>\n",
       "      <th>5</th>\n",
       "      <td>382429</td>\n",
       "      <td>05.06.2024</td>\n",
       "      <td>Поддержать соревнование</td>\n",
       "      <td>Пожертвования</td>\n",
       "      <td>Posted</td>\n",
       "      <td>Да</td>\n",
       "      <td>3 500</td>\n",
       "      <td>3 500</td>\n",
       "      <td>0</td>\n",
       "      <td>Да</td>\n",
       "      <td>...</td>\n",
       "      <td>18.02.2023</td>\n",
       "      <td>Амстердам</td>\n",
       "      <td>NaN</td>\n",
       "      <td>NaN</td>\n",
       "      <td>Ж</td>\n",
       "      <td>NaN</td>\n",
       "      <td>NaN</td>\n",
       "      <td>05.06.2024</td>\n",
       "      <td>f207</td>\n",
       "      <td>3398.50</td>\n",
       "    </tr>\n",
       "    <tr>\n",
       "      <th>6</th>\n",
       "      <td>382457</td>\n",
       "      <td>05.06.2024</td>\n",
       "      <td>Ежемесячное пожертвование в БФ \"Синдром любви\"</td>\n",
       "      <td>Пожертвования</td>\n",
       "      <td>Posted</td>\n",
       "      <td>Да</td>\n",
       "      <td>1 000</td>\n",
       "      <td>1 000</td>\n",
       "      <td>0</td>\n",
       "      <td>Да</td>\n",
       "      <td>...</td>\n",
       "      <td>03.08.2022</td>\n",
       "      <td>Москва</td>\n",
       "      <td>Россия</td>\n",
       "      <td>Москва</td>\n",
       "      <td>0</td>\n",
       "      <td>NaN</td>\n",
       "      <td>NaN</td>\n",
       "      <td>05.06.2024</td>\n",
       "      <td>f212</td>\n",
       "      <td>971.00</td>\n",
       "    </tr>\n",
       "    <tr>\n",
       "      <th>7</th>\n",
       "      <td>382459</td>\n",
       "      <td>05.06.2024</td>\n",
       "      <td>Ежемесячное пожертвование в рамках акции «Ново...</td>\n",
       "      <td>Пожертвования</td>\n",
       "      <td>Posted</td>\n",
       "      <td>Да</td>\n",
       "      <td>1 350</td>\n",
       "      <td>1 350</td>\n",
       "      <td>0</td>\n",
       "      <td>Да</td>\n",
       "      <td>...</td>\n",
       "      <td>18.12.2023</td>\n",
       "      <td>Москва</td>\n",
       "      <td>NaN</td>\n",
       "      <td>NaN</td>\n",
       "      <td>М</td>\n",
       "      <td>NaN</td>\n",
       "      <td>NaN</td>\n",
       "      <td>05.06.2024</td>\n",
       "      <td>f212</td>\n",
       "      <td>1310.85</td>\n",
       "    </tr>\n",
       "    <tr>\n",
       "      <th>8</th>\n",
       "      <td>382487</td>\n",
       "      <td>05.06.2024</td>\n",
       "      <td>Ежемесячное пожертвование в рамках акции «Снов...</td>\n",
       "      <td>Пожертвования</td>\n",
       "      <td>Posted</td>\n",
       "      <td>Да</td>\n",
       "      <td>290</td>\n",
       "      <td>290</td>\n",
       "      <td>0</td>\n",
       "      <td>Да</td>\n",
       "      <td>...</td>\n",
       "      <td>30.08.2022</td>\n",
       "      <td>Москва</td>\n",
       "      <td>NaN</td>\n",
       "      <td>NaN</td>\n",
       "      <td>Ж</td>\n",
       "      <td>NaN</td>\n",
       "      <td>NaN</td>\n",
       "      <td>05.06.2024</td>\n",
       "      <td>f212</td>\n",
       "      <td>281.59</td>\n",
       "    </tr>\n",
       "    <tr>\n",
       "      <th>9</th>\n",
       "      <td>382521</td>\n",
       "      <td>05.06.2024</td>\n",
       "      <td>Поддержать соревнование</td>\n",
       "      <td>Пожертвования</td>\n",
       "      <td>Posted</td>\n",
       "      <td>Да</td>\n",
       "      <td>1 000</td>\n",
       "      <td>1 000</td>\n",
       "      <td>0</td>\n",
       "      <td>Да</td>\n",
       "      <td>...</td>\n",
       "      <td>26.10.2022</td>\n",
       "      <td>Москва</td>\n",
       "      <td>NaN</td>\n",
       "      <td>NaN</td>\n",
       "      <td>0</td>\n",
       "      <td>NaN</td>\n",
       "      <td>NaN</td>\n",
       "      <td>05.06.2024</td>\n",
       "      <td>f207</td>\n",
       "      <td>971.00</td>\n",
       "    </tr>\n",
       "  </tbody>\n",
       "</table>\n",
       "<p>10 rows × 21 columns</p>\n",
       "</div>"
      ],
      "text/plain": [
       "       ID Дата начала (Минимальное)  \\\n",
       "0  382389                05.06.2024   \n",
       "1  382391                05.06.2024   \n",
       "2  382399                05.06.2024   \n",
       "3  382423                05.06.2024   \n",
       "4  382427                05.06.2024   \n",
       "5  382429                05.06.2024   \n",
       "6  382457                05.06.2024   \n",
       "7  382459                05.06.2024   \n",
       "8  382487                05.06.2024   \n",
       "9  382521                05.06.2024   \n",
       "\n",
       "                                         Комментарий Направление сделки  \\\n",
       "0     Ежемесячное пожертвование в БФ \"Синдром любви\"      Пожертвования   \n",
       "1                            Поддержать соревнование      Пожертвования   \n",
       "2     Ежемесячное пожертвование в БФ \"Синдром любви\"      Пожертвования   \n",
       "3                            Поддержать соревнование      Пожертвования   \n",
       "4         Разовое пожертвование в БФ \"Синдром любви\"      Пожертвования   \n",
       "5                            Поддержать соревнование      Пожертвования   \n",
       "6     Ежемесячное пожертвование в БФ \"Синдром любви\"      Пожертвования   \n",
       "7  Ежемесячное пожертвование в рамках акции «Ново...      Пожертвования   \n",
       "8  Ежемесячное пожертвование в рамках акции «Снов...      Пожертвования   \n",
       "9                            Поддержать соревнование      Пожертвования   \n",
       "\n",
       "  Стадия сделки В стадии: Удачно Ожидаемая сумма Полученная сумма  \\\n",
       "0   Prospecting              Нет             500                0   \n",
       "1        Posted               Да             500              500   \n",
       "2        Posted               Да           1 000            1 000   \n",
       "3        Posted               Да             130              130   \n",
       "4        Posted               Да           2 500            2 500   \n",
       "5        Posted               Да           3 500            3 500   \n",
       "6        Posted               Да           1 000            1 000   \n",
       "7        Posted               Да           1 350            1 350   \n",
       "8        Posted               Да             290              290   \n",
       "9        Posted               Да           1 000            1 000   \n",
       "\n",
       "  Утраченная сумма Повторная сделка  ...  Контакт: Дата создания  \\\n",
       "0              500               Да  ...              05.08.2023   \n",
       "1                0               Да  ...              09.01.2024   \n",
       "2                0               Да  ...              03.08.2022   \n",
       "3                0               Да  ...              21.03.2024   \n",
       "4                0               Да  ...              03.08.2022   \n",
       "5                0               Да  ...              18.02.2023   \n",
       "6                0               Да  ...              03.08.2022   \n",
       "7                0               Да  ...              18.12.2023   \n",
       "8                0               Да  ...              30.08.2022   \n",
       "9                0               Да  ...              26.10.2022   \n",
       "\n",
       "  Контакт: Город_ Контакт: Страна_ Контакт: Регион_ Контакт: Пол Компания: ID  \\\n",
       "0            Вена              NaN              NaN            Ж          NaN   \n",
       "1           Химки              NaN              NaN            0          NaN   \n",
       "2          Москва           Россия           Москва            0          NaN   \n",
       "3           Париж              NaN              NaN            Ж          NaN   \n",
       "4        г Москва           Россия         г Москва            0          NaN   \n",
       "5       Амстердам              NaN              NaN            Ж          NaN   \n",
       "6          Москва           Россия           Москва            0          NaN   \n",
       "7          Москва              NaN              NaN            М          NaN   \n",
       "8          Москва              NaN              NaN            Ж          NaN   \n",
       "9          Москва              NaN              NaN            0          NaN   \n",
       "\n",
       "   Компания: Дата создания Датавремя платежа Код (список)  \\\n",
       "0                      NaN        05.06.2024         f212   \n",
       "1                      NaN        05.06.2024         f207   \n",
       "2                      NaN        05.06.2024         f212   \n",
       "3                      NaN        05.06.2024         f207   \n",
       "4                      NaN        05.06.2024         f214   \n",
       "5                      NaN        05.06.2024         f207   \n",
       "6                      NaN        05.06.2024         f212   \n",
       "7                      NaN        05.06.2024         f212   \n",
       "8                      NaN        05.06.2024         f212   \n",
       "9                      NaN        05.06.2024         f207   \n",
       "\n",
       "  Фактическая сумма пожертвования  \n",
       "0                            0.00  \n",
       "1                          485.50  \n",
       "2                          971.00  \n",
       "3                          126.10  \n",
       "4                         2427.50  \n",
       "5                         3398.50  \n",
       "6                          971.00  \n",
       "7                         1310.85  \n",
       "8                          281.59  \n",
       "9                          971.00  \n",
       "\n",
       "[10 rows x 21 columns]"
      ]
     },
     "execution_count": 74,
     "metadata": {},
     "output_type": "execute_result"
    }
   ],
   "source": [
    "df.head(10)"
   ]
  },
  {
   "cell_type": "code",
   "execution_count": 75,
   "id": "570208c0",
   "metadata": {},
   "outputs": [
    {
     "name": "stdout",
     "output_type": "stream",
     "text": [
      "<class 'pandas.core.frame.DataFrame'>\n",
      "RangeIndex: 58161 entries, 0 to 58160\n",
      "Data columns (total 21 columns):\n",
      " #   Column                           Non-Null Count  Dtype  \n",
      "---  ------                           --------------  -----  \n",
      " 0   ID                               58161 non-null  int64  \n",
      " 1   Дата начала (Минимальное)        58161 non-null  object \n",
      " 2   Комментарий                      37505 non-null  object \n",
      " 3   Направление сделки               58161 non-null  object \n",
      " 4   Стадия сделки                    58161 non-null  object \n",
      " 5   В стадии: Удачно                 58161 non-null  object \n",
      " 6   Ожидаемая сумма                  58161 non-null  object \n",
      " 7   Полученная сумма                 58161 non-null  object \n",
      " 8   Утраченная сумма                 58161 non-null  object \n",
      " 9   Повторная сделка                 58161 non-null  object \n",
      " 10  Контакт: ID                      52321 non-null  float64\n",
      " 11  Контакт: Дата создания           52321 non-null  object \n",
      " 12  Контакт: Город_                  37225 non-null  object \n",
      " 13  Контакт: Страна_                 33217 non-null  object \n",
      " 14  Контакт: Регион_                 19551 non-null  object \n",
      " 15  Контакт: Пол                     41338 non-null  object \n",
      " 16  Компания: ID                     617 non-null    float64\n",
      " 17  Компания: Дата создания          617 non-null    object \n",
      " 18  Датавремя платежа                45298 non-null  object \n",
      " 19  Код (список)                     45231 non-null  object \n",
      " 20  Фактическая сумма пожертвования  58161 non-null  float64\n",
      "dtypes: float64(3), int64(1), object(17)\n",
      "memory usage: 9.3+ MB\n"
     ]
    }
   ],
   "source": [
    "df.info()"
   ]
  },
  {
   "cell_type": "markdown",
   "id": "141a69ca-8010-4449-b9f3-a79e7913f965",
   "metadata": {},
   "source": [
    "Итак, данные за период с января 2022 г по 31 декабря 2024 года загружены, из общих 227 столбцов выбрано 20 необходимых. Для удобства изменим наименования столбцов, изменим типы данных, проверим пропущенные значения, дубликаты."
   ]
  },
  {
   "cell_type": "code",
   "execution_count": 76,
   "id": "18242b91",
   "metadata": {},
   "outputs": [],
   "source": [
    "#with open('output.csv', mode='w', newline='') as file:\n",
    "#    csv_writer = csv.writer(file)\n",
    "#    csv_writer.writerows(df)"
   ]
  },
  {
   "cell_type": "markdown",
   "id": "cc40358a-516e-4ea5-8419-4b5bf59e56e5",
   "metadata": {},
   "source": [
    "## Предобработка данных"
   ]
  },
  {
   "cell_type": "markdown",
   "id": "c856cb54-ad17-49d3-983a-3213c8b088fd",
   "metadata": {},
   "source": [
    "### Изменение наименований столбцов"
   ]
  },
  {
   "cell_type": "code",
   "execution_count": 77,
   "id": "263041cb-729d-4777-9084-3d82816c6111",
   "metadata": {},
   "outputs": [],
   "source": [
    "df.rename(columns={'ID': 'id','Дата начала (Минимальное)':'date_min','Комментарий':'comments','Направление сделки':'direction','Стадия сделки':'transaction_stage',\\\n",
    "           'В стадии: Удачно':'successful','Ожидаемая сумма':'expected_sum','Полученная сумма':'received_sum','Утраченная сумма':'lost_sum','Повторная сделка':'repeat_transaction','Датавремя платежа':'payment_date',\\\n",
    "           'Фактическая сумма пожертвования':'fact_sum', 'Контакт: ID':'user_id','Контакт: Дата создания':'user_date','Контакт: Город_':'city',\\\n",
    "           'Контакт: Страна_':'country','Контакт: Регион_':'region','Контакт: Пол':'gender','Компания: ID':'company_id','Компания: Дата создания':'company_date',\\\n",
    "           'Код (список)':'code'}, inplace=True)"
   ]
  },
  {
   "cell_type": "code",
   "execution_count": 78,
   "id": "2c4ac1e4-0334-404f-8c4d-837b183b43cd",
   "metadata": {},
   "outputs": [
    {
     "name": "stdout",
     "output_type": "stream",
     "text": [
      "<class 'pandas.core.frame.DataFrame'>\n",
      "RangeIndex: 58161 entries, 0 to 58160\n",
      "Data columns (total 21 columns):\n",
      " #   Column              Non-Null Count  Dtype  \n",
      "---  ------              --------------  -----  \n",
      " 0   id                  58161 non-null  int64  \n",
      " 1   date_min            58161 non-null  object \n",
      " 2   comments            37505 non-null  object \n",
      " 3   direction           58161 non-null  object \n",
      " 4   transaction_stage   58161 non-null  object \n",
      " 5   successful          58161 non-null  object \n",
      " 6   expected_sum        58161 non-null  object \n",
      " 7   received_sum        58161 non-null  object \n",
      " 8   lost_sum            58161 non-null  object \n",
      " 9   repeat_transaction  58161 non-null  object \n",
      " 10  user_id             52321 non-null  float64\n",
      " 11  user_date           52321 non-null  object \n",
      " 12  city                37225 non-null  object \n",
      " 13  country             33217 non-null  object \n",
      " 14  region              19551 non-null  object \n",
      " 15  gender              41338 non-null  object \n",
      " 16  company_id          617 non-null    float64\n",
      " 17  company_date        617 non-null    object \n",
      " 18  payment_date        45298 non-null  object \n",
      " 19  code                45231 non-null  object \n",
      " 20  fact_sum            58161 non-null  float64\n",
      "dtypes: float64(3), int64(1), object(17)\n",
      "memory usage: 9.3+ MB\n"
     ]
    }
   ],
   "source": [
    "df.info()"
   ]
  },
  {
   "cell_type": "markdown",
   "id": "92d3a2bc-dc86-4f2c-86e0-3b97c7ab45c5",
   "metadata": {},
   "source": [
    "### Обработка пропущенных значений"
   ]
  },
  {
   "cell_type": "code",
   "execution_count": 79,
   "id": "91ce1ac5-1438-439f-ac5c-020cfcd7c7e9",
   "metadata": {},
   "outputs": [
    {
     "data": {
      "text/html": [
       "<div>\n",
       "<style scoped>\n",
       "    .dataframe tbody tr th:only-of-type {\n",
       "        vertical-align: middle;\n",
       "    }\n",
       "\n",
       "    .dataframe tbody tr th {\n",
       "        vertical-align: top;\n",
       "    }\n",
       "\n",
       "    .dataframe thead th {\n",
       "        text-align: right;\n",
       "    }\n",
       "</style>\n",
       "<table border=\"1\" class=\"dataframe\">\n",
       "  <thead>\n",
       "    <tr style=\"text-align: right;\">\n",
       "      <th></th>\n",
       "      <th>missing_values</th>\n",
       "      <th>% of total</th>\n",
       "    </tr>\n",
       "  </thead>\n",
       "  <tbody>\n",
       "    <tr>\n",
       "      <th>company_date</th>\n",
       "      <td>57544</td>\n",
       "      <td>99.0</td>\n",
       "    </tr>\n",
       "    <tr>\n",
       "      <th>company_id</th>\n",
       "      <td>57544</td>\n",
       "      <td>99.0</td>\n",
       "    </tr>\n",
       "    <tr>\n",
       "      <th>region</th>\n",
       "      <td>38610</td>\n",
       "      <td>66.0</td>\n",
       "    </tr>\n",
       "    <tr>\n",
       "      <th>country</th>\n",
       "      <td>24944</td>\n",
       "      <td>43.0</td>\n",
       "    </tr>\n",
       "    <tr>\n",
       "      <th>city</th>\n",
       "      <td>20936</td>\n",
       "      <td>36.0</td>\n",
       "    </tr>\n",
       "    <tr>\n",
       "      <th>comments</th>\n",
       "      <td>20656</td>\n",
       "      <td>36.0</td>\n",
       "    </tr>\n",
       "    <tr>\n",
       "      <th>gender</th>\n",
       "      <td>16823</td>\n",
       "      <td>29.0</td>\n",
       "    </tr>\n",
       "    <tr>\n",
       "      <th>code</th>\n",
       "      <td>12930</td>\n",
       "      <td>22.0</td>\n",
       "    </tr>\n",
       "    <tr>\n",
       "      <th>payment_date</th>\n",
       "      <td>12863</td>\n",
       "      <td>22.0</td>\n",
       "    </tr>\n",
       "    <tr>\n",
       "      <th>user_id</th>\n",
       "      <td>5840</td>\n",
       "      <td>10.0</td>\n",
       "    </tr>\n",
       "    <tr>\n",
       "      <th>user_date</th>\n",
       "      <td>5840</td>\n",
       "      <td>10.0</td>\n",
       "    </tr>\n",
       "    <tr>\n",
       "      <th>id</th>\n",
       "      <td>0</td>\n",
       "      <td>0.0</td>\n",
       "    </tr>\n",
       "    <tr>\n",
       "      <th>date_min</th>\n",
       "      <td>0</td>\n",
       "      <td>0.0</td>\n",
       "    </tr>\n",
       "    <tr>\n",
       "      <th>repeat_transaction</th>\n",
       "      <td>0</td>\n",
       "      <td>0.0</td>\n",
       "    </tr>\n",
       "    <tr>\n",
       "      <th>lost_sum</th>\n",
       "      <td>0</td>\n",
       "      <td>0.0</td>\n",
       "    </tr>\n",
       "    <tr>\n",
       "      <th>received_sum</th>\n",
       "      <td>0</td>\n",
       "      <td>0.0</td>\n",
       "    </tr>\n",
       "    <tr>\n",
       "      <th>expected_sum</th>\n",
       "      <td>0</td>\n",
       "      <td>0.0</td>\n",
       "    </tr>\n",
       "    <tr>\n",
       "      <th>successful</th>\n",
       "      <td>0</td>\n",
       "      <td>0.0</td>\n",
       "    </tr>\n",
       "    <tr>\n",
       "      <th>transaction_stage</th>\n",
       "      <td>0</td>\n",
       "      <td>0.0</td>\n",
       "    </tr>\n",
       "    <tr>\n",
       "      <th>direction</th>\n",
       "      <td>0</td>\n",
       "      <td>0.0</td>\n",
       "    </tr>\n",
       "    <tr>\n",
       "      <th>fact_sum</th>\n",
       "      <td>0</td>\n",
       "      <td>0.0</td>\n",
       "    </tr>\n",
       "  </tbody>\n",
       "</table>\n",
       "</div>"
      ],
      "text/plain": [
       "                    missing_values  % of total\n",
       "company_date                 57544        99.0\n",
       "company_id                   57544        99.0\n",
       "region                       38610        66.0\n",
       "country                      24944        43.0\n",
       "city                         20936        36.0\n",
       "comments                     20656        36.0\n",
       "gender                       16823        29.0\n",
       "code                         12930        22.0\n",
       "payment_date                 12863        22.0\n",
       "user_id                       5840        10.0\n",
       "user_date                     5840        10.0\n",
       "id                               0         0.0\n",
       "date_min                         0         0.0\n",
       "repeat_transaction               0         0.0\n",
       "lost_sum                         0         0.0\n",
       "received_sum                     0         0.0\n",
       "expected_sum                     0         0.0\n",
       "successful                       0         0.0\n",
       "transaction_stage                0         0.0\n",
       "direction                        0         0.0\n",
       "fact_sum                         0         0.0"
      ]
     },
     "execution_count": 79,
     "metadata": {},
     "output_type": "execute_result"
    }
   ],
   "source": [
    "# проверим пропущенные значения\n",
    "report = df.isna().sum().to_frame()\n",
    "report = report.rename(columns = {0: 'missing_values'})\n",
    "report['% of total'] = (report['missing_values'] / df.shape[0]).round(2)*100\n",
    "report.sort_values(by = 'missing_values', ascending = False)"
   ]
  },
  {
   "cell_type": "markdown",
   "id": "ec78ad1b-32e1-4457-9e39-115d3d2201fa",
   "metadata": {},
   "source": [
    "#### Обработка данных в столбце user_id, company_id"
   ]
  },
  {
   "cell_type": "markdown",
   "id": "a9c157fe-a7d0-4749-bfb6-2a20ef7dfc7e",
   "metadata": {},
   "source": [
    "Чтобы установить связь пропусков в столбце user_id с данными, добавим столбец, в котором будет отображаться 0 - если пропуска нет и 1 -  если пропуск есть."
   ]
  },
  {
   "cell_type": "code",
   "execution_count": 80,
   "id": "2a468fd1-6d02-4749-96fe-66cd3fa7a7c4",
   "metadata": {},
   "outputs": [
    {
     "data": {
      "text/html": [
       "<div>\n",
       "<style scoped>\n",
       "    .dataframe tbody tr th:only-of-type {\n",
       "        vertical-align: middle;\n",
       "    }\n",
       "\n",
       "    .dataframe tbody tr th {\n",
       "        vertical-align: top;\n",
       "    }\n",
       "\n",
       "    .dataframe thead th {\n",
       "        text-align: right;\n",
       "    }\n",
       "</style>\n",
       "<table border=\"1\" class=\"dataframe\">\n",
       "  <thead>\n",
       "    <tr style=\"text-align: right;\">\n",
       "      <th></th>\n",
       "      <th>id</th>\n",
       "      <th>date_min</th>\n",
       "      <th>comments</th>\n",
       "      <th>direction</th>\n",
       "      <th>transaction_stage</th>\n",
       "      <th>successful</th>\n",
       "      <th>expected_sum</th>\n",
       "      <th>received_sum</th>\n",
       "      <th>lost_sum</th>\n",
       "      <th>repeat_transaction</th>\n",
       "      <th>...</th>\n",
       "      <th>city</th>\n",
       "      <th>country</th>\n",
       "      <th>region</th>\n",
       "      <th>gender</th>\n",
       "      <th>company_id</th>\n",
       "      <th>company_date</th>\n",
       "      <th>payment_date</th>\n",
       "      <th>code</th>\n",
       "      <th>fact_sum</th>\n",
       "      <th>missing_users</th>\n",
       "    </tr>\n",
       "  </thead>\n",
       "  <tbody>\n",
       "    <tr>\n",
       "      <th>0</th>\n",
       "      <td>382389</td>\n",
       "      <td>05.06.2024</td>\n",
       "      <td>Ежемесячное пожертвование в БФ \"Синдром любви\"</td>\n",
       "      <td>Пожертвования</td>\n",
       "      <td>Prospecting</td>\n",
       "      <td>Нет</td>\n",
       "      <td>500</td>\n",
       "      <td>0</td>\n",
       "      <td>500</td>\n",
       "      <td>Да</td>\n",
       "      <td>...</td>\n",
       "      <td>Вена</td>\n",
       "      <td>NaN</td>\n",
       "      <td>NaN</td>\n",
       "      <td>Ж</td>\n",
       "      <td>NaN</td>\n",
       "      <td>NaN</td>\n",
       "      <td>05.06.2024</td>\n",
       "      <td>f212</td>\n",
       "      <td>0.0</td>\n",
       "      <td>0</td>\n",
       "    </tr>\n",
       "    <tr>\n",
       "      <th>1</th>\n",
       "      <td>382391</td>\n",
       "      <td>05.06.2024</td>\n",
       "      <td>Поддержать соревнование</td>\n",
       "      <td>Пожертвования</td>\n",
       "      <td>Posted</td>\n",
       "      <td>Да</td>\n",
       "      <td>500</td>\n",
       "      <td>500</td>\n",
       "      <td>0</td>\n",
       "      <td>Да</td>\n",
       "      <td>...</td>\n",
       "      <td>Химки</td>\n",
       "      <td>NaN</td>\n",
       "      <td>NaN</td>\n",
       "      <td>0</td>\n",
       "      <td>NaN</td>\n",
       "      <td>NaN</td>\n",
       "      <td>05.06.2024</td>\n",
       "      <td>f207</td>\n",
       "      <td>485.5</td>\n",
       "      <td>0</td>\n",
       "    </tr>\n",
       "    <tr>\n",
       "      <th>2</th>\n",
       "      <td>382399</td>\n",
       "      <td>05.06.2024</td>\n",
       "      <td>Ежемесячное пожертвование в БФ \"Синдром любви\"</td>\n",
       "      <td>Пожертвования</td>\n",
       "      <td>Posted</td>\n",
       "      <td>Да</td>\n",
       "      <td>1 000</td>\n",
       "      <td>1 000</td>\n",
       "      <td>0</td>\n",
       "      <td>Да</td>\n",
       "      <td>...</td>\n",
       "      <td>Москва</td>\n",
       "      <td>Россия</td>\n",
       "      <td>Москва</td>\n",
       "      <td>0</td>\n",
       "      <td>NaN</td>\n",
       "      <td>NaN</td>\n",
       "      <td>05.06.2024</td>\n",
       "      <td>f212</td>\n",
       "      <td>971.0</td>\n",
       "      <td>0</td>\n",
       "    </tr>\n",
       "    <tr>\n",
       "      <th>3</th>\n",
       "      <td>382423</td>\n",
       "      <td>05.06.2024</td>\n",
       "      <td>Поддержать соревнование</td>\n",
       "      <td>Пожертвования</td>\n",
       "      <td>Posted</td>\n",
       "      <td>Да</td>\n",
       "      <td>130</td>\n",
       "      <td>130</td>\n",
       "      <td>0</td>\n",
       "      <td>Да</td>\n",
       "      <td>...</td>\n",
       "      <td>Париж</td>\n",
       "      <td>NaN</td>\n",
       "      <td>NaN</td>\n",
       "      <td>Ж</td>\n",
       "      <td>NaN</td>\n",
       "      <td>NaN</td>\n",
       "      <td>05.06.2024</td>\n",
       "      <td>f207</td>\n",
       "      <td>126.1</td>\n",
       "      <td>0</td>\n",
       "    </tr>\n",
       "    <tr>\n",
       "      <th>4</th>\n",
       "      <td>382427</td>\n",
       "      <td>05.06.2024</td>\n",
       "      <td>Разовое пожертвование в БФ \"Синдром любви\"</td>\n",
       "      <td>Пожертвования</td>\n",
       "      <td>Posted</td>\n",
       "      <td>Да</td>\n",
       "      <td>2 500</td>\n",
       "      <td>2 500</td>\n",
       "      <td>0</td>\n",
       "      <td>Да</td>\n",
       "      <td>...</td>\n",
       "      <td>г Москва</td>\n",
       "      <td>Россия</td>\n",
       "      <td>г Москва</td>\n",
       "      <td>0</td>\n",
       "      <td>NaN</td>\n",
       "      <td>NaN</td>\n",
       "      <td>05.06.2024</td>\n",
       "      <td>f214</td>\n",
       "      <td>2427.5</td>\n",
       "      <td>0</td>\n",
       "    </tr>\n",
       "  </tbody>\n",
       "</table>\n",
       "<p>5 rows × 22 columns</p>\n",
       "</div>"
      ],
      "text/plain": [
       "       id    date_min                                        comments  \\\n",
       "0  382389  05.06.2024  Ежемесячное пожертвование в БФ \"Синдром любви\"   \n",
       "1  382391  05.06.2024                         Поддержать соревнование   \n",
       "2  382399  05.06.2024  Ежемесячное пожертвование в БФ \"Синдром любви\"   \n",
       "3  382423  05.06.2024                         Поддержать соревнование   \n",
       "4  382427  05.06.2024      Разовое пожертвование в БФ \"Синдром любви\"   \n",
       "\n",
       "       direction transaction_stage successful expected_sum received_sum  \\\n",
       "0  Пожертвования       Prospecting        Нет          500            0   \n",
       "1  Пожертвования            Posted         Да          500          500   \n",
       "2  Пожертвования            Posted         Да        1 000        1 000   \n",
       "3  Пожертвования            Posted         Да          130          130   \n",
       "4  Пожертвования            Posted         Да        2 500        2 500   \n",
       "\n",
       "  lost_sum repeat_transaction  ...      city country    region gender  \\\n",
       "0      500                 Да  ...      Вена     NaN       NaN      Ж   \n",
       "1        0                 Да  ...     Химки     NaN       NaN      0   \n",
       "2        0                 Да  ...    Москва  Россия    Москва      0   \n",
       "3        0                 Да  ...     Париж     NaN       NaN      Ж   \n",
       "4        0                 Да  ...  г Москва  Россия  г Москва      0   \n",
       "\n",
       "  company_id company_date  payment_date  code fact_sum missing_users  \n",
       "0        NaN          NaN    05.06.2024  f212      0.0             0  \n",
       "1        NaN          NaN    05.06.2024  f207    485.5             0  \n",
       "2        NaN          NaN    05.06.2024  f212    971.0             0  \n",
       "3        NaN          NaN    05.06.2024  f207    126.1             0  \n",
       "4        NaN          NaN    05.06.2024  f214   2427.5             0  \n",
       "\n",
       "[5 rows x 22 columns]"
      ]
     },
     "execution_count": 80,
     "metadata": {},
     "output_type": "execute_result"
    }
   ],
   "source": [
    "df['missing_users'] = np.where(df['user_id'].isna(),1,0)\n",
    "df.head()"
   ]
  },
  {
   "cell_type": "code",
   "execution_count": 81,
   "id": "42e63738-6f9c-4791-bbda-9a9c41cace09",
   "metadata": {},
   "outputs": [
    {
     "data": {
      "text/html": [
       "<div>\n",
       "<style scoped>\n",
       "    .dataframe tbody tr th:only-of-type {\n",
       "        vertical-align: middle;\n",
       "    }\n",
       "\n",
       "    .dataframe tbody tr th {\n",
       "        vertical-align: top;\n",
       "    }\n",
       "\n",
       "    .dataframe thead th {\n",
       "        text-align: right;\n",
       "    }\n",
       "</style>\n",
       "<table border=\"1\" class=\"dataframe\">\n",
       "  <thead>\n",
       "    <tr style=\"text-align: right;\">\n",
       "      <th></th>\n",
       "      <th>id</th>\n",
       "      <th>date_min</th>\n",
       "      <th>comments</th>\n",
       "      <th>direction</th>\n",
       "      <th>transaction_stage</th>\n",
       "      <th>successful</th>\n",
       "      <th>expected_sum</th>\n",
       "      <th>received_sum</th>\n",
       "      <th>lost_sum</th>\n",
       "      <th>repeat_transaction</th>\n",
       "      <th>...</th>\n",
       "      <th>city</th>\n",
       "      <th>country</th>\n",
       "      <th>region</th>\n",
       "      <th>gender</th>\n",
       "      <th>company_id</th>\n",
       "      <th>company_date</th>\n",
       "      <th>payment_date</th>\n",
       "      <th>code</th>\n",
       "      <th>fact_sum</th>\n",
       "      <th>missing_users</th>\n",
       "    </tr>\n",
       "  </thead>\n",
       "  <tbody>\n",
       "    <tr>\n",
       "      <th>482</th>\n",
       "      <td>348685</td>\n",
       "      <td>01.03.2024</td>\n",
       "      <td>NaN</td>\n",
       "      <td>Таргеты</td>\n",
       "      <td>Closed Lost</td>\n",
       "      <td>Нет</td>\n",
       "      <td>300 000</td>\n",
       "      <td>0</td>\n",
       "      <td>300 000</td>\n",
       "      <td>Нет</td>\n",
       "      <td>...</td>\n",
       "      <td>NaN</td>\n",
       "      <td>NaN</td>\n",
       "      <td>NaN</td>\n",
       "      <td>NaN</td>\n",
       "      <td>NaN</td>\n",
       "      <td>NaN</td>\n",
       "      <td>NaN</td>\n",
       "      <td>NaN</td>\n",
       "      <td>0.0</td>\n",
       "      <td>1</td>\n",
       "    </tr>\n",
       "    <tr>\n",
       "      <th>487</th>\n",
       "      <td>377349</td>\n",
       "      <td>23.04.2024</td>\n",
       "      <td>Должен оплатить лот (виски)</td>\n",
       "      <td>Таргеты</td>\n",
       "      <td>Closed Won</td>\n",
       "      <td>Да</td>\n",
       "      <td>30 000</td>\n",
       "      <td>30 000</td>\n",
       "      <td>0</td>\n",
       "      <td>Да</td>\n",
       "      <td>...</td>\n",
       "      <td>NaN</td>\n",
       "      <td>NaN</td>\n",
       "      <td>NaN</td>\n",
       "      <td>NaN</td>\n",
       "      <td>62283.0</td>\n",
       "      <td>25.04.2024</td>\n",
       "      <td>NaN</td>\n",
       "      <td>f208</td>\n",
       "      <td>30000.0</td>\n",
       "      <td>1</td>\n",
       "    </tr>\n",
       "    <tr>\n",
       "      <th>488</th>\n",
       "      <td>377339</td>\n",
       "      <td>01.03.2024</td>\n",
       "      <td>NaN</td>\n",
       "      <td>Таргеты</td>\n",
       "      <td>Pledged</td>\n",
       "      <td>Нет</td>\n",
       "      <td>500 000</td>\n",
       "      <td>0</td>\n",
       "      <td>0</td>\n",
       "      <td>Нет</td>\n",
       "      <td>...</td>\n",
       "      <td>NaN</td>\n",
       "      <td>NaN</td>\n",
       "      <td>NaN</td>\n",
       "      <td>NaN</td>\n",
       "      <td>62181.0</td>\n",
       "      <td>14.03.2023</td>\n",
       "      <td>NaN</td>\n",
       "      <td>f208</td>\n",
       "      <td>0.0</td>\n",
       "      <td>1</td>\n",
       "    </tr>\n",
       "    <tr>\n",
       "      <th>489</th>\n",
       "      <td>376711</td>\n",
       "      <td>22.03.2024</td>\n",
       "      <td>NaN</td>\n",
       "      <td>Таргеты</td>\n",
       "      <td>Closed Won</td>\n",
       "      <td>Да</td>\n",
       "      <td>0</td>\n",
       "      <td>0</td>\n",
       "      <td>0</td>\n",
       "      <td>Нет</td>\n",
       "      <td>...</td>\n",
       "      <td>NaN</td>\n",
       "      <td>NaN</td>\n",
       "      <td>NaN</td>\n",
       "      <td>NaN</td>\n",
       "      <td>62283.0</td>\n",
       "      <td>25.04.2024</td>\n",
       "      <td>25.03.2024</td>\n",
       "      <td>f109</td>\n",
       "      <td>1260000.0</td>\n",
       "      <td>1</td>\n",
       "    </tr>\n",
       "    <tr>\n",
       "      <th>490</th>\n",
       "      <td>348797</td>\n",
       "      <td>01.12.2023</td>\n",
       "      <td>NaN</td>\n",
       "      <td>Таргеты</td>\n",
       "      <td>Forecast</td>\n",
       "      <td>Нет</td>\n",
       "      <td>400 000</td>\n",
       "      <td>0</td>\n",
       "      <td>0</td>\n",
       "      <td>Нет</td>\n",
       "      <td>...</td>\n",
       "      <td>NaN</td>\n",
       "      <td>NaN</td>\n",
       "      <td>NaN</td>\n",
       "      <td>NaN</td>\n",
       "      <td>NaN</td>\n",
       "      <td>NaN</td>\n",
       "      <td>NaN</td>\n",
       "      <td>f405 соцмаркетинг</td>\n",
       "      <td>0.0</td>\n",
       "      <td>1</td>\n",
       "    </tr>\n",
       "    <tr>\n",
       "      <th>...</th>\n",
       "      <td>...</td>\n",
       "      <td>...</td>\n",
       "      <td>...</td>\n",
       "      <td>...</td>\n",
       "      <td>...</td>\n",
       "      <td>...</td>\n",
       "      <td>...</td>\n",
       "      <td>...</td>\n",
       "      <td>...</td>\n",
       "      <td>...</td>\n",
       "      <td>...</td>\n",
       "      <td>...</td>\n",
       "      <td>...</td>\n",
       "      <td>...</td>\n",
       "      <td>...</td>\n",
       "      <td>...</td>\n",
       "      <td>...</td>\n",
       "      <td>...</td>\n",
       "      <td>...</td>\n",
       "      <td>...</td>\n",
       "      <td>...</td>\n",
       "    </tr>\n",
       "    <tr>\n",
       "      <th>56061</th>\n",
       "      <td>330951</td>\n",
       "      <td>16.12.2022</td>\n",
       "      <td>NaN</td>\n",
       "      <td>Кампании</td>\n",
       "      <td>Planned</td>\n",
       "      <td>Нет</td>\n",
       "      <td>0</td>\n",
       "      <td>0</td>\n",
       "      <td>0</td>\n",
       "      <td>Нет</td>\n",
       "      <td>...</td>\n",
       "      <td>NaN</td>\n",
       "      <td>NaN</td>\n",
       "      <td>NaN</td>\n",
       "      <td>NaN</td>\n",
       "      <td>NaN</td>\n",
       "      <td>NaN</td>\n",
       "      <td>NaN</td>\n",
       "      <td>NaN</td>\n",
       "      <td>0.0</td>\n",
       "      <td>1</td>\n",
       "    </tr>\n",
       "    <tr>\n",
       "      <th>56062</th>\n",
       "      <td>331365</td>\n",
       "      <td>21.12.2022</td>\n",
       "      <td>NaN</td>\n",
       "      <td>Кампании</td>\n",
       "      <td>Planned</td>\n",
       "      <td>Нет</td>\n",
       "      <td>0</td>\n",
       "      <td>0</td>\n",
       "      <td>0</td>\n",
       "      <td>Нет</td>\n",
       "      <td>...</td>\n",
       "      <td>NaN</td>\n",
       "      <td>NaN</td>\n",
       "      <td>NaN</td>\n",
       "      <td>NaN</td>\n",
       "      <td>NaN</td>\n",
       "      <td>NaN</td>\n",
       "      <td>NaN</td>\n",
       "      <td>NaN</td>\n",
       "      <td>0.0</td>\n",
       "      <td>1</td>\n",
       "    </tr>\n",
       "    <tr>\n",
       "      <th>56063</th>\n",
       "      <td>331801</td>\n",
       "      <td>27.12.2022</td>\n",
       "      <td>NaN</td>\n",
       "      <td>Кампании</td>\n",
       "      <td>Planned</td>\n",
       "      <td>Нет</td>\n",
       "      <td>0</td>\n",
       "      <td>0</td>\n",
       "      <td>0</td>\n",
       "      <td>Нет</td>\n",
       "      <td>...</td>\n",
       "      <td>NaN</td>\n",
       "      <td>NaN</td>\n",
       "      <td>NaN</td>\n",
       "      <td>NaN</td>\n",
       "      <td>NaN</td>\n",
       "      <td>NaN</td>\n",
       "      <td>NaN</td>\n",
       "      <td>NaN</td>\n",
       "      <td>0.0</td>\n",
       "      <td>1</td>\n",
       "    </tr>\n",
       "    <tr>\n",
       "      <th>56064</th>\n",
       "      <td>332223</td>\n",
       "      <td>30.12.2022</td>\n",
       "      <td>NaN</td>\n",
       "      <td>Кампании</td>\n",
       "      <td>Planned</td>\n",
       "      <td>Нет</td>\n",
       "      <td>0</td>\n",
       "      <td>0</td>\n",
       "      <td>0</td>\n",
       "      <td>Нет</td>\n",
       "      <td>...</td>\n",
       "      <td>NaN</td>\n",
       "      <td>NaN</td>\n",
       "      <td>NaN</td>\n",
       "      <td>NaN</td>\n",
       "      <td>NaN</td>\n",
       "      <td>NaN</td>\n",
       "      <td>NaN</td>\n",
       "      <td>NaN</td>\n",
       "      <td>0.0</td>\n",
       "      <td>1</td>\n",
       "    </tr>\n",
       "    <tr>\n",
       "      <th>56065</th>\n",
       "      <td>368785</td>\n",
       "      <td>10.02.2021</td>\n",
       "      <td>NaN</td>\n",
       "      <td>Пожертвования</td>\n",
       "      <td>Posted</td>\n",
       "      <td>Да</td>\n",
       "      <td>0.20</td>\n",
       "      <td>0.20</td>\n",
       "      <td>0</td>\n",
       "      <td>Нет</td>\n",
       "      <td>...</td>\n",
       "      <td>NaN</td>\n",
       "      <td>NaN</td>\n",
       "      <td>NaN</td>\n",
       "      <td>NaN</td>\n",
       "      <td>NaN</td>\n",
       "      <td>NaN</td>\n",
       "      <td>10.02.2021</td>\n",
       "      <td>f405</td>\n",
       "      <td>0.0</td>\n",
       "      <td>1</td>\n",
       "    </tr>\n",
       "  </tbody>\n",
       "</table>\n",
       "<p>5840 rows × 22 columns</p>\n",
       "</div>"
      ],
      "text/plain": [
       "           id    date_min                     comments      direction  \\\n",
       "482    348685  01.03.2024                          NaN        Таргеты   \n",
       "487    377349  23.04.2024  Должен оплатить лот (виски)        Таргеты   \n",
       "488    377339  01.03.2024                          NaN        Таргеты   \n",
       "489    376711  22.03.2024                          NaN        Таргеты   \n",
       "490    348797  01.12.2023                          NaN        Таргеты   \n",
       "...       ...         ...                          ...            ...   \n",
       "56061  330951  16.12.2022                          NaN       Кампании   \n",
       "56062  331365  21.12.2022                          NaN       Кампании   \n",
       "56063  331801  27.12.2022                          NaN       Кампании   \n",
       "56064  332223  30.12.2022                          NaN       Кампании   \n",
       "56065  368785  10.02.2021                          NaN  Пожертвования   \n",
       "\n",
       "      transaction_stage successful expected_sum received_sum lost_sum  \\\n",
       "482         Closed Lost        Нет      300 000            0  300 000   \n",
       "487          Closed Won         Да       30 000       30 000        0   \n",
       "488             Pledged        Нет      500 000            0        0   \n",
       "489          Closed Won         Да            0            0        0   \n",
       "490            Forecast        Нет      400 000            0        0   \n",
       "...                 ...        ...          ...          ...      ...   \n",
       "56061           Planned        Нет            0            0        0   \n",
       "56062           Planned        Нет            0            0        0   \n",
       "56063           Planned        Нет            0            0        0   \n",
       "56064           Planned        Нет            0            0        0   \n",
       "56065            Posted         Да         0.20         0.20        0   \n",
       "\n",
       "      repeat_transaction  ...  city country region gender company_id  \\\n",
       "482                  Нет  ...   NaN     NaN    NaN    NaN        NaN   \n",
       "487                   Да  ...   NaN     NaN    NaN    NaN    62283.0   \n",
       "488                  Нет  ...   NaN     NaN    NaN    NaN    62181.0   \n",
       "489                  Нет  ...   NaN     NaN    NaN    NaN    62283.0   \n",
       "490                  Нет  ...   NaN     NaN    NaN    NaN        NaN   \n",
       "...                  ...  ...   ...     ...    ...    ...        ...   \n",
       "56061                Нет  ...   NaN     NaN    NaN    NaN        NaN   \n",
       "56062                Нет  ...   NaN     NaN    NaN    NaN        NaN   \n",
       "56063                Нет  ...   NaN     NaN    NaN    NaN        NaN   \n",
       "56064                Нет  ...   NaN     NaN    NaN    NaN        NaN   \n",
       "56065                Нет  ...   NaN     NaN    NaN    NaN        NaN   \n",
       "\n",
       "      company_date  payment_date               code   fact_sum missing_users  \n",
       "482            NaN           NaN                NaN        0.0             1  \n",
       "487     25.04.2024           NaN               f208    30000.0             1  \n",
       "488     14.03.2023           NaN               f208        0.0             1  \n",
       "489     25.04.2024    25.03.2024               f109  1260000.0             1  \n",
       "490            NaN           NaN  f405 соцмаркетинг        0.0             1  \n",
       "...            ...           ...                ...        ...           ...  \n",
       "56061          NaN           NaN                NaN        0.0             1  \n",
       "56062          NaN           NaN                NaN        0.0             1  \n",
       "56063          NaN           NaN                NaN        0.0             1  \n",
       "56064          NaN           NaN                NaN        0.0             1  \n",
       "56065          NaN    10.02.2021               f405        0.0             1  \n",
       "\n",
       "[5840 rows x 22 columns]"
      ]
     },
     "execution_count": 81,
     "metadata": {},
     "output_type": "execute_result"
    }
   ],
   "source": [
    "# сделаем срез данных с пропусками\n",
    "df.query('missing_users==1')"
   ]
  },
  {
   "cell_type": "markdown",
   "id": "1b51f16c-c3c6-4075-be01-4d7384ac1829",
   "metadata": {},
   "source": [
    "Наличие пропусков в user_id связано с:\n",
    "- неудачная сделка, упущенная сумма\n",
    "- пожертвователем является компания\n",
    "- донор - физическое лицо, первое пожертование.\n",
    "\n",
    "Удалим из датасета строки с признаком \"Нет\" в столбце successful (В стадии: Удачно), а пропуски в user_id заполним 0\n"
   ]
  },
  {
   "cell_type": "code",
   "execution_count": 82,
   "id": "3ca7dc0f-cbbf-4572-86b1-619ef7ac00d5",
   "metadata": {},
   "outputs": [],
   "source": [
    "# заполним пустые значения на 0\n",
    "df['user_id']=df['user_id'].fillna(0)"
   ]
  },
  {
   "cell_type": "code",
   "execution_count": 83,
   "id": "7d693ed9",
   "metadata": {},
   "outputs": [],
   "source": [
    "# изменим тип данных на int\n",
    "df['user_id']=df['user_id'].apply(lambda u: int(u))"
   ]
  },
  {
   "cell_type": "code",
   "execution_count": 84,
   "id": "6e5bd286-fc66-47d8-b951-e2dee3031d0c",
   "metadata": {},
   "outputs": [],
   "source": [
    "df['company_id']=df['company_id'].fillna(0)"
   ]
  },
  {
   "cell_type": "code",
   "execution_count": 85,
   "id": "2ba7ca67",
   "metadata": {},
   "outputs": [],
   "source": [
    "df['company_id']=df['company_id'].apply(lambda c: int(c))"
   ]
  },
  {
   "cell_type": "code",
   "execution_count": 86,
   "id": "d7b077b2-c538-4f1e-9606-82ab388a4e0c",
   "metadata": {},
   "outputs": [],
   "source": [
    "# Удалим  строки с признаком \"Нет\" в столбце successful\n",
    "df = df.drop(df[df['successful'] == \"Нет\"].index)"
   ]
  },
  {
   "cell_type": "markdown",
   "id": "bf04d0e3-c1d8-42d6-b7cc-f90ed10c7d1b",
   "metadata": {},
   "source": [
    "#### Обработка столбцов с суммами"
   ]
  },
  {
   "cell_type": "markdown",
   "id": "7f02783c",
   "metadata": {},
   "source": [
    "Проверим наличие в столбцах полученной суммы и фактической суммы отрицательных значений и равных 0. Изменим тип данных в столбцах с суммами на тип данных float"
   ]
  },
  {
   "cell_type": "code",
   "execution_count": 87,
   "id": "79989541",
   "metadata": {},
   "outputs": [],
   "source": [
    "# создаем список столбцов с суммами\n",
    "col_sum=['expected_sum','received_sum']"
   ]
  },
  {
   "cell_type": "code",
   "execution_count": 88,
   "id": "1d826248",
   "metadata": {},
   "outputs": [],
   "source": [
    "for col in col_sum:\n",
    "    df[col]=df[col].apply(lambda p: float(''.join(filter(str.isdigit, p)))if not p.isnumeric() else float(p))"
   ]
  },
  {
   "cell_type": "code",
   "execution_count": 89,
   "id": "b7a5681f",
   "metadata": {},
   "outputs": [
    {
     "name": "stdout",
     "output_type": "stream",
     "text": [
      "<class 'pandas.core.frame.DataFrame'>\n",
      "Index: 46008 entries, 1 to 58160\n",
      "Data columns (total 22 columns):\n",
      " #   Column              Non-Null Count  Dtype  \n",
      "---  ------              --------------  -----  \n",
      " 0   id                  46008 non-null  int64  \n",
      " 1   date_min            46008 non-null  object \n",
      " 2   comments            30449 non-null  object \n",
      " 3   direction           46008 non-null  object \n",
      " 4   transaction_stage   46008 non-null  object \n",
      " 5   successful          46008 non-null  object \n",
      " 6   expected_sum        46008 non-null  float64\n",
      " 7   received_sum        46008 non-null  float64\n",
      " 8   lost_sum            46008 non-null  object \n",
      " 9   repeat_transaction  46008 non-null  object \n",
      " 10  user_id             46008 non-null  int64  \n",
      " 11  user_date           44332 non-null  object \n",
      " 12  city                31697 non-null  object \n",
      " 13  country             27955 non-null  object \n",
      " 14  region              16769 non-null  object \n",
      " 15  gender              34026 non-null  object \n",
      " 16  company_id          46008 non-null  int64  \n",
      " 17  company_date        500 non-null    object \n",
      " 18  payment_date        37259 non-null  object \n",
      " 19  code                37197 non-null  object \n",
      " 20  fact_sum            46008 non-null  float64\n",
      " 21  missing_users       46008 non-null  int32  \n",
      "dtypes: float64(3), int32(1), int64(3), object(15)\n",
      "memory usage: 7.9+ MB\n"
     ]
    }
   ],
   "source": [
    "df.info()"
   ]
  },
  {
   "cell_type": "code",
   "execution_count": 90,
   "id": "862c7d87",
   "metadata": {},
   "outputs": [],
   "source": [
    "# удаляем\n",
    "df=df.drop(df[df['fact_sum'] <= 0].index)"
   ]
  },
  {
   "cell_type": "markdown",
   "id": "2fe74960-a60e-48e3-90e9-2082837bb472",
   "metadata": {},
   "source": [
    "#### Обработка столбцов с датами"
   ]
  },
  {
   "cell_type": "markdown",
   "id": "a8a947be",
   "metadata": {},
   "source": [
    "Посмотрим, с чем связано наличие пропусков в столбце payment_date Дата платежа. Чтобы установить связь пропусков в столбце payment_date с данными, добавим столбец, в котором будет отображаться 0 - если пропуска нет и 1 -  если пропуск есть."
   ]
  },
  {
   "cell_type": "code",
   "execution_count": 91,
   "id": "771129a5",
   "metadata": {},
   "outputs": [
    {
     "data": {
      "text/html": [
       "<div>\n",
       "<style scoped>\n",
       "    .dataframe tbody tr th:only-of-type {\n",
       "        vertical-align: middle;\n",
       "    }\n",
       "\n",
       "    .dataframe tbody tr th {\n",
       "        vertical-align: top;\n",
       "    }\n",
       "\n",
       "    .dataframe thead th {\n",
       "        text-align: right;\n",
       "    }\n",
       "</style>\n",
       "<table border=\"1\" class=\"dataframe\">\n",
       "  <thead>\n",
       "    <tr style=\"text-align: right;\">\n",
       "      <th></th>\n",
       "      <th>id</th>\n",
       "      <th>date_min</th>\n",
       "      <th>comments</th>\n",
       "      <th>direction</th>\n",
       "      <th>transaction_stage</th>\n",
       "      <th>successful</th>\n",
       "      <th>expected_sum</th>\n",
       "      <th>received_sum</th>\n",
       "      <th>lost_sum</th>\n",
       "      <th>repeat_transaction</th>\n",
       "      <th>...</th>\n",
       "      <th>country</th>\n",
       "      <th>region</th>\n",
       "      <th>gender</th>\n",
       "      <th>company_id</th>\n",
       "      <th>company_date</th>\n",
       "      <th>payment_date</th>\n",
       "      <th>code</th>\n",
       "      <th>fact_sum</th>\n",
       "      <th>missing_users</th>\n",
       "      <th>missing_date</th>\n",
       "    </tr>\n",
       "  </thead>\n",
       "  <tbody>\n",
       "    <tr>\n",
       "      <th>1</th>\n",
       "      <td>382391</td>\n",
       "      <td>05.06.2024</td>\n",
       "      <td>Поддержать соревнование</td>\n",
       "      <td>Пожертвования</td>\n",
       "      <td>Posted</td>\n",
       "      <td>Да</td>\n",
       "      <td>500.0</td>\n",
       "      <td>500.0</td>\n",
       "      <td>0</td>\n",
       "      <td>Да</td>\n",
       "      <td>...</td>\n",
       "      <td>NaN</td>\n",
       "      <td>NaN</td>\n",
       "      <td>0</td>\n",
       "      <td>0</td>\n",
       "      <td>NaN</td>\n",
       "      <td>05.06.2024</td>\n",
       "      <td>f207</td>\n",
       "      <td>485.5</td>\n",
       "      <td>0</td>\n",
       "      <td>0</td>\n",
       "    </tr>\n",
       "    <tr>\n",
       "      <th>2</th>\n",
       "      <td>382399</td>\n",
       "      <td>05.06.2024</td>\n",
       "      <td>Ежемесячное пожертвование в БФ \"Синдром любви\"</td>\n",
       "      <td>Пожертвования</td>\n",
       "      <td>Posted</td>\n",
       "      <td>Да</td>\n",
       "      <td>1000.0</td>\n",
       "      <td>1000.0</td>\n",
       "      <td>0</td>\n",
       "      <td>Да</td>\n",
       "      <td>...</td>\n",
       "      <td>Россия</td>\n",
       "      <td>Москва</td>\n",
       "      <td>0</td>\n",
       "      <td>0</td>\n",
       "      <td>NaN</td>\n",
       "      <td>05.06.2024</td>\n",
       "      <td>f212</td>\n",
       "      <td>971.0</td>\n",
       "      <td>0</td>\n",
       "      <td>0</td>\n",
       "    </tr>\n",
       "    <tr>\n",
       "      <th>3</th>\n",
       "      <td>382423</td>\n",
       "      <td>05.06.2024</td>\n",
       "      <td>Поддержать соревнование</td>\n",
       "      <td>Пожертвования</td>\n",
       "      <td>Posted</td>\n",
       "      <td>Да</td>\n",
       "      <td>130.0</td>\n",
       "      <td>130.0</td>\n",
       "      <td>0</td>\n",
       "      <td>Да</td>\n",
       "      <td>...</td>\n",
       "      <td>NaN</td>\n",
       "      <td>NaN</td>\n",
       "      <td>Ж</td>\n",
       "      <td>0</td>\n",
       "      <td>NaN</td>\n",
       "      <td>05.06.2024</td>\n",
       "      <td>f207</td>\n",
       "      <td>126.1</td>\n",
       "      <td>0</td>\n",
       "      <td>0</td>\n",
       "    </tr>\n",
       "    <tr>\n",
       "      <th>4</th>\n",
       "      <td>382427</td>\n",
       "      <td>05.06.2024</td>\n",
       "      <td>Разовое пожертвование в БФ \"Синдром любви\"</td>\n",
       "      <td>Пожертвования</td>\n",
       "      <td>Posted</td>\n",
       "      <td>Да</td>\n",
       "      <td>2500.0</td>\n",
       "      <td>2500.0</td>\n",
       "      <td>0</td>\n",
       "      <td>Да</td>\n",
       "      <td>...</td>\n",
       "      <td>Россия</td>\n",
       "      <td>г Москва</td>\n",
       "      <td>0</td>\n",
       "      <td>0</td>\n",
       "      <td>NaN</td>\n",
       "      <td>05.06.2024</td>\n",
       "      <td>f214</td>\n",
       "      <td>2427.5</td>\n",
       "      <td>0</td>\n",
       "      <td>0</td>\n",
       "    </tr>\n",
       "    <tr>\n",
       "      <th>5</th>\n",
       "      <td>382429</td>\n",
       "      <td>05.06.2024</td>\n",
       "      <td>Поддержать соревнование</td>\n",
       "      <td>Пожертвования</td>\n",
       "      <td>Posted</td>\n",
       "      <td>Да</td>\n",
       "      <td>3500.0</td>\n",
       "      <td>3500.0</td>\n",
       "      <td>0</td>\n",
       "      <td>Да</td>\n",
       "      <td>...</td>\n",
       "      <td>NaN</td>\n",
       "      <td>NaN</td>\n",
       "      <td>Ж</td>\n",
       "      <td>0</td>\n",
       "      <td>NaN</td>\n",
       "      <td>05.06.2024</td>\n",
       "      <td>f207</td>\n",
       "      <td>3398.5</td>\n",
       "      <td>0</td>\n",
       "      <td>0</td>\n",
       "    </tr>\n",
       "  </tbody>\n",
       "</table>\n",
       "<p>5 rows × 23 columns</p>\n",
       "</div>"
      ],
      "text/plain": [
       "       id    date_min                                        comments  \\\n",
       "1  382391  05.06.2024                         Поддержать соревнование   \n",
       "2  382399  05.06.2024  Ежемесячное пожертвование в БФ \"Синдром любви\"   \n",
       "3  382423  05.06.2024                         Поддержать соревнование   \n",
       "4  382427  05.06.2024      Разовое пожертвование в БФ \"Синдром любви\"   \n",
       "5  382429  05.06.2024                         Поддержать соревнование   \n",
       "\n",
       "       direction transaction_stage successful  expected_sum  received_sum  \\\n",
       "1  Пожертвования            Posted         Да         500.0         500.0   \n",
       "2  Пожертвования            Posted         Да        1000.0        1000.0   \n",
       "3  Пожертвования            Posted         Да         130.0         130.0   \n",
       "4  Пожертвования            Posted         Да        2500.0        2500.0   \n",
       "5  Пожертвования            Posted         Да        3500.0        3500.0   \n",
       "\n",
       "  lost_sum repeat_transaction  ...  country    region gender company_id  \\\n",
       "1        0                 Да  ...      NaN       NaN      0          0   \n",
       "2        0                 Да  ...   Россия    Москва      0          0   \n",
       "3        0                 Да  ...      NaN       NaN      Ж          0   \n",
       "4        0                 Да  ...   Россия  г Москва      0          0   \n",
       "5        0                 Да  ...      NaN       NaN      Ж          0   \n",
       "\n",
       "  company_date payment_date  code fact_sum missing_users missing_date  \n",
       "1          NaN   05.06.2024  f207    485.5             0            0  \n",
       "2          NaN   05.06.2024  f212    971.0             0            0  \n",
       "3          NaN   05.06.2024  f207    126.1             0            0  \n",
       "4          NaN   05.06.2024  f214   2427.5             0            0  \n",
       "5          NaN   05.06.2024  f207   3398.5             0            0  \n",
       "\n",
       "[5 rows x 23 columns]"
      ]
     },
     "execution_count": 91,
     "metadata": {},
     "output_type": "execute_result"
    }
   ],
   "source": [
    "df['missing_date'] = np.where(df['payment_date'].isna(),1,0)\n",
    "df.head()"
   ]
  },
  {
   "cell_type": "code",
   "execution_count": 92,
   "id": "48cd8557",
   "metadata": {},
   "outputs": [
    {
     "data": {
      "text/html": [
       "<div>\n",
       "<style scoped>\n",
       "    .dataframe tbody tr th:only-of-type {\n",
       "        vertical-align: middle;\n",
       "    }\n",
       "\n",
       "    .dataframe tbody tr th {\n",
       "        vertical-align: top;\n",
       "    }\n",
       "\n",
       "    .dataframe thead th {\n",
       "        text-align: right;\n",
       "    }\n",
       "</style>\n",
       "<table border=\"1\" class=\"dataframe\">\n",
       "  <thead>\n",
       "    <tr style=\"text-align: right;\">\n",
       "      <th></th>\n",
       "      <th>id</th>\n",
       "      <th>date_min</th>\n",
       "      <th>comments</th>\n",
       "      <th>direction</th>\n",
       "      <th>transaction_stage</th>\n",
       "      <th>successful</th>\n",
       "      <th>expected_sum</th>\n",
       "      <th>received_sum</th>\n",
       "      <th>lost_sum</th>\n",
       "      <th>repeat_transaction</th>\n",
       "      <th>...</th>\n",
       "      <th>country</th>\n",
       "      <th>region</th>\n",
       "      <th>gender</th>\n",
       "      <th>company_id</th>\n",
       "      <th>company_date</th>\n",
       "      <th>payment_date</th>\n",
       "      <th>code</th>\n",
       "      <th>fact_sum</th>\n",
       "      <th>missing_users</th>\n",
       "      <th>missing_date</th>\n",
       "    </tr>\n",
       "  </thead>\n",
       "  <tbody>\n",
       "    <tr>\n",
       "      <th>483</th>\n",
       "      <td>377351</td>\n",
       "      <td>04.03.2024</td>\n",
       "      <td>NaN</td>\n",
       "      <td>Таргеты</td>\n",
       "      <td>Closed Won</td>\n",
       "      <td>Да</td>\n",
       "      <td>0.0</td>\n",
       "      <td>0.0</td>\n",
       "      <td>0</td>\n",
       "      <td>Да</td>\n",
       "      <td>...</td>\n",
       "      <td>NaN</td>\n",
       "      <td>NaN</td>\n",
       "      <td>NaN</td>\n",
       "      <td>56569</td>\n",
       "      <td>22.07.2022</td>\n",
       "      <td>NaN</td>\n",
       "      <td>f405 соцмаркетинг</td>\n",
       "      <td>16800.0</td>\n",
       "      <td>0</td>\n",
       "      <td>1</td>\n",
       "    </tr>\n",
       "    <tr>\n",
       "      <th>484</th>\n",
       "      <td>377335</td>\n",
       "      <td>04.03.2024</td>\n",
       "      <td>NaN</td>\n",
       "      <td>Таргеты</td>\n",
       "      <td>Closed Won</td>\n",
       "      <td>Да</td>\n",
       "      <td>0.0</td>\n",
       "      <td>0.0</td>\n",
       "      <td>0</td>\n",
       "      <td>Да</td>\n",
       "      <td>...</td>\n",
       "      <td>NaN</td>\n",
       "      <td>NaN</td>\n",
       "      <td>NaN</td>\n",
       "      <td>56919</td>\n",
       "      <td>22.07.2022</td>\n",
       "      <td>NaN</td>\n",
       "      <td>f405 соцмаркетинг</td>\n",
       "      <td>55700.0</td>\n",
       "      <td>0</td>\n",
       "      <td>1</td>\n",
       "    </tr>\n",
       "    <tr>\n",
       "      <th>487</th>\n",
       "      <td>377349</td>\n",
       "      <td>23.04.2024</td>\n",
       "      <td>Должен оплатить лот (виски)</td>\n",
       "      <td>Таргеты</td>\n",
       "      <td>Closed Won</td>\n",
       "      <td>Да</td>\n",
       "      <td>30000.0</td>\n",
       "      <td>30000.0</td>\n",
       "      <td>0</td>\n",
       "      <td>Да</td>\n",
       "      <td>...</td>\n",
       "      <td>NaN</td>\n",
       "      <td>NaN</td>\n",
       "      <td>NaN</td>\n",
       "      <td>62283</td>\n",
       "      <td>25.04.2024</td>\n",
       "      <td>NaN</td>\n",
       "      <td>f208</td>\n",
       "      <td>30000.0</td>\n",
       "      <td>1</td>\n",
       "      <td>1</td>\n",
       "    </tr>\n",
       "    <tr>\n",
       "      <th>1485</th>\n",
       "      <td>355053</td>\n",
       "      <td>01.12.2023</td>\n",
       "      <td>NaN</td>\n",
       "      <td>Таргеты</td>\n",
       "      <td>Closed Won</td>\n",
       "      <td>Да</td>\n",
       "      <td>500000.0</td>\n",
       "      <td>500000.0</td>\n",
       "      <td>0</td>\n",
       "      <td>Нет</td>\n",
       "      <td>...</td>\n",
       "      <td>NaN</td>\n",
       "      <td>NaN</td>\n",
       "      <td>NaN</td>\n",
       "      <td>57299</td>\n",
       "      <td>22.07.2022</td>\n",
       "      <td>NaN</td>\n",
       "      <td>f405 соцмаркетинг</td>\n",
       "      <td>153680.0</td>\n",
       "      <td>1</td>\n",
       "      <td>1</td>\n",
       "    </tr>\n",
       "    <tr>\n",
       "      <th>1501</th>\n",
       "      <td>375997</td>\n",
       "      <td>01.05.2024</td>\n",
       "      <td>NaN</td>\n",
       "      <td>Таргеты</td>\n",
       "      <td>Closed Won</td>\n",
       "      <td>Да</td>\n",
       "      <td>1300000.0</td>\n",
       "      <td>1300000.0</td>\n",
       "      <td>0</td>\n",
       "      <td>Да</td>\n",
       "      <td>...</td>\n",
       "      <td>NaN</td>\n",
       "      <td>NaN</td>\n",
       "      <td>NaN</td>\n",
       "      <td>56673</td>\n",
       "      <td>22.07.2022</td>\n",
       "      <td>NaN</td>\n",
       "      <td>f105 программы</td>\n",
       "      <td>1500000.0</td>\n",
       "      <td>0</td>\n",
       "      <td>1</td>\n",
       "    </tr>\n",
       "    <tr>\n",
       "      <th>...</th>\n",
       "      <td>...</td>\n",
       "      <td>...</td>\n",
       "      <td>...</td>\n",
       "      <td>...</td>\n",
       "      <td>...</td>\n",
       "      <td>...</td>\n",
       "      <td>...</td>\n",
       "      <td>...</td>\n",
       "      <td>...</td>\n",
       "      <td>...</td>\n",
       "      <td>...</td>\n",
       "      <td>...</td>\n",
       "      <td>...</td>\n",
       "      <td>...</td>\n",
       "      <td>...</td>\n",
       "      <td>...</td>\n",
       "      <td>...</td>\n",
       "      <td>...</td>\n",
       "      <td>...</td>\n",
       "      <td>...</td>\n",
       "      <td>...</td>\n",
       "    </tr>\n",
       "    <tr>\n",
       "      <th>46851</th>\n",
       "      <td>333049</td>\n",
       "      <td>01.09.2022</td>\n",
       "      <td>NaN</td>\n",
       "      <td>Таргеты</td>\n",
       "      <td>Closed Won</td>\n",
       "      <td>Да</td>\n",
       "      <td>10000.0</td>\n",
       "      <td>10000.0</td>\n",
       "      <td>0</td>\n",
       "      <td>Да</td>\n",
       "      <td>...</td>\n",
       "      <td>NaN</td>\n",
       "      <td>NaN</td>\n",
       "      <td>NaN</td>\n",
       "      <td>57013</td>\n",
       "      <td>22.07.2022</td>\n",
       "      <td>NaN</td>\n",
       "      <td>f405 соцмаркетинг</td>\n",
       "      <td>21930.0</td>\n",
       "      <td>0</td>\n",
       "      <td>1</td>\n",
       "    </tr>\n",
       "    <tr>\n",
       "      <th>46852</th>\n",
       "      <td>333087</td>\n",
       "      <td>05.12.2022</td>\n",
       "      <td>NaN</td>\n",
       "      <td>Таргеты</td>\n",
       "      <td>Closed Won</td>\n",
       "      <td>Да</td>\n",
       "      <td>50000.0</td>\n",
       "      <td>50000.0</td>\n",
       "      <td>0</td>\n",
       "      <td>Да</td>\n",
       "      <td>...</td>\n",
       "      <td>Россия</td>\n",
       "      <td>NaN</td>\n",
       "      <td>0</td>\n",
       "      <td>56893</td>\n",
       "      <td>22.07.2022</td>\n",
       "      <td>NaN</td>\n",
       "      <td>f405 соцмаркетинг</td>\n",
       "      <td>84160.0</td>\n",
       "      <td>0</td>\n",
       "      <td>1</td>\n",
       "    </tr>\n",
       "    <tr>\n",
       "      <th>46853</th>\n",
       "      <td>332877</td>\n",
       "      <td>10.10.2022</td>\n",
       "      <td>NaN</td>\n",
       "      <td>Таргеты</td>\n",
       "      <td>Closed Won</td>\n",
       "      <td>Да</td>\n",
       "      <td>72500.0</td>\n",
       "      <td>72500.0</td>\n",
       "      <td>0</td>\n",
       "      <td>Да</td>\n",
       "      <td>...</td>\n",
       "      <td>NaN</td>\n",
       "      <td>NaN</td>\n",
       "      <td>NaN</td>\n",
       "      <td>56629</td>\n",
       "      <td>22.07.2022</td>\n",
       "      <td>NaN</td>\n",
       "      <td>f405 соцмаркетинг</td>\n",
       "      <td>72500.0</td>\n",
       "      <td>0</td>\n",
       "      <td>1</td>\n",
       "    </tr>\n",
       "    <tr>\n",
       "      <th>46854</th>\n",
       "      <td>332997</td>\n",
       "      <td>12.12.2022</td>\n",
       "      <td>NaN</td>\n",
       "      <td>Таргеты</td>\n",
       "      <td>Closed Won</td>\n",
       "      <td>Да</td>\n",
       "      <td>40910.0</td>\n",
       "      <td>40910.0</td>\n",
       "      <td>0</td>\n",
       "      <td>Да</td>\n",
       "      <td>...</td>\n",
       "      <td>NaN</td>\n",
       "      <td>NaN</td>\n",
       "      <td>NaN</td>\n",
       "      <td>56629</td>\n",
       "      <td>22.07.2022</td>\n",
       "      <td>NaN</td>\n",
       "      <td>f405 соцмаркетинг</td>\n",
       "      <td>40910.0</td>\n",
       "      <td>0</td>\n",
       "      <td>1</td>\n",
       "    </tr>\n",
       "    <tr>\n",
       "      <th>46855</th>\n",
       "      <td>333021</td>\n",
       "      <td>01.12.2022</td>\n",
       "      <td>NaN</td>\n",
       "      <td>Таргеты</td>\n",
       "      <td>Closed Won</td>\n",
       "      <td>Да</td>\n",
       "      <td>8350.0</td>\n",
       "      <td>8350.0</td>\n",
       "      <td>0</td>\n",
       "      <td>Нет</td>\n",
       "      <td>...</td>\n",
       "      <td>NaN</td>\n",
       "      <td>NaN</td>\n",
       "      <td>NaN</td>\n",
       "      <td>62169</td>\n",
       "      <td>12.01.2023</td>\n",
       "      <td>NaN</td>\n",
       "      <td>f405 соцмаркетинг</td>\n",
       "      <td>8350.0</td>\n",
       "      <td>0</td>\n",
       "      <td>1</td>\n",
       "    </tr>\n",
       "  </tbody>\n",
       "</table>\n",
       "<p>139 rows × 23 columns</p>\n",
       "</div>"
      ],
      "text/plain": [
       "           id    date_min                     comments direction  \\\n",
       "483    377351  04.03.2024                          NaN   Таргеты   \n",
       "484    377335  04.03.2024                          NaN   Таргеты   \n",
       "487    377349  23.04.2024  Должен оплатить лот (виски)   Таргеты   \n",
       "1485   355053  01.12.2023                          NaN   Таргеты   \n",
       "1501   375997  01.05.2024                          NaN   Таргеты   \n",
       "...       ...         ...                          ...       ...   \n",
       "46851  333049  01.09.2022                          NaN   Таргеты   \n",
       "46852  333087  05.12.2022                          NaN   Таргеты   \n",
       "46853  332877  10.10.2022                          NaN   Таргеты   \n",
       "46854  332997  12.12.2022                          NaN   Таргеты   \n",
       "46855  333021  01.12.2022                          NaN   Таргеты   \n",
       "\n",
       "      transaction_stage successful  expected_sum  received_sum lost_sum  \\\n",
       "483          Closed Won         Да           0.0           0.0        0   \n",
       "484          Closed Won         Да           0.0           0.0        0   \n",
       "487          Closed Won         Да       30000.0       30000.0        0   \n",
       "1485         Closed Won         Да      500000.0      500000.0        0   \n",
       "1501         Closed Won         Да     1300000.0     1300000.0        0   \n",
       "...                 ...        ...           ...           ...      ...   \n",
       "46851        Closed Won         Да       10000.0       10000.0        0   \n",
       "46852        Closed Won         Да       50000.0       50000.0        0   \n",
       "46853        Closed Won         Да       72500.0       72500.0        0   \n",
       "46854        Closed Won         Да       40910.0       40910.0        0   \n",
       "46855        Closed Won         Да        8350.0        8350.0        0   \n",
       "\n",
       "      repeat_transaction  ...  country region gender company_id company_date  \\\n",
       "483                   Да  ...      NaN    NaN    NaN      56569   22.07.2022   \n",
       "484                   Да  ...      NaN    NaN    NaN      56919   22.07.2022   \n",
       "487                   Да  ...      NaN    NaN    NaN      62283   25.04.2024   \n",
       "1485                 Нет  ...      NaN    NaN    NaN      57299   22.07.2022   \n",
       "1501                  Да  ...      NaN    NaN    NaN      56673   22.07.2022   \n",
       "...                  ...  ...      ...    ...    ...        ...          ...   \n",
       "46851                 Да  ...      NaN    NaN    NaN      57013   22.07.2022   \n",
       "46852                 Да  ...   Россия    NaN      0      56893   22.07.2022   \n",
       "46853                 Да  ...      NaN    NaN    NaN      56629   22.07.2022   \n",
       "46854                 Да  ...      NaN    NaN    NaN      56629   22.07.2022   \n",
       "46855                Нет  ...      NaN    NaN    NaN      62169   12.01.2023   \n",
       "\n",
       "      payment_date               code   fact_sum missing_users missing_date  \n",
       "483            NaN  f405 соцмаркетинг    16800.0             0            1  \n",
       "484            NaN  f405 соцмаркетинг    55700.0             0            1  \n",
       "487            NaN               f208    30000.0             1            1  \n",
       "1485           NaN  f405 соцмаркетинг   153680.0             1            1  \n",
       "1501           NaN     f105 программы  1500000.0             0            1  \n",
       "...            ...                ...        ...           ...          ...  \n",
       "46851          NaN  f405 соцмаркетинг    21930.0             0            1  \n",
       "46852          NaN  f405 соцмаркетинг    84160.0             0            1  \n",
       "46853          NaN  f405 соцмаркетинг    72500.0             0            1  \n",
       "46854          NaN  f405 соцмаркетинг    40910.0             0            1  \n",
       "46855          NaN  f405 соцмаркетинг     8350.0             0            1  \n",
       "\n",
       "[139 rows x 23 columns]"
      ]
     },
     "execution_count": 92,
     "metadata": {},
     "output_type": "execute_result"
    }
   ],
   "source": [
    "# сделаем срез данных с пропусками\n",
    "df.query('missing_date==1')"
   ]
  },
  {
   "cell_type": "markdown",
   "id": "bc0f76f8",
   "metadata": {},
   "source": [
    "В основном, дата платежа отсутствует в строках платежей от пожертвователей-юридических лиц. Изменим тип данных в столбцах с датами и заменим на дату минимальную "
   ]
  },
  {
   "cell_type": "code",
   "execution_count": 93,
   "id": "c1c5ca8e",
   "metadata": {},
   "outputs": [],
   "source": [
    "#создаем список столбцов с датами\n",
    "col_date=['date_min','user_date','company_date','payment_date']"
   ]
  },
  {
   "cell_type": "code",
   "execution_count": 94,
   "id": "38c5a509",
   "metadata": {},
   "outputs": [],
   "source": [
    "for col in col_date:\n",
    "    df[col] =  pd.to_datetime(df[col], format='%d.%m.%Y')"
   ]
  },
  {
   "cell_type": "code",
   "execution_count": 146,
   "id": "2c1cb232",
   "metadata": {},
   "outputs": [
    {
     "name": "stderr",
     "output_type": "stream",
     "text": [
      "C:\\Users\\111\\AppData\\Local\\Temp\\ipykernel_3920\\2767533143.py:1: FutureWarning: A value is trying to be set on a copy of a DataFrame or Series through chained assignment using an inplace method.\n",
      "The behavior will change in pandas 3.0. This inplace method will never work because the intermediate object on which we are setting values always behaves as a copy.\n",
      "\n",
      "For example, when doing 'df[col].method(value, inplace=True)', try using 'df.method({col: value}, inplace=True)' or df[col] = df[col].method(value) instead, to perform the operation inplace on the original object.\n",
      "\n",
      "\n",
      "  df['payment_date']=df['payment_date'].fillna(df['date_min'], inplace=True)\n"
     ]
    }
   ],
   "source": [
    "#df['payment_date']=df['payment_date'].fillna(df['date_min'], inplace=True)"
   ]
  },
  {
   "cell_type": "code",
   "execution_count": 147,
   "id": "a7dbd1c7",
   "metadata": {},
   "outputs": [
    {
     "data": {
      "text/html": [
       "<div>\n",
       "<style scoped>\n",
       "    .dataframe tbody tr th:only-of-type {\n",
       "        vertical-align: middle;\n",
       "    }\n",
       "\n",
       "    .dataframe tbody tr th {\n",
       "        vertical-align: top;\n",
       "    }\n",
       "\n",
       "    .dataframe thead th {\n",
       "        text-align: right;\n",
       "    }\n",
       "</style>\n",
       "<table border=\"1\" class=\"dataframe\">\n",
       "  <thead>\n",
       "    <tr style=\"text-align: right;\">\n",
       "      <th></th>\n",
       "      <th>id</th>\n",
       "      <th>date_min</th>\n",
       "      <th>comments</th>\n",
       "      <th>direction</th>\n",
       "      <th>transaction_stage</th>\n",
       "      <th>successful</th>\n",
       "      <th>expected_sum</th>\n",
       "      <th>received_sum</th>\n",
       "      <th>lost_sum</th>\n",
       "      <th>repeat_transaction</th>\n",
       "      <th>...</th>\n",
       "      <th>region</th>\n",
       "      <th>gender</th>\n",
       "      <th>company_id</th>\n",
       "      <th>company_date</th>\n",
       "      <th>payment_date</th>\n",
       "      <th>code</th>\n",
       "      <th>fact_sum</th>\n",
       "      <th>missing_users</th>\n",
       "      <th>missing_date</th>\n",
       "      <th>payment_month</th>\n",
       "    </tr>\n",
       "  </thead>\n",
       "  <tbody>\n",
       "    <tr>\n",
       "      <th>483</th>\n",
       "      <td>377351</td>\n",
       "      <td>2024-03-04</td>\n",
       "      <td>неизвестно</td>\n",
       "      <td>Таргеты</td>\n",
       "      <td>Closed Won</td>\n",
       "      <td>Да</td>\n",
       "      <td>0.0</td>\n",
       "      <td>0.0</td>\n",
       "      <td>0</td>\n",
       "      <td>Да</td>\n",
       "      <td>...</td>\n",
       "      <td>Неизвестно</td>\n",
       "      <td>неизвестно</td>\n",
       "      <td>56569</td>\n",
       "      <td>2022-07-22</td>\n",
       "      <td>None</td>\n",
       "      <td>f405 соцмаркетинг</td>\n",
       "      <td>16800.0</td>\n",
       "      <td>0</td>\n",
       "      <td>1</td>\n",
       "      <td>NaT</td>\n",
       "    </tr>\n",
       "    <tr>\n",
       "      <th>484</th>\n",
       "      <td>377335</td>\n",
       "      <td>2024-03-04</td>\n",
       "      <td>неизвестно</td>\n",
       "      <td>Таргеты</td>\n",
       "      <td>Closed Won</td>\n",
       "      <td>Да</td>\n",
       "      <td>0.0</td>\n",
       "      <td>0.0</td>\n",
       "      <td>0</td>\n",
       "      <td>Да</td>\n",
       "      <td>...</td>\n",
       "      <td>Неизвестно</td>\n",
       "      <td>неизвестно</td>\n",
       "      <td>56919</td>\n",
       "      <td>2022-07-22</td>\n",
       "      <td>None</td>\n",
       "      <td>f405 соцмаркетинг</td>\n",
       "      <td>55700.0</td>\n",
       "      <td>0</td>\n",
       "      <td>1</td>\n",
       "      <td>NaT</td>\n",
       "    </tr>\n",
       "    <tr>\n",
       "      <th>487</th>\n",
       "      <td>377349</td>\n",
       "      <td>2024-04-23</td>\n",
       "      <td>Должен оплатить лот (виски)</td>\n",
       "      <td>Таргеты</td>\n",
       "      <td>Closed Won</td>\n",
       "      <td>Да</td>\n",
       "      <td>30000.0</td>\n",
       "      <td>30000.0</td>\n",
       "      <td>0</td>\n",
       "      <td>Да</td>\n",
       "      <td>...</td>\n",
       "      <td>Неизвестно</td>\n",
       "      <td>неизвестно</td>\n",
       "      <td>62283</td>\n",
       "      <td>2024-04-25</td>\n",
       "      <td>None</td>\n",
       "      <td>f208</td>\n",
       "      <td>30000.0</td>\n",
       "      <td>1</td>\n",
       "      <td>1</td>\n",
       "      <td>NaT</td>\n",
       "    </tr>\n",
       "    <tr>\n",
       "      <th>1485</th>\n",
       "      <td>355053</td>\n",
       "      <td>2023-12-01</td>\n",
       "      <td>неизвестно</td>\n",
       "      <td>Таргеты</td>\n",
       "      <td>Closed Won</td>\n",
       "      <td>Да</td>\n",
       "      <td>500000.0</td>\n",
       "      <td>500000.0</td>\n",
       "      <td>0</td>\n",
       "      <td>Нет</td>\n",
       "      <td>...</td>\n",
       "      <td>Неизвестно</td>\n",
       "      <td>неизвестно</td>\n",
       "      <td>57299</td>\n",
       "      <td>2022-07-22</td>\n",
       "      <td>None</td>\n",
       "      <td>f405 соцмаркетинг</td>\n",
       "      <td>153680.0</td>\n",
       "      <td>1</td>\n",
       "      <td>1</td>\n",
       "      <td>NaT</td>\n",
       "    </tr>\n",
       "    <tr>\n",
       "      <th>1501</th>\n",
       "      <td>375997</td>\n",
       "      <td>2024-05-01</td>\n",
       "      <td>неизвестно</td>\n",
       "      <td>Таргеты</td>\n",
       "      <td>Closed Won</td>\n",
       "      <td>Да</td>\n",
       "      <td>1300000.0</td>\n",
       "      <td>1300000.0</td>\n",
       "      <td>0</td>\n",
       "      <td>Да</td>\n",
       "      <td>...</td>\n",
       "      <td>Неизвестно</td>\n",
       "      <td>неизвестно</td>\n",
       "      <td>56673</td>\n",
       "      <td>2022-07-22</td>\n",
       "      <td>None</td>\n",
       "      <td>f105 программы</td>\n",
       "      <td>1500000.0</td>\n",
       "      <td>0</td>\n",
       "      <td>1</td>\n",
       "      <td>NaT</td>\n",
       "    </tr>\n",
       "    <tr>\n",
       "      <th>...</th>\n",
       "      <td>...</td>\n",
       "      <td>...</td>\n",
       "      <td>...</td>\n",
       "      <td>...</td>\n",
       "      <td>...</td>\n",
       "      <td>...</td>\n",
       "      <td>...</td>\n",
       "      <td>...</td>\n",
       "      <td>...</td>\n",
       "      <td>...</td>\n",
       "      <td>...</td>\n",
       "      <td>...</td>\n",
       "      <td>...</td>\n",
       "      <td>...</td>\n",
       "      <td>...</td>\n",
       "      <td>...</td>\n",
       "      <td>...</td>\n",
       "      <td>...</td>\n",
       "      <td>...</td>\n",
       "      <td>...</td>\n",
       "      <td>...</td>\n",
       "    </tr>\n",
       "    <tr>\n",
       "      <th>31005</th>\n",
       "      <td>360049</td>\n",
       "      <td>2023-10-02</td>\n",
       "      <td>Транш и за забег, и за сайклинг</td>\n",
       "      <td>Таргеты</td>\n",
       "      <td>Closed Won</td>\n",
       "      <td>Да</td>\n",
       "      <td>150000.0</td>\n",
       "      <td>150000.0</td>\n",
       "      <td>0</td>\n",
       "      <td>Нет</td>\n",
       "      <td>...</td>\n",
       "      <td>Неизвестно</td>\n",
       "      <td>неизвестно</td>\n",
       "      <td>62265</td>\n",
       "      <td>2023-11-01</td>\n",
       "      <td>None</td>\n",
       "      <td>f104 забег/трейл</td>\n",
       "      <td>230000.0</td>\n",
       "      <td>0</td>\n",
       "      <td>1</td>\n",
       "      <td>NaT</td>\n",
       "    </tr>\n",
       "    <tr>\n",
       "      <th>46845</th>\n",
       "      <td>333009</td>\n",
       "      <td>2022-09-01</td>\n",
       "      <td>1000 шт. простых карандашей с символикой фонда...</td>\n",
       "      <td>Таргеты</td>\n",
       "      <td>Closed Won</td>\n",
       "      <td>Да</td>\n",
       "      <td>5000.0</td>\n",
       "      <td>5000.0</td>\n",
       "      <td>0</td>\n",
       "      <td>Нет</td>\n",
       "      <td>...</td>\n",
       "      <td>Неизвестно</td>\n",
       "      <td>неизвестно</td>\n",
       "      <td>62159</td>\n",
       "      <td>2022-09-09</td>\n",
       "      <td>None</td>\n",
       "      <td>неизвестно</td>\n",
       "      <td>5000.0</td>\n",
       "      <td>1</td>\n",
       "      <td>1</td>\n",
       "      <td>NaT</td>\n",
       "    </tr>\n",
       "    <tr>\n",
       "      <th>46846</th>\n",
       "      <td>333013</td>\n",
       "      <td>2022-12-01</td>\n",
       "      <td>100 шт. блокнотов с рисунками ребят с символик...</td>\n",
       "      <td>Таргеты</td>\n",
       "      <td>Closed Won</td>\n",
       "      <td>Да</td>\n",
       "      <td>15000.0</td>\n",
       "      <td>15000.0</td>\n",
       "      <td>0</td>\n",
       "      <td>Да</td>\n",
       "      <td>...</td>\n",
       "      <td>Неизвестно</td>\n",
       "      <td>неизвестно</td>\n",
       "      <td>62159</td>\n",
       "      <td>2022-09-09</td>\n",
       "      <td>None</td>\n",
       "      <td>неизвестно</td>\n",
       "      <td>15000.0</td>\n",
       "      <td>1</td>\n",
       "      <td>1</td>\n",
       "      <td>NaT</td>\n",
       "    </tr>\n",
       "    <tr>\n",
       "      <th>46851</th>\n",
       "      <td>333049</td>\n",
       "      <td>2022-09-01</td>\n",
       "      <td>неизвестно</td>\n",
       "      <td>Таргеты</td>\n",
       "      <td>Closed Won</td>\n",
       "      <td>Да</td>\n",
       "      <td>10000.0</td>\n",
       "      <td>10000.0</td>\n",
       "      <td>0</td>\n",
       "      <td>Да</td>\n",
       "      <td>...</td>\n",
       "      <td>Неизвестно</td>\n",
       "      <td>неизвестно</td>\n",
       "      <td>57013</td>\n",
       "      <td>2022-07-22</td>\n",
       "      <td>None</td>\n",
       "      <td>f405 соцмаркетинг</td>\n",
       "      <td>21930.0</td>\n",
       "      <td>0</td>\n",
       "      <td>1</td>\n",
       "      <td>NaT</td>\n",
       "    </tr>\n",
       "    <tr>\n",
       "      <th>46853</th>\n",
       "      <td>332877</td>\n",
       "      <td>2022-10-10</td>\n",
       "      <td>неизвестно</td>\n",
       "      <td>Таргеты</td>\n",
       "      <td>Closed Won</td>\n",
       "      <td>Да</td>\n",
       "      <td>72500.0</td>\n",
       "      <td>72500.0</td>\n",
       "      <td>0</td>\n",
       "      <td>Да</td>\n",
       "      <td>...</td>\n",
       "      <td>Неизвестно</td>\n",
       "      <td>неизвестно</td>\n",
       "      <td>56629</td>\n",
       "      <td>2022-07-22</td>\n",
       "      <td>None</td>\n",
       "      <td>f405 соцмаркетинг</td>\n",
       "      <td>72500.0</td>\n",
       "      <td>0</td>\n",
       "      <td>1</td>\n",
       "      <td>NaT</td>\n",
       "    </tr>\n",
       "  </tbody>\n",
       "</table>\n",
       "<p>81 rows × 24 columns</p>\n",
       "</div>"
      ],
      "text/plain": [
       "           id   date_min                                           comments  \\\n",
       "483    377351 2024-03-04                                         неизвестно   \n",
       "484    377335 2024-03-04                                         неизвестно   \n",
       "487    377349 2024-04-23                        Должен оплатить лот (виски)   \n",
       "1485   355053 2023-12-01                                         неизвестно   \n",
       "1501   375997 2024-05-01                                         неизвестно   \n",
       "...       ...        ...                                                ...   \n",
       "31005  360049 2023-10-02                    Транш и за забег, и за сайклинг   \n",
       "46845  333009 2022-09-01  1000 шт. простых карандашей с символикой фонда...   \n",
       "46846  333013 2022-12-01  100 шт. блокнотов с рисунками ребят с символик...   \n",
       "46851  333049 2022-09-01                                         неизвестно   \n",
       "46853  332877 2022-10-10                                         неизвестно   \n",
       "\n",
       "      direction transaction_stage successful  expected_sum  received_sum  \\\n",
       "483     Таргеты        Closed Won         Да           0.0           0.0   \n",
       "484     Таргеты        Closed Won         Да           0.0           0.0   \n",
       "487     Таргеты        Closed Won         Да       30000.0       30000.0   \n",
       "1485    Таргеты        Closed Won         Да      500000.0      500000.0   \n",
       "1501    Таргеты        Closed Won         Да     1300000.0     1300000.0   \n",
       "...         ...               ...        ...           ...           ...   \n",
       "31005   Таргеты        Closed Won         Да      150000.0      150000.0   \n",
       "46845   Таргеты        Closed Won         Да        5000.0        5000.0   \n",
       "46846   Таргеты        Closed Won         Да       15000.0       15000.0   \n",
       "46851   Таргеты        Closed Won         Да       10000.0       10000.0   \n",
       "46853   Таргеты        Closed Won         Да       72500.0       72500.0   \n",
       "\n",
       "      lost_sum repeat_transaction  ...      region      gender company_id  \\\n",
       "483          0                 Да  ...  Неизвестно  неизвестно      56569   \n",
       "484          0                 Да  ...  Неизвестно  неизвестно      56919   \n",
       "487          0                 Да  ...  Неизвестно  неизвестно      62283   \n",
       "1485         0                Нет  ...  Неизвестно  неизвестно      57299   \n",
       "1501         0                 Да  ...  Неизвестно  неизвестно      56673   \n",
       "...        ...                ...  ...         ...         ...        ...   \n",
       "31005        0                Нет  ...  Неизвестно  неизвестно      62265   \n",
       "46845        0                Нет  ...  Неизвестно  неизвестно      62159   \n",
       "46846        0                 Да  ...  Неизвестно  неизвестно      62159   \n",
       "46851        0                 Да  ...  Неизвестно  неизвестно      57013   \n",
       "46853        0                 Да  ...  Неизвестно  неизвестно      56629   \n",
       "\n",
       "      company_date payment_date               code   fact_sum missing_users  \\\n",
       "483     2022-07-22         None  f405 соцмаркетинг    16800.0             0   \n",
       "484     2022-07-22         None  f405 соцмаркетинг    55700.0             0   \n",
       "487     2024-04-25         None               f208    30000.0             1   \n",
       "1485    2022-07-22         None  f405 соцмаркетинг   153680.0             1   \n",
       "1501    2022-07-22         None     f105 программы  1500000.0             0   \n",
       "...            ...          ...                ...        ...           ...   \n",
       "31005   2023-11-01         None   f104 забег/трейл   230000.0             0   \n",
       "46845   2022-09-09         None         неизвестно     5000.0             1   \n",
       "46846   2022-09-09         None         неизвестно    15000.0             1   \n",
       "46851   2022-07-22         None  f405 соцмаркетинг    21930.0             0   \n",
       "46853   2022-07-22         None  f405 соцмаркетинг    72500.0             0   \n",
       "\n",
       "      missing_date payment_month  \n",
       "483              1           NaT  \n",
       "484              1           NaT  \n",
       "487              1           NaT  \n",
       "1485             1           NaT  \n",
       "1501             1           NaT  \n",
       "...            ...           ...  \n",
       "31005            1           NaT  \n",
       "46845            1           NaT  \n",
       "46846            1           NaT  \n",
       "46851            1           NaT  \n",
       "46853            1           NaT  \n",
       "\n",
       "[81 rows x 24 columns]"
      ]
     },
     "execution_count": 147,
     "metadata": {},
     "output_type": "execute_result"
    }
   ],
   "source": [
    "df.query('missing_date==1')"
   ]
  },
  {
   "cell_type": "markdown",
   "id": "f3674fbd-0bf6-4a97-961d-22bb8737d85d",
   "metadata": {},
   "source": [
    "#### Обработка столбцов 'gender','code','comments', 'direction'"
   ]
  },
  {
   "cell_type": "code",
   "execution_count": 144,
   "id": "aa0b1dfd-0a21-4930-a79e-52cb6f908399",
   "metadata": {},
   "outputs": [],
   "source": [
    "# Заполним пустые значения на \"неизвестно\" в следующих столбцах\n",
    "col_unknown=['gender','code','comments','direction']"
   ]
  },
  {
   "cell_type": "code",
   "execution_count": 145,
   "id": "1d202c95-6163-4572-a696-b26ad8e40e67",
   "metadata": {},
   "outputs": [
    {
     "name": "stdout",
     "output_type": "stream",
     "text": [
      "            Количество  Процент (%)\n",
      "gender                             \n",
      "0                18446        53.11\n",
      "Ж                 8101        23.32\n",
      "неизвестно        4378        12.61\n",
      "М                 3806        10.96\n",
      "                   Количество  Процент (%)\n",
      "code                                      \n",
      "f212                    12411        35.73\n",
      "f207                     3566        10.27\n",
      "f214                     3508        10.10\n",
      "f215                     3364         9.69\n",
      "f211                     2553         7.35\n",
      "f204                     2329         6.71\n",
      "f405                     2175         6.26\n",
      "f405 соцмаркетинг        1491         4.29\n",
      "f112                      950         2.74\n",
      "f517                      717         2.06\n",
      "f114                      309         0.89\n",
      "f209                      274         0.79\n",
      "f216                      186         0.54\n",
      "f208                      183         0.53\n",
      "f201                      177         0.51\n",
      "f210                      174         0.50\n",
      "неизвестно                160         0.46\n",
      "f217                       67         0.19\n",
      "f111                       52         0.15\n",
      "f105 программы             30         0.09\n",
      "f109                       20         0.06\n",
      "f104 забег/трейл           15         0.04\n",
      "инкайнд                    13         0.04\n",
      "f101 сайклинг               4         0.01\n",
      "f103                        2         0.01\n",
      "f106                        1         0.00\n",
      "                                                    Количество  Процент (%)\n",
      "comments                                                                   \n",
      "Ежемесячное пожертвование в БФ \"Синдром любви\"           10433        30.04\n",
      "неизвестно                                                7462        21.49\n",
      "Разовое пожертвование в БФ \"Синдром любви\"                4771        13.74\n",
      "Поддержать соревнование                                   2710         7.80\n",
      "Благотворительный забег «СПОРТ ВО БЛАГО»                  890         2.56\n",
      "Осенний благотворительный забег «Спорт во благо...         503         1.45\n",
      "Благотворительный забег «СПОРТ ВО БЛАГО»                   400         1.15\n",
      "Пожертвование в рамках акции «Апельсины», 280              385         1.11\n",
      "Пожертвование в рамках акции «Апельсины», 590              379         1.09\n",
      "Пожертвование в рамках акции \"Соберём Андрюшу в...         266         0.77\n",
      "Благотворительный осенний забег «СПОРТ ВО БЛАГО»          247         0.71\n",
      "Разовое пожертвование \"День рождения\"                      231         0.67\n",
      "Пожертвование в рамках акции \"Наполним сани чуд...         218         0.63\n",
      "Разовое пожертвование в рамках акции «Новогодни...         216         0.62\n",
      "Разовое пожертвование в рамках акции «Особенное...         215         0.62\n",
      "Разовое пожертвование в рамках акции «Школа нач...         207         0.60\n",
      "Пожертвование в рамках акции \"Соберём Андрюшу в...         205         0.59\n",
      "Разовое пожертвование в рамках акции «Снова в ш...         191         0.55\n",
      "Вступление в команду                                       163         0.47\n",
      "Пожертвование в рамках акции \"Наполним сани чуд...         156         0.45\n",
      "Разовое пожертвование в рамках акции «Новогодни...         154         0.44\n",
      "Пожертвование в рамках акции «Апельсины», 1350             141         0.41\n",
      "Разовое пожертвование \"День рождения \"                     140         0.40\n",
      "Разовое пожертвование в рамках акции «Школа нач...         138         0.40\n",
      "Разовое пожертвование в рамках акции «Снова в ш...         129         0.37\n",
      "Разовое пожертвование в рамках акции «Новогодни...         127         0.37\n",
      "Разовое пожертвование в рамках акции «Особенное...         123         0.35\n",
      "Пожертвование в рамках акции \"Соберём Андрюшу в...         121         0.35\n",
      "Пожертвование в рамках акции \"Наполним сани чуд...         112         0.32\n",
      "Пожертвование в рамках акции \"Наполним сани чуд...          95         0.27\n",
      "Разовое пожертвование в рамках акции «Новогодни...          93         0.27\n",
      "Пожертвование в рамках акции «Апельсины», 2760              90         0.26\n",
      "Пожертвование в рамках акции \"Соберём Андрюшу в...          89         0.26\n",
      "Разовое пожертвование в рамках акции «Особенное...          88         0.25\n",
      "Разовое пожертвование \"25 лет помощи людям с си...          87         0.25\n",
      "Разовое пожертвование в Благотворительный фонд ...          82         0.24\n",
      "Разовое пожертвование \"Академия успеха Атоми в ...          73         0.21\n",
      "Разовое пожертвование \"Добрый юбилей \"                      69         0.20\n",
      "Разовое пожертвование в рамках акции «Снова в ш...          63         0.18\n",
      "Разовое пожертвование в рамках акции «Школа нач...          62         0.18\n",
      "Ежемесячное пожертвование в рамках акции «Снова...          62         0.18\n",
      "Пожертвование в рамках акции \"Наполним сани чуд...          61         0.18\n",
      "Пожертвование в рамках акции «Апельсины», 1990              61         0.18\n",
      "Разовое пожертвование \"Новолетие\"                           56         0.16\n",
      "Ежемесячное пожертвование в рамках акции «Новог...          54         0.16\n",
      "Разовое пожертвование в рамках акции «Снова в ш...          53         0.15\n",
      "Пожертвование в рамках акции \"Соберём Андрюшу в...          47         0.14\n",
      "Пожертвование в рамках акции «Дети вместо цвето...          46         0.13\n",
      "Разовое пожертвование \"Благотворительный концер...          40         0.12\n",
      "Пожертвование в рамках акции «Дети вместо цвето...          39         0.11\n",
      "               Количество  Процент (%)\n",
      "direction                             \n",
      "Пожертвования       34550        99.48\n",
      "Таргеты               181         0.52\n"
     ]
    }
   ],
   "source": [
    "for col in col_unknown:\n",
    "    df[col]=df[col].fillna('неизвестно')\n",
    "    comment_stats = df[col].value_counts(dropna=False).to_frame(name='Количество')\n",
    "    comment_stats['Процент (%)'] = (comment_stats['Количество'] / len(df) * 100).round(2)\n",
    "    print(comment_stats.head(50))"
   ]
  },
  {
   "cell_type": "markdown",
   "id": "b3fd816f-d9aa-46cd-a9d1-5c2528231ca8",
   "metadata": {},
   "source": [
    "#### Обработка данных в столбце region"
   ]
  },
  {
   "cell_type": "code",
   "execution_count": 99,
   "id": "28575292-22ca-453f-b6ec-993dda16ea71",
   "metadata": {},
   "outputs": [],
   "source": [
    "df_reg=df['region'].value_counts(dropna=False).to_frame(name='Количество')"
   ]
  },
  {
   "cell_type": "code",
   "execution_count": 100,
   "id": "8abd61b5-8184-4ee0-a81d-9533bbcbcc99",
   "metadata": {},
   "outputs": [
    {
     "data": {
      "text/html": [
       "<div>\n",
       "<style scoped>\n",
       "    .dataframe tbody tr th:only-of-type {\n",
       "        vertical-align: middle;\n",
       "    }\n",
       "\n",
       "    .dataframe tbody tr th {\n",
       "        vertical-align: top;\n",
       "    }\n",
       "\n",
       "    .dataframe thead th {\n",
       "        text-align: right;\n",
       "    }\n",
       "</style>\n",
       "<table border=\"1\" class=\"dataframe\">\n",
       "  <thead>\n",
       "    <tr style=\"text-align: right;\">\n",
       "      <th></th>\n",
       "      <th>Количество</th>\n",
       "    </tr>\n",
       "    <tr>\n",
       "      <th>region</th>\n",
       "      <th></th>\n",
       "    </tr>\n",
       "  </thead>\n",
       "  <tbody>\n",
       "    <tr>\n",
       "      <th>NaN</th>\n",
       "      <td>26528</td>\n",
       "    </tr>\n",
       "    <tr>\n",
       "      <th>Москва</th>\n",
       "      <td>6412</td>\n",
       "    </tr>\n",
       "    <tr>\n",
       "      <th>Московская область</th>\n",
       "      <td>680</td>\n",
       "    </tr>\n",
       "    <tr>\n",
       "      <th>Санкт-Петербург</th>\n",
       "      <td>457</td>\n",
       "    </tr>\n",
       "    <tr>\n",
       "      <th>г Москва</th>\n",
       "      <td>354</td>\n",
       "    </tr>\n",
       "    <tr>\n",
       "      <th>Московская</th>\n",
       "      <td>306</td>\n",
       "    </tr>\n",
       "    <tr>\n",
       "      <th>Московская обл</th>\n",
       "      <td>172</td>\n",
       "    </tr>\n",
       "    <tr>\n",
       "      <th>Краснодарский край</th>\n",
       "      <td>151</td>\n",
       "    </tr>\n",
       "    <tr>\n",
       "      <th>Мурманская область</th>\n",
       "      <td>102</td>\n",
       "    </tr>\n",
       "    <tr>\n",
       "      <th>Республика Татарстан</th>\n",
       "      <td>92</td>\n",
       "    </tr>\n",
       "    <tr>\n",
       "      <th>Новосибирская область</th>\n",
       "      <td>91</td>\n",
       "    </tr>\n",
       "    <tr>\n",
       "      <th>Свердловская область</th>\n",
       "      <td>78</td>\n",
       "    </tr>\n",
       "    <tr>\n",
       "      <th>Нижегородская область</th>\n",
       "      <td>77</td>\n",
       "    </tr>\n",
       "    <tr>\n",
       "      <th>Республика Башкортостан</th>\n",
       "      <td>75</td>\n",
       "    </tr>\n",
       "    <tr>\n",
       "      <th>Пермский край</th>\n",
       "      <td>73</td>\n",
       "    </tr>\n",
       "    <tr>\n",
       "      <th>Ставропольский край</th>\n",
       "      <td>70</td>\n",
       "    </tr>\n",
       "    <tr>\n",
       "      <th>Ульяновская область</th>\n",
       "      <td>64</td>\n",
       "    </tr>\n",
       "    <tr>\n",
       "      <th>Томская область</th>\n",
       "      <td>57</td>\n",
       "    </tr>\n",
       "    <tr>\n",
       "      <th>Республика Коми</th>\n",
       "      <td>57</td>\n",
       "    </tr>\n",
       "    <tr>\n",
       "      <th>ХМАО-Югра</th>\n",
       "      <td>57</td>\n",
       "    </tr>\n",
       "  </tbody>\n",
       "</table>\n",
       "</div>"
      ],
      "text/plain": [
       "                         Количество\n",
       "region                             \n",
       "NaN                           26528\n",
       "Москва                         6412\n",
       "Московская область              680\n",
       "Санкт-Петербург                 457\n",
       "г Москва                        354\n",
       "Московская                      306\n",
       "Московская обл                  172\n",
       "Краснодарский край              151\n",
       "Мурманская область              102\n",
       "Республика Татарстан             92\n",
       "Новосибирская область            91\n",
       "Свердловская область             78\n",
       "Нижегородская область            77\n",
       "Республика Башкортостан          75\n",
       "Пермский край                    73\n",
       "Ставропольский край              70\n",
       "Ульяновская область              64\n",
       "Томская область                  57\n",
       "Республика Коми                  57\n",
       "ХМАО-Югра                        57"
      ]
     },
     "execution_count": 100,
     "metadata": {},
     "output_type": "execute_result"
    }
   ],
   "source": [
    "df_reg.head(20)"
   ]
  },
  {
   "cell_type": "code",
   "execution_count": 101,
   "id": "d1f5539c-b75e-4b74-9665-96428efbb92b",
   "metadata": {},
   "outputs": [
    {
     "data": {
      "text/plain": [
       "array([nan, 'Москва', 'г Москва', 'Московская обл', 'Московская область',\n",
       "       'Смоленская область', 'Ханты-Мансийский Автономный округ - Югра',\n",
       "       'Санкт-Петербург', 'Ярославская обл', 'Московская',\n",
       "       'Сахалинская область', 'Республика Коми', 'Самарская область',\n",
       "       'Ярославская область', 'Камчатский край', 'Томская область',\n",
       "       'Брянская обл', 'ХМАО-Югра', 'Удмуртская Республика',\n",
       "       'Волгоградская', 'Архангельская область', 'Владимирская область',\n",
       "       'Калужская область', 'Ставропольский край', 'Краснодарский край',\n",
       "       'Приморский край', 'Свердловская область', 'Астраханская обл',\n",
       "       'Новосибирская область', 'Амурская обл', 'Пермский край',\n",
       "       'Саратовская область', 'Республика Башкортостан', 'Мурманская обл',\n",
       "       'Орловская область', 'г Санкт-Петербург', 'Респ Татарстан',\n",
       "       'Кировская обл', 'Красноярский край', 'Самарская обл', 'ХМАО',\n",
       "       'Челябинская область', 'Рязанская область', 'Республика Татарстан',\n",
       "       'Нижегородская область', 'Мурманская область', 'Респ Крым',\n",
       "       'Волгоградская область', 'Белгородская область', 'Омская область',\n",
       "       'Ульяновская обл', 'Тюменская обл', 'Респ Дагестан',\n",
       "       'Хабаровский край', 'Белгородская обл.', 'СМОЛЕНСКАЯ ОБЛ',\n",
       "       'Ульяновская область', 'Ленинградская область', 'Алтайский край',\n",
       "       'Воронежская область', 'Иркутская область', 'Смоленская обл',\n",
       "       'Ростовская область', 'Нижегородская обл', 'Htcg Башкортостан',\n",
       "       'Кабардино-Балкарская Респ', 'Ростовская обл', 'Тамбовская обл',\n",
       "       'Пензенская обл', 'Брестская область', 'Респ Башкортостан',\n",
       "       'Новосибирская обл', 'Забайкальский край', 'Удмуртская Респ',\n",
       "       'Республика Бурятия', 'Республика Калмыкия', 'Чеченская Респ',\n",
       "       'Курганская область', 'Кемеровская область - Кузбасс',\n",
       "       'Респ Саха /Якутия', 'Калужская обл', 'Респ Бурятия',\n",
       "       'Псковская область', 'Карачаево-Черкесская Респ', 'Иркутская обл',\n",
       "       'Тульская обл', 'Северная Голландия',\n",
       "       'Чувашская республика - Чувашия', 'Белгородская обл',\n",
       "       'Брянская область', 'Тюменская область', 'Волгоградская обл',\n",
       "       'Челябинская обл', 'Ленинградская обл', 'Орловская обл',\n",
       "       'Владимирская обл',\n",
       "       'Московская область, ул. Чайковского, д. 18/12, кв. 25',\n",
       "       'Карачаево-Черкессия', 'Ростовская обл.', 'Челябинская обл.',\n",
       "       'Костромская область', 'Липецкая область', 'Тульская область',\n",
       "       'Харьюмаа', 'Калининградская обл', 'Новгородская обл',\n",
       "       'Свердловская обл', 'Оренбургская обл', 'Респ Хакасия',\n",
       "       'Рязанская', 'Ивановская область', 'Республика Карелия',\n",
       "       'Вологодская область', 'Мурманская', 'Республика Саха (Якутия)',\n",
       "       'Нижегородская', 'Запорожская обл', 'г Киев', 'Саратовская обл',\n",
       "       'Ханты-Мансийский АО-Югра', 'Томская обл', 'Amman',\n",
       "       'Респ Саха /Якутия/', 'Курская область', 'Кировская область',\n",
       "       'Ульяновская', 'Вологодская', 'Чувашская республика',\n",
       "       'г Москва, г Зеленоград', 'Ростовская', 'Кемеровская обл.',\n",
       "       'Республика Крым', 'Ивановская обл.', 'Тюменская', 'Тульская',\n",
       "       'Карачаево-Черкесская Республика', 'Республика Северная Осетия',\n",
       "       'Ленинградская', 'Республика Ингушетия', 'Wiltshire', 'West Yorks',\n",
       "       'Астраханская обл.', 'Томская', 'Ярославская обл.', 'Липецкая',\n",
       "       'Санкт-петербург', 'новосибирская область', 'Республика Дагестан',\n",
       "       'Англия', 'Ханты-Мансийский АО', 'Кемеровская область',\n",
       "       'Ямало-Ненецкий автономный округ', 'Новгородская область',\n",
       "       'Курганская обл', 'Респ Карелия', 'Воронежская обл',\n",
       "       'Белгородская', 'Респ Коми', 'Сахалинская обл', 'Респ Адыгея',\n",
       "       'Ивановская обл'], dtype=object)"
      ]
     },
     "execution_count": 101,
     "metadata": {},
     "output_type": "execute_result"
    }
   ],
   "source": [
    "df['region'].unique()"
   ]
  },
  {
   "cell_type": "code",
   "execution_count": 102,
   "id": "66e720cf-08d7-4912-b503-2d4ad7776f06",
   "metadata": {},
   "outputs": [],
   "source": [
    "# Приводим к строке и нижнему регистру\n",
    "df['region'] = df['region'].astype(str).str.lower()\n"
   ]
  },
  {
   "cell_type": "code",
   "execution_count": 103,
   "id": "29c64813-8ee8-4957-a033-c415f7743fb6",
   "metadata": {},
   "outputs": [],
   "source": [
    "# \n",
    "def unify_region(value):\n",
    "    if 'москв' in value:\n",
    "        return 'москва'\n",
    "    elif 'москов' in value:\n",
    "        return 'московская область'\n",
    "    elif 'санкт' in value:\n",
    "        return 'санкт-петербург'\n",
    "    elif value in ['nan', 'none']:  # иногда после astype(str) NaN превращается в строку 'nan'\n",
    "        return 'неизвестно'\n",
    "    return value\n"
   ]
  },
  {
   "cell_type": "code",
   "execution_count": 104,
   "id": "92d70708-b81d-4033-8e0f-c06b79fb8435",
   "metadata": {},
   "outputs": [],
   "source": [
    "df['region'] = df['region'].apply(unify_region)"
   ]
  },
  {
   "cell_type": "code",
   "execution_count": 105,
   "id": "00d4224b-7eef-4b34-9fce-54c6b2370dac",
   "metadata": {},
   "outputs": [],
   "source": [
    "# Считаем доли и определяем редкие регионы (<1%)\n",
    "region_freq = df['region'].value_counts(normalize=True)\n"
   ]
  },
  {
   "cell_type": "code",
   "execution_count": 106,
   "id": "f76079ed-52d7-4424-a3db-ae5b21baafe9",
   "metadata": {},
   "outputs": [],
   "source": [
    "rare_regions = region_freq[region_freq < 0.01].index\n"
   ]
  },
  {
   "cell_type": "code",
   "execution_count": 107,
   "id": "eb16fade-dfa8-4ce1-bac6-0c421a634acd",
   "metadata": {},
   "outputs": [],
   "source": [
    "# Объединяем редкие регионы в \"другие\"\n",
    "df['region'] = df['region'].replace(rare_regions, 'другие')"
   ]
  },
  {
   "cell_type": "code",
   "execution_count": 108,
   "id": "58eb7e9c-a721-41ea-b3e4-ca7e2d5c26ba",
   "metadata": {},
   "outputs": [],
   "source": [
    "#  Приводим к красивому виду\n",
    "df['region'] = df['region'].str.title()"
   ]
  },
  {
   "cell_type": "code",
   "execution_count": 109,
   "id": "c738eef5-45c1-4304-bef7-d74dc414f235",
   "metadata": {},
   "outputs": [],
   "source": [
    "comment_stats = df['region'].value_counts(dropna=False).to_frame(name='Количество')\n"
   ]
  },
  {
   "cell_type": "code",
   "execution_count": 110,
   "id": "deff8f07-5dd0-4cbd-aca0-d9d95d1ed111",
   "metadata": {},
   "outputs": [],
   "source": [
    "comment_stats['Процент (%)'] = (comment_stats['Количество'] / len(df) * 100).round(2)\n"
   ]
  },
  {
   "cell_type": "code",
   "execution_count": 111,
   "id": "3078c320-93ac-4c78-baa9-c79c921d2724",
   "metadata": {},
   "outputs": [
    {
     "name": "stdout",
     "output_type": "stream",
     "text": [
      "\n",
      "Статистика по 'region':\n",
      "                    Количество  Процент (%)\n",
      "region                                     \n",
      "Неизвестно               26528        71.03\n",
      "Москва                    6776        18.14\n",
      "Другие                    2407         6.45\n",
      "Московская Область        1159         3.10\n",
      "Санкт-Петербург            475         1.27\n"
     ]
    }
   ],
   "source": [
    "print(\"\\nСтатистика по 'region':\")\n",
    "print(comment_stats.head(50))"
   ]
  },
  {
   "cell_type": "markdown",
   "id": "17fb9b64-9f97-4489-bf94-d48d2246994f",
   "metadata": {},
   "source": [
    "#### Обработка данных в столбце country"
   ]
  },
  {
   "cell_type": "code",
   "execution_count": 112,
   "id": "ae123d1a-a273-4d0f-bf7d-25d8380437c3",
   "metadata": {},
   "outputs": [],
   "source": [
    "df_country=df['country'].value_counts(dropna=False).to_frame(name='Количество')"
   ]
  },
  {
   "cell_type": "code",
   "execution_count": 113,
   "id": "827e6c61-7df8-4e49-a17b-7fc5e3369ca3",
   "metadata": {},
   "outputs": [
    {
     "data": {
      "text/html": [
       "<div>\n",
       "<style scoped>\n",
       "    .dataframe tbody tr th:only-of-type {\n",
       "        vertical-align: middle;\n",
       "    }\n",
       "\n",
       "    .dataframe tbody tr th {\n",
       "        vertical-align: top;\n",
       "    }\n",
       "\n",
       "    .dataframe thead th {\n",
       "        text-align: right;\n",
       "    }\n",
       "</style>\n",
       "<table border=\"1\" class=\"dataframe\">\n",
       "  <thead>\n",
       "    <tr style=\"text-align: right;\">\n",
       "      <th></th>\n",
       "      <th>Количество</th>\n",
       "    </tr>\n",
       "    <tr>\n",
       "      <th>country</th>\n",
       "      <th></th>\n",
       "    </tr>\n",
       "  </thead>\n",
       "  <tbody>\n",
       "    <tr>\n",
       "      <th>Россия</th>\n",
       "      <td>19367</td>\n",
       "    </tr>\n",
       "    <tr>\n",
       "      <th>NaN</th>\n",
       "      <td>15572</td>\n",
       "    </tr>\n",
       "    <tr>\n",
       "      <th>RUS</th>\n",
       "      <td>2235</td>\n",
       "    </tr>\n",
       "    <tr>\n",
       "      <th>ARE</th>\n",
       "      <td>72</td>\n",
       "    </tr>\n",
       "    <tr>\n",
       "      <th>Турция</th>\n",
       "      <td>47</td>\n",
       "    </tr>\n",
       "    <tr>\n",
       "      <th>Росси</th>\n",
       "      <td>11</td>\n",
       "    </tr>\n",
       "    <tr>\n",
       "      <th>Германия</th>\n",
       "      <td>7</td>\n",
       "    </tr>\n",
       "    <tr>\n",
       "      <th>Великобритания</th>\n",
       "      <td>7</td>\n",
       "    </tr>\n",
       "    <tr>\n",
       "      <th>Украина</th>\n",
       "      <td>4</td>\n",
       "    </tr>\n",
       "    <tr>\n",
       "      <th>РОССИЯ</th>\n",
       "      <td>3</td>\n",
       "    </tr>\n",
       "  </tbody>\n",
       "</table>\n",
       "</div>"
      ],
      "text/plain": [
       "                Количество\n",
       "country                   \n",
       "Россия               19367\n",
       "NaN                  15572\n",
       "RUS                   2235\n",
       "ARE                     72\n",
       "Турция                  47\n",
       "Росси                   11\n",
       "Германия                 7\n",
       "Великобритания           7\n",
       "Украина                  4\n",
       "РОССИЯ                   3"
      ]
     },
     "execution_count": 113,
     "metadata": {},
     "output_type": "execute_result"
    }
   ],
   "source": [
    "df_country.head(10)"
   ]
  },
  {
   "cell_type": "code",
   "execution_count": 114,
   "id": "0438f3f2",
   "metadata": {},
   "outputs": [],
   "source": [
    "# 1. Приводим всё к строке и нижнему регистру\n",
    "df['country'] = df['country'].astype(str).str.lower()"
   ]
  },
  {
   "cell_type": "code",
   "execution_count": 115,
   "id": "cb31037a",
   "metadata": {},
   "outputs": [],
   "source": [
    "# 2. Объединяем варианты \"Россия\"\n",
    "df['country'] = df['country'].replace({\n",
    "    'rus': 'россия',\n",
    "    'росси': 'россия',\n",
    "    'nan': 'неизвестно',  # если NaN стал строкой\n",
    "    'none': 'неизвестно'\n",
    "})"
   ]
  },
  {
   "cell_type": "code",
   "execution_count": 116,
   "id": "27954352",
   "metadata": {},
   "outputs": [],
   "source": [
    "# 3. Заменяем оставшиеся пропуски на 'неизвестно'\n",
    "df['country'] = df['country'].replace('nan', 'неизвестно')\n"
   ]
  },
  {
   "cell_type": "code",
   "execution_count": 117,
   "id": "cab012b2",
   "metadata": {},
   "outputs": [],
   "source": [
    "\n",
    "# 4. Группируем редкие страны (<1%) в 'другие'\n",
    "country_freq = df['country'].value_counts(normalize=True)\n",
    "rare_countries = country_freq[country_freq < 0.01].index\n"
   ]
  },
  {
   "cell_type": "code",
   "execution_count": 118,
   "id": "e08c4ca1",
   "metadata": {},
   "outputs": [],
   "source": [
    "df['country'] = df['country'].replace(rare_countries, 'другие')\n"
   ]
  },
  {
   "cell_type": "code",
   "execution_count": 119,
   "id": "36832e8d",
   "metadata": {},
   "outputs": [],
   "source": [
    "# 5. Красивый формат\n",
    "df['country'] = df['country'].str.title()"
   ]
  },
  {
   "cell_type": "code",
   "execution_count": 120,
   "id": "81f806b7",
   "metadata": {},
   "outputs": [],
   "source": [
    "comment_stats = df['country'].value_counts(dropna=False).to_frame(name='Количество')\n"
   ]
  },
  {
   "cell_type": "code",
   "execution_count": 121,
   "id": "cf73719d",
   "metadata": {},
   "outputs": [],
   "source": [
    "comment_stats['Процент (%)'] = (comment_stats['Количество'] / len(df) * 100).round(2)\n"
   ]
  },
  {
   "cell_type": "code",
   "execution_count": 122,
   "id": "dec877b2-9534-4427-a79c-ecc670d84c41",
   "metadata": {},
   "outputs": [
    {
     "name": "stdout",
     "output_type": "stream",
     "text": [
      "\n",
      "Статистика по 'country':\n",
      "            Количество  Процент (%)\n",
      "country                            \n",
      "Россия           21616        57.88\n",
      "Неизвестно       15572        41.70\n",
      "Другие             157         0.42\n"
     ]
    }
   ],
   "source": [
    "print(\"\\nСтатистика по 'country':\")\n",
    "print(comment_stats.head(50))"
   ]
  },
  {
   "cell_type": "code",
   "execution_count": 125,
   "id": "e0a89b90",
   "metadata": {},
   "outputs": [
    {
     "name": "stdout",
     "output_type": "stream",
     "text": [
      "<class 'pandas.core.frame.DataFrame'>\n",
      "Index: 37345 entries, 1 to 57072\n",
      "Data columns (total 23 columns):\n",
      " #   Column              Non-Null Count  Dtype         \n",
      "---  ------              --------------  -----         \n",
      " 0   id                  37345 non-null  int64         \n",
      " 1   date_min            37345 non-null  datetime64[ns]\n",
      " 2   comments            37345 non-null  object        \n",
      " 3   direction           37345 non-null  object        \n",
      " 4   transaction_stage   37345 non-null  object        \n",
      " 5   successful          37345 non-null  object        \n",
      " 6   expected_sum        37345 non-null  float64       \n",
      " 7   received_sum        37345 non-null  float64       \n",
      " 8   lost_sum            37345 non-null  object        \n",
      " 9   repeat_transaction  37345 non-null  object        \n",
      " 10  user_id             37345 non-null  int64         \n",
      " 11  user_date           36987 non-null  datetime64[ns]\n",
      " 12  city                25635 non-null  object        \n",
      " 13  country             37345 non-null  object        \n",
      " 14  region              37345 non-null  object        \n",
      " 15  gender              37345 non-null  object        \n",
      " 16  company_id          37345 non-null  int64         \n",
      " 17  company_date        477 non-null    datetime64[ns]\n",
      " 18  payment_date        37206 non-null  datetime64[ns]\n",
      " 19  code                37345 non-null  object        \n",
      " 20  fact_sum            37345 non-null  float64       \n",
      " 21  missing_users       37345 non-null  int32         \n",
      " 22  missing_date        37345 non-null  int32         \n",
      "dtypes: datetime64[ns](4), float64(3), int32(2), int64(3), object(11)\n",
      "memory usage: 6.6+ MB\n"
     ]
    }
   ],
   "source": [
    "df.info()"
   ]
  },
  {
   "cell_type": "markdown",
   "id": "26e6c94d-a9e7-43ea-9c01-1a4650a55ad8",
   "metadata": {},
   "source": [
    "### Проверка на дубликаты"
   ]
  },
  {
   "cell_type": "code",
   "execution_count": 126,
   "id": "0a46d2f6-bee9-4e92-8a73-ef4a9a8b4c13",
   "metadata": {},
   "outputs": [
    {
     "data": {
      "text/plain": [
       "2614"
      ]
     },
     "execution_count": 126,
     "metadata": {},
     "output_type": "execute_result"
    }
   ],
   "source": [
    "# проверим датафрейм на наличие явных дубликатов\n",
    "df.duplicated().sum()"
   ]
  },
  {
   "cell_type": "code",
   "execution_count": 127,
   "id": "c8f1d184-f005-4652-9077-92af3b6ff5ee",
   "metadata": {},
   "outputs": [],
   "source": [
    "# удаляем дубликаты\n",
    "df=df.drop_duplicates()"
   ]
  },
  {
   "cell_type": "code",
   "execution_count": 128,
   "id": "fe991c08-b24f-49e7-89c5-81a41260671a",
   "metadata": {},
   "outputs": [
    {
     "name": "stdout",
     "output_type": "stream",
     "text": [
      "<class 'pandas.core.frame.DataFrame'>\n",
      "Index: 34731 entries, 1 to 57072\n",
      "Data columns (total 23 columns):\n",
      " #   Column              Non-Null Count  Dtype         \n",
      "---  ------              --------------  -----         \n",
      " 0   id                  34731 non-null  int64         \n",
      " 1   date_min            34731 non-null  datetime64[ns]\n",
      " 2   comments            34731 non-null  object        \n",
      " 3   direction           34731 non-null  object        \n",
      " 4   transaction_stage   34731 non-null  object        \n",
      " 5   successful          34731 non-null  object        \n",
      " 6   expected_sum        34731 non-null  float64       \n",
      " 7   received_sum        34731 non-null  float64       \n",
      " 8   lost_sum            34731 non-null  object        \n",
      " 9   repeat_transaction  34731 non-null  object        \n",
      " 10  user_id             34731 non-null  int64         \n",
      " 11  user_date           34428 non-null  datetime64[ns]\n",
      " 12  city                23689 non-null  object        \n",
      " 13  country             34731 non-null  object        \n",
      " 14  region              34731 non-null  object        \n",
      " 15  gender              34731 non-null  object        \n",
      " 16  company_id          34731 non-null  int64         \n",
      " 17  company_date        354 non-null    datetime64[ns]\n",
      " 18  payment_date        34650 non-null  datetime64[ns]\n",
      " 19  code                34731 non-null  object        \n",
      " 20  fact_sum            34731 non-null  float64       \n",
      " 21  missing_users       34731 non-null  int32         \n",
      " 22  missing_date        34731 non-null  int32         \n",
      "dtypes: datetime64[ns](4), float64(3), int32(2), int64(3), object(11)\n",
      "memory usage: 6.1+ MB\n"
     ]
    }
   ],
   "source": [
    "df.info()"
   ]
  },
  {
   "cell_type": "markdown",
   "id": "d47032d0",
   "metadata": {},
   "source": [
    "### Добавление столбцов"
   ]
  },
  {
   "cell_type": "code",
   "execution_count": 129,
   "id": "c652823a",
   "metadata": {},
   "outputs": [],
   "source": [
    "# создание столбца year_month\n",
    "df[\"payment_month\"] = df[\"payment_date\"].dt.to_period(\"M\")\n"
   ]
  },
  {
   "cell_type": "code",
   "execution_count": 130,
   "id": "8244d386",
   "metadata": {},
   "outputs": [
    {
     "data": {
      "text/html": [
       "<div>\n",
       "<style scoped>\n",
       "    .dataframe tbody tr th:only-of-type {\n",
       "        vertical-align: middle;\n",
       "    }\n",
       "\n",
       "    .dataframe tbody tr th {\n",
       "        vertical-align: top;\n",
       "    }\n",
       "\n",
       "    .dataframe thead th {\n",
       "        text-align: right;\n",
       "    }\n",
       "</style>\n",
       "<table border=\"1\" class=\"dataframe\">\n",
       "  <thead>\n",
       "    <tr style=\"text-align: right;\">\n",
       "      <th></th>\n",
       "      <th>id</th>\n",
       "      <th>date_min</th>\n",
       "      <th>comments</th>\n",
       "      <th>direction</th>\n",
       "      <th>transaction_stage</th>\n",
       "      <th>successful</th>\n",
       "      <th>expected_sum</th>\n",
       "      <th>received_sum</th>\n",
       "      <th>lost_sum</th>\n",
       "      <th>repeat_transaction</th>\n",
       "      <th>...</th>\n",
       "      <th>region</th>\n",
       "      <th>gender</th>\n",
       "      <th>company_id</th>\n",
       "      <th>company_date</th>\n",
       "      <th>payment_date</th>\n",
       "      <th>code</th>\n",
       "      <th>fact_sum</th>\n",
       "      <th>missing_users</th>\n",
       "      <th>missing_date</th>\n",
       "      <th>payment_month</th>\n",
       "    </tr>\n",
       "  </thead>\n",
       "  <tbody>\n",
       "    <tr>\n",
       "      <th>1</th>\n",
       "      <td>382391</td>\n",
       "      <td>2024-06-05</td>\n",
       "      <td>Поддержать соревнование</td>\n",
       "      <td>Пожертвования</td>\n",
       "      <td>Posted</td>\n",
       "      <td>Да</td>\n",
       "      <td>500.0</td>\n",
       "      <td>500.0</td>\n",
       "      <td>0</td>\n",
       "      <td>Да</td>\n",
       "      <td>...</td>\n",
       "      <td>Неизвестно</td>\n",
       "      <td>0</td>\n",
       "      <td>0</td>\n",
       "      <td>NaT</td>\n",
       "      <td>2024-06-05</td>\n",
       "      <td>f207</td>\n",
       "      <td>485.5</td>\n",
       "      <td>0</td>\n",
       "      <td>0</td>\n",
       "      <td>2024-06</td>\n",
       "    </tr>\n",
       "    <tr>\n",
       "      <th>2</th>\n",
       "      <td>382399</td>\n",
       "      <td>2024-06-05</td>\n",
       "      <td>Ежемесячное пожертвование в БФ \"Синдром любви\"</td>\n",
       "      <td>Пожертвования</td>\n",
       "      <td>Posted</td>\n",
       "      <td>Да</td>\n",
       "      <td>1000.0</td>\n",
       "      <td>1000.0</td>\n",
       "      <td>0</td>\n",
       "      <td>Да</td>\n",
       "      <td>...</td>\n",
       "      <td>Москва</td>\n",
       "      <td>0</td>\n",
       "      <td>0</td>\n",
       "      <td>NaT</td>\n",
       "      <td>2024-06-05</td>\n",
       "      <td>f212</td>\n",
       "      <td>971.0</td>\n",
       "      <td>0</td>\n",
       "      <td>0</td>\n",
       "      <td>2024-06</td>\n",
       "    </tr>\n",
       "    <tr>\n",
       "      <th>3</th>\n",
       "      <td>382423</td>\n",
       "      <td>2024-06-05</td>\n",
       "      <td>Поддержать соревнование</td>\n",
       "      <td>Пожертвования</td>\n",
       "      <td>Posted</td>\n",
       "      <td>Да</td>\n",
       "      <td>130.0</td>\n",
       "      <td>130.0</td>\n",
       "      <td>0</td>\n",
       "      <td>Да</td>\n",
       "      <td>...</td>\n",
       "      <td>Неизвестно</td>\n",
       "      <td>Ж</td>\n",
       "      <td>0</td>\n",
       "      <td>NaT</td>\n",
       "      <td>2024-06-05</td>\n",
       "      <td>f207</td>\n",
       "      <td>126.1</td>\n",
       "      <td>0</td>\n",
       "      <td>0</td>\n",
       "      <td>2024-06</td>\n",
       "    </tr>\n",
       "    <tr>\n",
       "      <th>4</th>\n",
       "      <td>382427</td>\n",
       "      <td>2024-06-05</td>\n",
       "      <td>Разовое пожертвование в БФ \"Синдром любви\"</td>\n",
       "      <td>Пожертвования</td>\n",
       "      <td>Posted</td>\n",
       "      <td>Да</td>\n",
       "      <td>2500.0</td>\n",
       "      <td>2500.0</td>\n",
       "      <td>0</td>\n",
       "      <td>Да</td>\n",
       "      <td>...</td>\n",
       "      <td>Москва</td>\n",
       "      <td>0</td>\n",
       "      <td>0</td>\n",
       "      <td>NaT</td>\n",
       "      <td>2024-06-05</td>\n",
       "      <td>f214</td>\n",
       "      <td>2427.5</td>\n",
       "      <td>0</td>\n",
       "      <td>0</td>\n",
       "      <td>2024-06</td>\n",
       "    </tr>\n",
       "    <tr>\n",
       "      <th>5</th>\n",
       "      <td>382429</td>\n",
       "      <td>2024-06-05</td>\n",
       "      <td>Поддержать соревнование</td>\n",
       "      <td>Пожертвования</td>\n",
       "      <td>Posted</td>\n",
       "      <td>Да</td>\n",
       "      <td>3500.0</td>\n",
       "      <td>3500.0</td>\n",
       "      <td>0</td>\n",
       "      <td>Да</td>\n",
       "      <td>...</td>\n",
       "      <td>Неизвестно</td>\n",
       "      <td>Ж</td>\n",
       "      <td>0</td>\n",
       "      <td>NaT</td>\n",
       "      <td>2024-06-05</td>\n",
       "      <td>f207</td>\n",
       "      <td>3398.5</td>\n",
       "      <td>0</td>\n",
       "      <td>0</td>\n",
       "      <td>2024-06</td>\n",
       "    </tr>\n",
       "  </tbody>\n",
       "</table>\n",
       "<p>5 rows × 24 columns</p>\n",
       "</div>"
      ],
      "text/plain": [
       "       id   date_min                                        comments  \\\n",
       "1  382391 2024-06-05                         Поддержать соревнование   \n",
       "2  382399 2024-06-05  Ежемесячное пожертвование в БФ \"Синдром любви\"   \n",
       "3  382423 2024-06-05                         Поддержать соревнование   \n",
       "4  382427 2024-06-05      Разовое пожертвование в БФ \"Синдром любви\"   \n",
       "5  382429 2024-06-05                         Поддержать соревнование   \n",
       "\n",
       "       direction transaction_stage successful  expected_sum  received_sum  \\\n",
       "1  Пожертвования            Posted         Да         500.0         500.0   \n",
       "2  Пожертвования            Posted         Да        1000.0        1000.0   \n",
       "3  Пожертвования            Posted         Да         130.0         130.0   \n",
       "4  Пожертвования            Posted         Да        2500.0        2500.0   \n",
       "5  Пожертвования            Posted         Да        3500.0        3500.0   \n",
       "\n",
       "  lost_sum repeat_transaction  ...      region gender company_id company_date  \\\n",
       "1        0                 Да  ...  Неизвестно      0          0          NaT   \n",
       "2        0                 Да  ...      Москва      0          0          NaT   \n",
       "3        0                 Да  ...  Неизвестно      Ж          0          NaT   \n",
       "4        0                 Да  ...      Москва      0          0          NaT   \n",
       "5        0                 Да  ...  Неизвестно      Ж          0          NaT   \n",
       "\n",
       "  payment_date  code  fact_sum missing_users missing_date payment_month  \n",
       "1   2024-06-05  f207     485.5             0            0       2024-06  \n",
       "2   2024-06-05  f212     971.0             0            0       2024-06  \n",
       "3   2024-06-05  f207     126.1             0            0       2024-06  \n",
       "4   2024-06-05  f214    2427.5             0            0       2024-06  \n",
       "5   2024-06-05  f207    3398.5             0            0       2024-06  \n",
       "\n",
       "[5 rows x 24 columns]"
      ]
     },
     "execution_count": 130,
     "metadata": {},
     "output_type": "execute_result"
    }
   ],
   "source": [
    "df.head()"
   ]
  },
  {
   "cell_type": "code",
   "execution_count": null,
   "id": "8951cd9c",
   "metadata": {},
   "outputs": [],
   "source": []
  },
  {
   "cell_type": "markdown",
   "id": "21065dc3-954d-4711-9e65-3c6c47e38e6e",
   "metadata": {},
   "source": [
    "## Исследовательский анализ"
   ]
  },
  {
   "cell_type": "code",
   "execution_count": 131,
   "id": "a20d1b0a-0ff6-4dab-b30e-08c2db80ffa6",
   "metadata": {},
   "outputs": [
    {
     "name": "stdout",
     "output_type": "stream",
     "text": [
      "Количество уникальных клиентов-физических лиц: 12835\n"
     ]
    }
   ],
   "source": [
    "print('Количество уникальных клиентов-доноров:', df['user_id'].nunique())"
   ]
  },
  {
   "cell_type": "code",
   "execution_count": 132,
   "id": "a2c0f0b4-ead9-4fb2-8a88-b23297ec154e",
   "metadata": {},
   "outputs": [
    {
     "name": "stdout",
     "output_type": "stream",
     "text": [
      "Количество уникальных клиентов-компаний: 105\n"
     ]
    }
   ],
   "source": [
    "print('Количество уникальных клиентов-компаний:', df['company_id'].nunique())"
   ]
  },
  {
   "cell_type": "markdown",
   "id": "0c984f83",
   "metadata": {},
   "source": [
    "Для расчета средего количества событий на одного пользователя посчитаем количество событий для каждого user_id"
   ]
  },
  {
   "cell_type": "code",
   "execution_count": 133,
   "id": "acb44dfd-63b3-4ca2-a8c9-6e9491e77ab2",
   "metadata": {},
   "outputs": [
    {
     "data": {
      "text/html": [
       "<div>\n",
       "<style scoped>\n",
       "    .dataframe tbody tr th:only-of-type {\n",
       "        vertical-align: middle;\n",
       "    }\n",
       "\n",
       "    .dataframe tbody tr th {\n",
       "        vertical-align: top;\n",
       "    }\n",
       "\n",
       "    .dataframe thead th {\n",
       "        text-align: right;\n",
       "    }\n",
       "</style>\n",
       "<table border=\"1\" class=\"dataframe\">\n",
       "  <thead>\n",
       "    <tr style=\"text-align: right;\">\n",
       "      <th></th>\n",
       "      <th>user_id</th>\n",
       "      <th>id</th>\n",
       "    </tr>\n",
       "  </thead>\n",
       "  <tbody>\n",
       "    <tr>\n",
       "      <th>0</th>\n",
       "      <td>0</td>\n",
       "      <td>303</td>\n",
       "    </tr>\n",
       "    <tr>\n",
       "      <th>4217</th>\n",
       "      <td>438703</td>\n",
       "      <td>186</td>\n",
       "    </tr>\n",
       "    <tr>\n",
       "      <th>171</th>\n",
       "      <td>343989</td>\n",
       "      <td>155</td>\n",
       "    </tr>\n",
       "    <tr>\n",
       "      <th>3542</th>\n",
       "      <td>425369</td>\n",
       "      <td>84</td>\n",
       "    </tr>\n",
       "    <tr>\n",
       "      <th>1289</th>\n",
       "      <td>348315</td>\n",
       "      <td>82</td>\n",
       "    </tr>\n",
       "  </tbody>\n",
       "</table>\n",
       "</div>"
      ],
      "text/plain": [
       "      user_id   id\n",
       "0           0  303\n",
       "4217   438703  186\n",
       "171    343989  155\n",
       "3542   425369   84\n",
       "1289   348315   82"
      ]
     },
     "execution_count": 133,
     "metadata": {},
     "output_type": "execute_result"
    }
   ],
   "source": [
    "transactions = df.groupby('user_id')['id'].count().reset_index()\n",
    "transactions.sort_values('id', ascending=False).head()"
   ]
  },
  {
   "cell_type": "code",
   "execution_count": 134,
   "id": "0170c9ba",
   "metadata": {},
   "outputs": [
    {
     "data": {
      "text/html": [
       "<div>\n",
       "<style scoped>\n",
       "    .dataframe tbody tr th:only-of-type {\n",
       "        vertical-align: middle;\n",
       "    }\n",
       "\n",
       "    .dataframe tbody tr th {\n",
       "        vertical-align: top;\n",
       "    }\n",
       "\n",
       "    .dataframe thead th {\n",
       "        text-align: right;\n",
       "    }\n",
       "</style>\n",
       "<table border=\"1\" class=\"dataframe\">\n",
       "  <thead>\n",
       "    <tr style=\"text-align: right;\">\n",
       "      <th></th>\n",
       "      <th>company_id</th>\n",
       "      <th>id</th>\n",
       "    </tr>\n",
       "  </thead>\n",
       "  <tbody>\n",
       "    <tr>\n",
       "      <th>0</th>\n",
       "      <td>0</td>\n",
       "      <td>34377</td>\n",
       "    </tr>\n",
       "    <tr>\n",
       "      <th>95</th>\n",
       "      <td>62277</td>\n",
       "      <td>100</td>\n",
       "    </tr>\n",
       "    <tr>\n",
       "      <th>35</th>\n",
       "      <td>56929</td>\n",
       "      <td>18</td>\n",
       "    </tr>\n",
       "    <tr>\n",
       "      <th>63</th>\n",
       "      <td>62101</td>\n",
       "      <td>14</td>\n",
       "    </tr>\n",
       "    <tr>\n",
       "      <th>11</th>\n",
       "      <td>56551</td>\n",
       "      <td>11</td>\n",
       "    </tr>\n",
       "  </tbody>\n",
       "</table>\n",
       "</div>"
      ],
      "text/plain": [
       "    company_id     id\n",
       "0            0  34377\n",
       "95       62277    100\n",
       "35       56929     18\n",
       "63       62101     14\n",
       "11       56551     11"
      ]
     },
     "execution_count": 134,
     "metadata": {},
     "output_type": "execute_result"
    }
   ],
   "source": [
    "transactions_c = df.groupby('company_id')['id'].count().reset_index()\n",
    "transactions_c.sort_values('id', ascending=False).head()"
   ]
  },
  {
   "cell_type": "code",
   "execution_count": 135,
   "id": "13cf3807-f4cf-467c-9e49-399cee00de24",
   "metadata": {},
   "outputs": [
    {
     "name": "stdout",
     "output_type": "stream",
     "text": [
      "Среднее количество пожертвований на одного донора: 1.0\n"
     ]
    }
   ],
   "source": [
    "print('Среднее количество пожертвований на одного донора:', transactions['id'].median())"
   ]
  },
  {
   "cell_type": "code",
   "execution_count": 136,
   "id": "7f860ae7",
   "metadata": {},
   "outputs": [
    {
     "name": "stdout",
     "output_type": "stream",
     "text": [
      "Среднее количество пожертвований на одну компанию: 1.0\n"
     ]
    }
   ],
   "source": [
    "print('Среднее количество пожертвований на одну компанию:', transactions_c['id'].median())"
   ]
  },
  {
   "cell_type": "code",
   "execution_count": 137,
   "id": "2933cde5",
   "metadata": {},
   "outputs": [
    {
     "data": {
      "text/html": [
       "<div>\n",
       "<style scoped>\n",
       "    .dataframe tbody tr th:only-of-type {\n",
       "        vertical-align: middle;\n",
       "    }\n",
       "\n",
       "    .dataframe tbody tr th {\n",
       "        vertical-align: top;\n",
       "    }\n",
       "\n",
       "    .dataframe thead th {\n",
       "        text-align: right;\n",
       "    }\n",
       "</style>\n",
       "<table border=\"1\" class=\"dataframe\">\n",
       "  <thead>\n",
       "    <tr style=\"text-align: right;\">\n",
       "      <th></th>\n",
       "      <th>user_id</th>\n",
       "      <th>id</th>\n",
       "    </tr>\n",
       "  </thead>\n",
       "  <tbody>\n",
       "    <tr>\n",
       "      <th>count</th>\n",
       "      <td>12835.000000</td>\n",
       "      <td>12835.00000</td>\n",
       "    </tr>\n",
       "    <tr>\n",
       "      <th>mean</th>\n",
       "      <td>443677.282119</td>\n",
       "      <td>2.70596</td>\n",
       "    </tr>\n",
       "    <tr>\n",
       "      <th>std</th>\n",
       "      <td>50229.078167</td>\n",
       "      <td>6.80180</td>\n",
       "    </tr>\n",
       "    <tr>\n",
       "      <th>min</th>\n",
       "      <td>0.000000</td>\n",
       "      <td>1.00000</td>\n",
       "    </tr>\n",
       "    <tr>\n",
       "      <th>25%</th>\n",
       "      <td>418769.000000</td>\n",
       "      <td>1.00000</td>\n",
       "    </tr>\n",
       "    <tr>\n",
       "      <th>50%</th>\n",
       "      <td>466569.000000</td>\n",
       "      <td>1.00000</td>\n",
       "    </tr>\n",
       "    <tr>\n",
       "      <th>75%</th>\n",
       "      <td>477506.000000</td>\n",
       "      <td>2.00000</td>\n",
       "    </tr>\n",
       "    <tr>\n",
       "      <th>max</th>\n",
       "      <td>494831.000000</td>\n",
       "      <td>303.00000</td>\n",
       "    </tr>\n",
       "  </tbody>\n",
       "</table>\n",
       "</div>"
      ],
      "text/plain": [
       "             user_id           id\n",
       "count   12835.000000  12835.00000\n",
       "mean   443677.282119      2.70596\n",
       "std     50229.078167      6.80180\n",
       "min         0.000000      1.00000\n",
       "25%    418769.000000      1.00000\n",
       "50%    466569.000000      1.00000\n",
       "75%    477506.000000      2.00000\n",
       "max    494831.000000    303.00000"
      ]
     },
     "execution_count": 137,
     "metadata": {},
     "output_type": "execute_result"
    }
   ],
   "source": [
    "transactions.describe()"
   ]
  },
  {
   "cell_type": "code",
   "execution_count": 138,
   "id": "d39e5e1a",
   "metadata": {},
   "outputs": [
    {
     "data": {
      "text/html": [
       "<div>\n",
       "<style scoped>\n",
       "    .dataframe tbody tr th:only-of-type {\n",
       "        vertical-align: middle;\n",
       "    }\n",
       "\n",
       "    .dataframe tbody tr th {\n",
       "        vertical-align: top;\n",
       "    }\n",
       "\n",
       "    .dataframe thead th {\n",
       "        text-align: right;\n",
       "    }\n",
       "</style>\n",
       "<table border=\"1\" class=\"dataframe\">\n",
       "  <thead>\n",
       "    <tr style=\"text-align: right;\">\n",
       "      <th></th>\n",
       "      <th>company_id</th>\n",
       "      <th>id</th>\n",
       "    </tr>\n",
       "  </thead>\n",
       "  <tbody>\n",
       "    <tr>\n",
       "      <th>count</th>\n",
       "      <td>105.000000</td>\n",
       "      <td>105.000000</td>\n",
       "    </tr>\n",
       "    <tr>\n",
       "      <th>mean</th>\n",
       "      <td>58736.590476</td>\n",
       "      <td>330.771429</td>\n",
       "    </tr>\n",
       "    <tr>\n",
       "      <th>std</th>\n",
       "      <td>6383.361566</td>\n",
       "      <td>3354.534068</td>\n",
       "    </tr>\n",
       "    <tr>\n",
       "      <th>min</th>\n",
       "      <td>0.000000</td>\n",
       "      <td>1.000000</td>\n",
       "    </tr>\n",
       "    <tr>\n",
       "      <th>25%</th>\n",
       "      <td>56741.000000</td>\n",
       "      <td>1.000000</td>\n",
       "    </tr>\n",
       "    <tr>\n",
       "      <th>50%</th>\n",
       "      <td>57159.000000</td>\n",
       "      <td>1.000000</td>\n",
       "    </tr>\n",
       "    <tr>\n",
       "      <th>75%</th>\n",
       "      <td>62183.000000</td>\n",
       "      <td>3.000000</td>\n",
       "    </tr>\n",
       "    <tr>\n",
       "      <th>max</th>\n",
       "      <td>62303.000000</td>\n",
       "      <td>34377.000000</td>\n",
       "    </tr>\n",
       "  </tbody>\n",
       "</table>\n",
       "</div>"
      ],
      "text/plain": [
       "         company_id            id\n",
       "count    105.000000    105.000000\n",
       "mean   58736.590476    330.771429\n",
       "std     6383.361566   3354.534068\n",
       "min        0.000000      1.000000\n",
       "25%    56741.000000      1.000000\n",
       "50%    57159.000000      1.000000\n",
       "75%    62183.000000      3.000000\n",
       "max    62303.000000  34377.000000"
      ]
     },
     "execution_count": 138,
     "metadata": {},
     "output_type": "execute_result"
    }
   ],
   "source": [
    "transactions_c.describe()"
   ]
  },
  {
   "cell_type": "markdown",
   "id": "f30546e0-b3b1-47dd-a962-c8d2e2b2c668",
   "metadata": {},
   "source": [
    "### Распределение фактической суммы пожертвований"
   ]
  },
  {
   "cell_type": "code",
   "execution_count": 158,
   "id": "7e96b3e0-5cfa-46cb-8633-3d234a52f7d4",
   "metadata": {},
   "outputs": [
    {
     "data": {
      "text/plain": [
       "count    3.473100e+04\n",
       "mean     4.270879e+03\n",
       "std      9.016169e+04\n",
       "min      1.000000e-02\n",
       "25%      2.913000e+02\n",
       "50%      5.340500e+02\n",
       "75%      1.456500e+03\n",
       "max      1.000000e+07\n",
       "Name: fact_sum, dtype: float64"
      ]
     },
     "execution_count": 158,
     "metadata": {},
     "output_type": "execute_result"
    }
   ],
   "source": [
    "df['fact_sum'].describe()"
   ]
  },
  {
   "cell_type": "code",
   "execution_count": 160,
   "id": "b60a2317-2bee-4837-b775-f9391534cee4",
   "metadata": {},
   "outputs": [
    {
     "data": {
      "image/png": "[encoded data removed]",
      "text/plain": [
       "<Figure size 1300x800 with 1 Axes>"
      ]
     },
     "metadata": {},
     "output_type": "display_data"
    }
   ],
   "source": [
    "# Построим ящик с усами\n",
    "\n",
    "plt.figure(figsize=(13, 8))\n",
    "sns.boxplot(data = df, y = 'fact_sum', x='repeat_transaction').set(title = 'Фактическая сумма пожертвования', xlabel = 'признак повторной операции', ylabel = 'сумма пожертвования')\n",
    "plt.show()"
   ]
  },
  {
   "cell_type": "code",
   "execution_count": 167,
   "id": "3ee2063c-1fc9-4e0f-acaa-997f5eee869b",
   "metadata": {},
   "outputs": [
    {
     "data": {
      "image/png": "[encoded data removed]",
      "text/plain": [
       "<Figure size 1300x800 with 1 Axes>"
      ]
     },
     "metadata": {},
     "output_type": "display_data"
    }
   ],
   "source": [
    "\n",
    "plt.figure(figsize=(13, 8))\n",
    "sns.boxplot(data = df, y = 'fact_sum', x='repeat_transaction').set(title = 'Фактическая сумма пожертвования', xlabel = 'признак повторной операции', ylabel = 'сумма пожертвования',ylim=(0, 10000))\n",
    "plt.show()"
   ]
  },
  {
   "cell_type": "markdown",
   "id": "67c40d20-2407-4bfb-b2fc-1c84290b584e",
   "metadata": {},
   "source": [
    "На графике видно огромное количество выбросов, т.е сумма пожертвования чаще всего не превышает 5000 рублей для доноров, которые впервые жертвуют фонду и 3000 руб - для тех, кто жертвует повторно."
   ]
  },
  {
   "cell_type": "code",
   "execution_count": 164,
   "id": "94fff483-e89d-4146-b165-7b235aa231c8",
   "metadata": {},
   "outputs": [
    {
     "data": {
      "image/png": "[encoded data removed]",
      "text/plain": [
       "<Figure size 1000x600 with 1 Axes>"
      ]
     },
     "metadata": {},
     "output_type": "display_data"
    }
   ],
   "source": [
    "\n",
    "plt.figure(figsize=(10, 6))\n",
    "sns.histplot(data=df.query('fact_sum<10000'), x='fact_sum', hue='repeat_transaction', bins=100)\n",
    "plt.grid(True)\n",
    "plt.title('Распределение фактической суммы пожертвований')\n",
    "plt.xlabel('сумма пожертвований')\n",
    "plt.ylabel('частота')\n",
    "plt.legend(['повторно','впервые']) \n",
    "plt.show()"
   ]
  },
  {
   "cell_type": "code",
   "execution_count": 180,
   "id": "9b7d3740-6a74-45bc-bffa-48a04755cd5e",
   "metadata": {},
   "outputs": [
    {
     "data": {
      "text/html": [
       "<div>\n",
       "<style scoped>\n",
       "    .dataframe tbody tr th:only-of-type {\n",
       "        vertical-align: middle;\n",
       "    }\n",
       "\n",
       "    .dataframe tbody tr th {\n",
       "        vertical-align: top;\n",
       "    }\n",
       "\n",
       "    .dataframe thead th {\n",
       "        text-align: right;\n",
       "    }\n",
       "</style>\n",
       "<table border=\"1\" class=\"dataframe\">\n",
       "  <thead>\n",
       "    <tr style=\"text-align: right;\">\n",
       "      <th></th>\n",
       "      <th>22252</th>\n",
       "      <th>22255</th>\n",
       "    </tr>\n",
       "  </thead>\n",
       "  <tbody>\n",
       "    <tr>\n",
       "      <th>id</th>\n",
       "      <td>332781</td>\n",
       "      <td>341621</td>\n",
       "    </tr>\n",
       "    <tr>\n",
       "      <th>date_min</th>\n",
       "      <td>2022-08-29 00:00:00</td>\n",
       "      <td>2023-03-21 00:00:00</td>\n",
       "    </tr>\n",
       "    <tr>\n",
       "      <th>comments</th>\n",
       "      <td>неизвестно</td>\n",
       "      <td>неизвестно</td>\n",
       "    </tr>\n",
       "    <tr>\n",
       "      <th>direction</th>\n",
       "      <td>Пожертвования</td>\n",
       "      <td>Пожертвования</td>\n",
       "    </tr>\n",
       "    <tr>\n",
       "      <th>transaction_stage</th>\n",
       "      <td>Posted</td>\n",
       "      <td>Posted</td>\n",
       "    </tr>\n",
       "    <tr>\n",
       "      <th>successful</th>\n",
       "      <td>Да</td>\n",
       "      <td>Да</td>\n",
       "    </tr>\n",
       "    <tr>\n",
       "      <th>expected_sum</th>\n",
       "      <td>1000000.0</td>\n",
       "      <td>1000000.0</td>\n",
       "    </tr>\n",
       "    <tr>\n",
       "      <th>received_sum</th>\n",
       "      <td>1000000.0</td>\n",
       "      <td>1000000.0</td>\n",
       "    </tr>\n",
       "    <tr>\n",
       "      <th>lost_sum</th>\n",
       "      <td>0</td>\n",
       "      <td>0</td>\n",
       "    </tr>\n",
       "    <tr>\n",
       "      <th>repeat_transaction</th>\n",
       "      <td>Да</td>\n",
       "      <td>Да</td>\n",
       "    </tr>\n",
       "    <tr>\n",
       "      <th>user_id</th>\n",
       "      <td>343033</td>\n",
       "      <td>343033</td>\n",
       "    </tr>\n",
       "    <tr>\n",
       "      <th>user_date</th>\n",
       "      <td>2022-08-03 00:00:00</td>\n",
       "      <td>2022-08-03 00:00:00</td>\n",
       "    </tr>\n",
       "    <tr>\n",
       "      <th>city</th>\n",
       "      <td>Москва</td>\n",
       "      <td>Москва</td>\n",
       "    </tr>\n",
       "    <tr>\n",
       "      <th>country</th>\n",
       "      <td>Россия</td>\n",
       "      <td>Россия</td>\n",
       "    </tr>\n",
       "    <tr>\n",
       "      <th>region</th>\n",
       "      <td>Москва</td>\n",
       "      <td>Москва</td>\n",
       "    </tr>\n",
       "    <tr>\n",
       "      <th>gender</th>\n",
       "      <td>неизвестно</td>\n",
       "      <td>неизвестно</td>\n",
       "    </tr>\n",
       "    <tr>\n",
       "      <th>company_id</th>\n",
       "      <td>0</td>\n",
       "      <td>0</td>\n",
       "    </tr>\n",
       "    <tr>\n",
       "      <th>company_date</th>\n",
       "      <td>NaT</td>\n",
       "      <td>NaT</td>\n",
       "    </tr>\n",
       "    <tr>\n",
       "      <th>payment_date</th>\n",
       "      <td>None</td>\n",
       "      <td>None</td>\n",
       "    </tr>\n",
       "    <tr>\n",
       "      <th>code</th>\n",
       "      <td>f209</td>\n",
       "      <td>f209</td>\n",
       "    </tr>\n",
       "    <tr>\n",
       "      <th>fact_sum</th>\n",
       "      <td>10000000.0</td>\n",
       "      <td>10000000.0</td>\n",
       "    </tr>\n",
       "    <tr>\n",
       "      <th>missing_users</th>\n",
       "      <td>0</td>\n",
       "      <td>0</td>\n",
       "    </tr>\n",
       "    <tr>\n",
       "      <th>missing_date</th>\n",
       "      <td>0</td>\n",
       "      <td>0</td>\n",
       "    </tr>\n",
       "    <tr>\n",
       "      <th>payment_month</th>\n",
       "      <td>2022-08</td>\n",
       "      <td>2023-03</td>\n",
       "    </tr>\n",
       "  </tbody>\n",
       "</table>\n",
       "</div>"
      ],
      "text/plain": [
       "                                  22252                22255\n",
       "id                               332781               341621\n",
       "date_min            2022-08-29 00:00:00  2023-03-21 00:00:00\n",
       "comments                     неизвестно           неизвестно\n",
       "direction                 Пожертвования        Пожертвования\n",
       "transaction_stage                Posted               Posted\n",
       "successful                           Да                   Да\n",
       "expected_sum                  1000000.0            1000000.0\n",
       "received_sum                  1000000.0            1000000.0\n",
       "lost_sum                              0                    0\n",
       "repeat_transaction                   Да                   Да\n",
       "user_id                          343033               343033\n",
       "user_date           2022-08-03 00:00:00  2022-08-03 00:00:00\n",
       "city                             Москва               Москва\n",
       "country                          Россия               Россия\n",
       "region                           Москва               Москва\n",
       "gender                       неизвестно           неизвестно\n",
       "company_id                            0                    0\n",
       "company_date                        NaT                  NaT\n",
       "payment_date                       None                 None\n",
       "code                               f209                 f209\n",
       "fact_sum                     10000000.0           10000000.0\n",
       "missing_users                         0                    0\n",
       "missing_date                          0                    0\n",
       "payment_month                   2022-08              2023-03"
      ]
     },
     "execution_count": 180,
     "metadata": {},
     "output_type": "execute_result"
    }
   ],
   "source": [
    "df.loc[df['fact_sum']==10000000].T"
   ]
  },
  {
   "cell_type": "markdown",
   "id": "6d289639-b850-4e8d-a15e-26c1b45be86c",
   "metadata": {},
   "source": [
    "Средняя сумма пожертвования - 4271 руб, медианное значение - 534 руб. Минимальная сумма пожертвования - 0.01 руб, максимальная- 10млн.руб. Заметим, что оба платежа по 10 млн руб - это повторные пожертвования с кодом f209 от одного и того же донора user_id=343033 из Москвы в августе 2022 и марте 2023"
   ]
  },
  {
   "cell_type": "code",
   "execution_count": 184,
   "id": "3b9f2aef-117d-4f25-9897-661a5797d940",
   "metadata": {},
   "outputs": [
    {
     "ename": "UndefinedVariableError",
     "evalue": "name 'NaT' is not defined",
     "output_type": "error",
     "traceback": [
      "\u001b[1;31m---------------------------------------------------------------------------\u001b[0m",
      "\u001b[1;31mKeyError\u001b[0m                                  Traceback (most recent call last)",
      "File \u001b[1;32m~\\anaconda3\\Lib\\site-packages\\pandas\\core\\computation\\scope.py:231\u001b[0m, in \u001b[0;36mScope.resolve\u001b[1;34m(self, key, is_local)\u001b[0m\n\u001b[0;32m    230\u001b[0m \u001b[38;5;28;01mif\u001b[39;00m \u001b[38;5;28mself\u001b[39m\u001b[38;5;241m.\u001b[39mhas_resolvers:\n\u001b[1;32m--> 231\u001b[0m     \u001b[38;5;28;01mreturn\u001b[39;00m \u001b[38;5;28mself\u001b[39m\u001b[38;5;241m.\u001b[39mresolvers[key]\n\u001b[0;32m    233\u001b[0m \u001b[38;5;66;03m# if we're here that means that we have no locals and we also have\u001b[39;00m\n\u001b[0;32m    234\u001b[0m \u001b[38;5;66;03m# no resolvers\u001b[39;00m\n",
      "File \u001b[1;32m~\\anaconda3\\Lib\\collections\\__init__.py:1015\u001b[0m, in \u001b[0;36mChainMap.__getitem__\u001b[1;34m(self, key)\u001b[0m\n\u001b[0;32m   1014\u001b[0m         \u001b[38;5;28;01mpass\u001b[39;00m\n\u001b[1;32m-> 1015\u001b[0m \u001b[38;5;28;01mreturn\u001b[39;00m \u001b[38;5;28mself\u001b[39m\u001b[38;5;241m.\u001b[39m\u001b[38;5;21m__missing__\u001b[39m(key)\n",
      "File \u001b[1;32m~\\anaconda3\\Lib\\collections\\__init__.py:1007\u001b[0m, in \u001b[0;36mChainMap.__missing__\u001b[1;34m(self, key)\u001b[0m\n\u001b[0;32m   1006\u001b[0m \u001b[38;5;28;01mdef\u001b[39;00m \u001b[38;5;21m__missing__\u001b[39m(\u001b[38;5;28mself\u001b[39m, key):\n\u001b[1;32m-> 1007\u001b[0m     \u001b[38;5;28;01mraise\u001b[39;00m \u001b[38;5;167;01mKeyError\u001b[39;00m(key)\n",
      "\u001b[1;31mKeyError\u001b[0m: 'NaT'",
      "\nDuring handling of the above exception, another exception occurred:\n",
      "\u001b[1;31mKeyError\u001b[0m                                  Traceback (most recent call last)",
      "File \u001b[1;32m~\\anaconda3\\Lib\\site-packages\\pandas\\core\\computation\\scope.py:242\u001b[0m, in \u001b[0;36mScope.resolve\u001b[1;34m(self, key, is_local)\u001b[0m\n\u001b[0;32m    238\u001b[0m \u001b[38;5;28;01mtry\u001b[39;00m:\n\u001b[0;32m    239\u001b[0m     \u001b[38;5;66;03m# last ditch effort we look in temporaries\u001b[39;00m\n\u001b[0;32m    240\u001b[0m     \u001b[38;5;66;03m# these are created when parsing indexing expressions\u001b[39;00m\n\u001b[0;32m    241\u001b[0m     \u001b[38;5;66;03m# e.g., df[df > 0]\u001b[39;00m\n\u001b[1;32m--> 242\u001b[0m     \u001b[38;5;28;01mreturn\u001b[39;00m \u001b[38;5;28mself\u001b[39m\u001b[38;5;241m.\u001b[39mtemps[key]\n\u001b[0;32m    243\u001b[0m \u001b[38;5;28;01mexcept\u001b[39;00m \u001b[38;5;167;01mKeyError\u001b[39;00m \u001b[38;5;28;01mas\u001b[39;00m err:\n",
      "\u001b[1;31mKeyError\u001b[0m: 'NaT'",
      "\nThe above exception was the direct cause of the following exception:\n",
      "\u001b[1;31mUndefinedVariableError\u001b[0m                    Traceback (most recent call last)",
      "Cell \u001b[1;32mIn[184], line 1\u001b[0m\n\u001b[1;32m----> 1\u001b[0m df\u001b[38;5;241m.\u001b[39mquery(\u001b[38;5;124m'\u001b[39m\u001b[38;5;124mdate_min != payment_date & payment_date!=NaT\u001b[39m\u001b[38;5;124m'\u001b[39m)\n",
      "File \u001b[1;32m~\\anaconda3\\Lib\\site-packages\\pandas\\core\\frame.py:4823\u001b[0m, in \u001b[0;36mDataFrame.query\u001b[1;34m(self, expr, inplace, **kwargs)\u001b[0m\n\u001b[0;32m   4821\u001b[0m kwargs[\u001b[38;5;124m\"\u001b[39m\u001b[38;5;124mlevel\u001b[39m\u001b[38;5;124m\"\u001b[39m] \u001b[38;5;241m=\u001b[39m kwargs\u001b[38;5;241m.\u001b[39mpop(\u001b[38;5;124m\"\u001b[39m\u001b[38;5;124mlevel\u001b[39m\u001b[38;5;124m\"\u001b[39m, \u001b[38;5;241m0\u001b[39m) \u001b[38;5;241m+\u001b[39m \u001b[38;5;241m1\u001b[39m\n\u001b[0;32m   4822\u001b[0m kwargs[\u001b[38;5;124m\"\u001b[39m\u001b[38;5;124mtarget\u001b[39m\u001b[38;5;124m\"\u001b[39m] \u001b[38;5;241m=\u001b[39m \u001b[38;5;28;01mNone\u001b[39;00m\n\u001b[1;32m-> 4823\u001b[0m res \u001b[38;5;241m=\u001b[39m \u001b[38;5;28mself\u001b[39m\u001b[38;5;241m.\u001b[39meval(expr, \u001b[38;5;241m*\u001b[39m\u001b[38;5;241m*\u001b[39mkwargs)\n\u001b[0;32m   4825\u001b[0m \u001b[38;5;28;01mtry\u001b[39;00m:\n\u001b[0;32m   4826\u001b[0m     result \u001b[38;5;241m=\u001b[39m \u001b[38;5;28mself\u001b[39m\u001b[38;5;241m.\u001b[39mloc[res]\n",
      "File \u001b[1;32m~\\anaconda3\\Lib\\site-packages\\pandas\\core\\frame.py:4949\u001b[0m, in \u001b[0;36mDataFrame.eval\u001b[1;34m(self, expr, inplace, **kwargs)\u001b[0m\n\u001b[0;32m   4946\u001b[0m     kwargs[\u001b[38;5;124m\"\u001b[39m\u001b[38;5;124mtarget\u001b[39m\u001b[38;5;124m\"\u001b[39m] \u001b[38;5;241m=\u001b[39m \u001b[38;5;28mself\u001b[39m\n\u001b[0;32m   4947\u001b[0m kwargs[\u001b[38;5;124m\"\u001b[39m\u001b[38;5;124mresolvers\u001b[39m\u001b[38;5;124m\"\u001b[39m] \u001b[38;5;241m=\u001b[39m \u001b[38;5;28mtuple\u001b[39m(kwargs\u001b[38;5;241m.\u001b[39mget(\u001b[38;5;124m\"\u001b[39m\u001b[38;5;124mresolvers\u001b[39m\u001b[38;5;124m\"\u001b[39m, ())) \u001b[38;5;241m+\u001b[39m resolvers\n\u001b[1;32m-> 4949\u001b[0m \u001b[38;5;28;01mreturn\u001b[39;00m _eval(expr, inplace\u001b[38;5;241m=\u001b[39minplace, \u001b[38;5;241m*\u001b[39m\u001b[38;5;241m*\u001b[39mkwargs)\n",
      "File \u001b[1;32m~\\anaconda3\\Lib\\site-packages\\pandas\\core\\computation\\eval.py:336\u001b[0m, in \u001b[0;36meval\u001b[1;34m(expr, parser, engine, local_dict, global_dict, resolvers, level, target, inplace)\u001b[0m\n\u001b[0;32m    327\u001b[0m \u001b[38;5;66;03m# get our (possibly passed-in) scope\u001b[39;00m\n\u001b[0;32m    328\u001b[0m env \u001b[38;5;241m=\u001b[39m ensure_scope(\n\u001b[0;32m    329\u001b[0m     level \u001b[38;5;241m+\u001b[39m \u001b[38;5;241m1\u001b[39m,\n\u001b[0;32m    330\u001b[0m     global_dict\u001b[38;5;241m=\u001b[39mglobal_dict,\n\u001b[1;32m   (...)\u001b[0m\n\u001b[0;32m    333\u001b[0m     target\u001b[38;5;241m=\u001b[39mtarget,\n\u001b[0;32m    334\u001b[0m )\n\u001b[1;32m--> 336\u001b[0m parsed_expr \u001b[38;5;241m=\u001b[39m Expr(expr, engine\u001b[38;5;241m=\u001b[39mengine, parser\u001b[38;5;241m=\u001b[39mparser, env\u001b[38;5;241m=\u001b[39menv)\n\u001b[0;32m    338\u001b[0m \u001b[38;5;28;01mif\u001b[39;00m engine \u001b[38;5;241m==\u001b[39m \u001b[38;5;124m\"\u001b[39m\u001b[38;5;124mnumexpr\u001b[39m\u001b[38;5;124m\"\u001b[39m \u001b[38;5;129;01mand\u001b[39;00m (\n\u001b[0;32m    339\u001b[0m     is_extension_array_dtype(parsed_expr\u001b[38;5;241m.\u001b[39mterms\u001b[38;5;241m.\u001b[39mreturn_type)\n\u001b[0;32m    340\u001b[0m     \u001b[38;5;129;01mor\u001b[39;00m \u001b[38;5;28mgetattr\u001b[39m(parsed_expr\u001b[38;5;241m.\u001b[39mterms, \u001b[38;5;124m\"\u001b[39m\u001b[38;5;124moperand_types\u001b[39m\u001b[38;5;124m\"\u001b[39m, \u001b[38;5;28;01mNone\u001b[39;00m) \u001b[38;5;129;01mis\u001b[39;00m \u001b[38;5;129;01mnot\u001b[39;00m \u001b[38;5;28;01mNone\u001b[39;00m\n\u001b[1;32m   (...)\u001b[0m\n\u001b[0;32m    344\u001b[0m     )\n\u001b[0;32m    345\u001b[0m ):\n\u001b[0;32m    346\u001b[0m     warnings\u001b[38;5;241m.\u001b[39mwarn(\n\u001b[0;32m    347\u001b[0m         \u001b[38;5;124m\"\u001b[39m\u001b[38;5;124mEngine has switched to \u001b[39m\u001b[38;5;124m'\u001b[39m\u001b[38;5;124mpython\u001b[39m\u001b[38;5;124m'\u001b[39m\u001b[38;5;124m because numexpr does not support \u001b[39m\u001b[38;5;124m\"\u001b[39m\n\u001b[0;32m    348\u001b[0m         \u001b[38;5;124m\"\u001b[39m\u001b[38;5;124mextension array dtypes. Please set your engine to python manually.\u001b[39m\u001b[38;5;124m\"\u001b[39m,\n\u001b[0;32m    349\u001b[0m         \u001b[38;5;167;01mRuntimeWarning\u001b[39;00m,\n\u001b[0;32m    350\u001b[0m         stacklevel\u001b[38;5;241m=\u001b[39mfind_stack_level(),\n\u001b[0;32m    351\u001b[0m     )\n",
      "File \u001b[1;32m~\\anaconda3\\Lib\\site-packages\\pandas\\core\\computation\\expr.py:809\u001b[0m, in \u001b[0;36mExpr.__init__\u001b[1;34m(self, expr, engine, parser, env, level)\u001b[0m\n\u001b[0;32m    807\u001b[0m \u001b[38;5;28mself\u001b[39m\u001b[38;5;241m.\u001b[39mparser \u001b[38;5;241m=\u001b[39m parser\n\u001b[0;32m    808\u001b[0m \u001b[38;5;28mself\u001b[39m\u001b[38;5;241m.\u001b[39m_visitor \u001b[38;5;241m=\u001b[39m PARSERS[parser](\u001b[38;5;28mself\u001b[39m\u001b[38;5;241m.\u001b[39menv, \u001b[38;5;28mself\u001b[39m\u001b[38;5;241m.\u001b[39mengine, \u001b[38;5;28mself\u001b[39m\u001b[38;5;241m.\u001b[39mparser)\n\u001b[1;32m--> 809\u001b[0m \u001b[38;5;28mself\u001b[39m\u001b[38;5;241m.\u001b[39mterms \u001b[38;5;241m=\u001b[39m \u001b[38;5;28mself\u001b[39m\u001b[38;5;241m.\u001b[39mparse()\n",
      "File \u001b[1;32m~\\anaconda3\\Lib\\site-packages\\pandas\\core\\computation\\expr.py:828\u001b[0m, in \u001b[0;36mExpr.parse\u001b[1;34m(self)\u001b[0m\n\u001b[0;32m    824\u001b[0m \u001b[38;5;28;01mdef\u001b[39;00m \u001b[38;5;21mparse\u001b[39m(\u001b[38;5;28mself\u001b[39m):\n\u001b[0;32m    825\u001b[0m \u001b[38;5;250m    \u001b[39m\u001b[38;5;124;03m\"\"\"\u001b[39;00m\n\u001b[0;32m    826\u001b[0m \u001b[38;5;124;03m    Parse an expression.\u001b[39;00m\n\u001b[0;32m    827\u001b[0m \u001b[38;5;124;03m    \"\"\"\u001b[39;00m\n\u001b[1;32m--> 828\u001b[0m     \u001b[38;5;28;01mreturn\u001b[39;00m \u001b[38;5;28mself\u001b[39m\u001b[38;5;241m.\u001b[39m_visitor\u001b[38;5;241m.\u001b[39mvisit(\u001b[38;5;28mself\u001b[39m\u001b[38;5;241m.\u001b[39mexpr)\n",
      "File \u001b[1;32m~\\anaconda3\\Lib\\site-packages\\pandas\\core\\computation\\expr.py:412\u001b[0m, in \u001b[0;36mBaseExprVisitor.visit\u001b[1;34m(self, node, **kwargs)\u001b[0m\n\u001b[0;32m    410\u001b[0m method \u001b[38;5;241m=\u001b[39m \u001b[38;5;124mf\u001b[39m\u001b[38;5;124m\"\u001b[39m\u001b[38;5;124mvisit_\u001b[39m\u001b[38;5;132;01m{\u001b[39;00m\u001b[38;5;28mtype\u001b[39m(node)\u001b[38;5;241m.\u001b[39m\u001b[38;5;18m__name__\u001b[39m\u001b[38;5;132;01m}\u001b[39;00m\u001b[38;5;124m\"\u001b[39m\n\u001b[0;32m    411\u001b[0m visitor \u001b[38;5;241m=\u001b[39m \u001b[38;5;28mgetattr\u001b[39m(\u001b[38;5;28mself\u001b[39m, method)\n\u001b[1;32m--> 412\u001b[0m \u001b[38;5;28;01mreturn\u001b[39;00m visitor(node, \u001b[38;5;241m*\u001b[39m\u001b[38;5;241m*\u001b[39mkwargs)\n",
      "File \u001b[1;32m~\\anaconda3\\Lib\\site-packages\\pandas\\core\\computation\\expr.py:418\u001b[0m, in \u001b[0;36mBaseExprVisitor.visit_Module\u001b[1;34m(self, node, **kwargs)\u001b[0m\n\u001b[0;32m    416\u001b[0m     \u001b[38;5;28;01mraise\u001b[39;00m \u001b[38;5;167;01mSyntaxError\u001b[39;00m(\u001b[38;5;124m\"\u001b[39m\u001b[38;5;124monly a single expression is allowed\u001b[39m\u001b[38;5;124m\"\u001b[39m)\n\u001b[0;32m    417\u001b[0m expr \u001b[38;5;241m=\u001b[39m node\u001b[38;5;241m.\u001b[39mbody[\u001b[38;5;241m0\u001b[39m]\n\u001b[1;32m--> 418\u001b[0m \u001b[38;5;28;01mreturn\u001b[39;00m \u001b[38;5;28mself\u001b[39m\u001b[38;5;241m.\u001b[39mvisit(expr, \u001b[38;5;241m*\u001b[39m\u001b[38;5;241m*\u001b[39mkwargs)\n",
      "File \u001b[1;32m~\\anaconda3\\Lib\\site-packages\\pandas\\core\\computation\\expr.py:412\u001b[0m, in \u001b[0;36mBaseExprVisitor.visit\u001b[1;34m(self, node, **kwargs)\u001b[0m\n\u001b[0;32m    410\u001b[0m method \u001b[38;5;241m=\u001b[39m \u001b[38;5;124mf\u001b[39m\u001b[38;5;124m\"\u001b[39m\u001b[38;5;124mvisit_\u001b[39m\u001b[38;5;132;01m{\u001b[39;00m\u001b[38;5;28mtype\u001b[39m(node)\u001b[38;5;241m.\u001b[39m\u001b[38;5;18m__name__\u001b[39m\u001b[38;5;132;01m}\u001b[39;00m\u001b[38;5;124m\"\u001b[39m\n\u001b[0;32m    411\u001b[0m visitor \u001b[38;5;241m=\u001b[39m \u001b[38;5;28mgetattr\u001b[39m(\u001b[38;5;28mself\u001b[39m, method)\n\u001b[1;32m--> 412\u001b[0m \u001b[38;5;28;01mreturn\u001b[39;00m visitor(node, \u001b[38;5;241m*\u001b[39m\u001b[38;5;241m*\u001b[39mkwargs)\n",
      "File \u001b[1;32m~\\anaconda3\\Lib\\site-packages\\pandas\\core\\computation\\expr.py:421\u001b[0m, in \u001b[0;36mBaseExprVisitor.visit_Expr\u001b[1;34m(self, node, **kwargs)\u001b[0m\n\u001b[0;32m    420\u001b[0m \u001b[38;5;28;01mdef\u001b[39;00m \u001b[38;5;21mvisit_Expr\u001b[39m(\u001b[38;5;28mself\u001b[39m, node, \u001b[38;5;241m*\u001b[39m\u001b[38;5;241m*\u001b[39mkwargs):\n\u001b[1;32m--> 421\u001b[0m     \u001b[38;5;28;01mreturn\u001b[39;00m \u001b[38;5;28mself\u001b[39m\u001b[38;5;241m.\u001b[39mvisit(node\u001b[38;5;241m.\u001b[39mvalue, \u001b[38;5;241m*\u001b[39m\u001b[38;5;241m*\u001b[39mkwargs)\n",
      "File \u001b[1;32m~\\anaconda3\\Lib\\site-packages\\pandas\\core\\computation\\expr.py:412\u001b[0m, in \u001b[0;36mBaseExprVisitor.visit\u001b[1;34m(self, node, **kwargs)\u001b[0m\n\u001b[0;32m    410\u001b[0m method \u001b[38;5;241m=\u001b[39m \u001b[38;5;124mf\u001b[39m\u001b[38;5;124m\"\u001b[39m\u001b[38;5;124mvisit_\u001b[39m\u001b[38;5;132;01m{\u001b[39;00m\u001b[38;5;28mtype\u001b[39m(node)\u001b[38;5;241m.\u001b[39m\u001b[38;5;18m__name__\u001b[39m\u001b[38;5;132;01m}\u001b[39;00m\u001b[38;5;124m\"\u001b[39m\n\u001b[0;32m    411\u001b[0m visitor \u001b[38;5;241m=\u001b[39m \u001b[38;5;28mgetattr\u001b[39m(\u001b[38;5;28mself\u001b[39m, method)\n\u001b[1;32m--> 412\u001b[0m \u001b[38;5;28;01mreturn\u001b[39;00m visitor(node, \u001b[38;5;241m*\u001b[39m\u001b[38;5;241m*\u001b[39mkwargs)\n",
      "File \u001b[1;32m~\\anaconda3\\Lib\\site-packages\\pandas\\core\\computation\\expr.py:746\u001b[0m, in \u001b[0;36mBaseExprVisitor.visit_BoolOp\u001b[1;34m(self, node, **kwargs)\u001b[0m\n\u001b[0;32m    743\u001b[0m     \u001b[38;5;28;01mreturn\u001b[39;00m \u001b[38;5;28mself\u001b[39m\u001b[38;5;241m.\u001b[39m_maybe_evaluate_binop(op, node\u001b[38;5;241m.\u001b[39mop, lhs, rhs)\n\u001b[0;32m    745\u001b[0m operands \u001b[38;5;241m=\u001b[39m node\u001b[38;5;241m.\u001b[39mvalues\n\u001b[1;32m--> 746\u001b[0m \u001b[38;5;28;01mreturn\u001b[39;00m reduce(visitor, operands)\n",
      "File \u001b[1;32m~\\anaconda3\\Lib\\site-packages\\pandas\\core\\computation\\expr.py:740\u001b[0m, in \u001b[0;36mBaseExprVisitor.visit_BoolOp.<locals>.visitor\u001b[1;34m(x, y)\u001b[0m\n\u001b[0;32m    738\u001b[0m \u001b[38;5;28;01mdef\u001b[39;00m \u001b[38;5;21mvisitor\u001b[39m(x, y):\n\u001b[0;32m    739\u001b[0m     lhs \u001b[38;5;241m=\u001b[39m \u001b[38;5;28mself\u001b[39m\u001b[38;5;241m.\u001b[39m_try_visit_binop(x)\n\u001b[1;32m--> 740\u001b[0m     rhs \u001b[38;5;241m=\u001b[39m \u001b[38;5;28mself\u001b[39m\u001b[38;5;241m.\u001b[39m_try_visit_binop(y)\n\u001b[0;32m    742\u001b[0m     op, op_class, lhs, rhs \u001b[38;5;241m=\u001b[39m \u001b[38;5;28mself\u001b[39m\u001b[38;5;241m.\u001b[39m_maybe_transform_eq_ne(node, lhs, rhs)\n\u001b[0;32m    743\u001b[0m     \u001b[38;5;28;01mreturn\u001b[39;00m \u001b[38;5;28mself\u001b[39m\u001b[38;5;241m.\u001b[39m_maybe_evaluate_binop(op, node\u001b[38;5;241m.\u001b[39mop, lhs, rhs)\n",
      "File \u001b[1;32m~\\anaconda3\\Lib\\site-packages\\pandas\\core\\computation\\expr.py:735\u001b[0m, in \u001b[0;36mBaseExprVisitor._try_visit_binop\u001b[1;34m(self, bop)\u001b[0m\n\u001b[0;32m    733\u001b[0m \u001b[38;5;28;01mif\u001b[39;00m \u001b[38;5;28misinstance\u001b[39m(bop, (Op, Term)):\n\u001b[0;32m    734\u001b[0m     \u001b[38;5;28;01mreturn\u001b[39;00m bop\n\u001b[1;32m--> 735\u001b[0m \u001b[38;5;28;01mreturn\u001b[39;00m \u001b[38;5;28mself\u001b[39m\u001b[38;5;241m.\u001b[39mvisit(bop)\n",
      "File \u001b[1;32m~\\anaconda3\\Lib\\site-packages\\pandas\\core\\computation\\expr.py:412\u001b[0m, in \u001b[0;36mBaseExprVisitor.visit\u001b[1;34m(self, node, **kwargs)\u001b[0m\n\u001b[0;32m    410\u001b[0m method \u001b[38;5;241m=\u001b[39m \u001b[38;5;124mf\u001b[39m\u001b[38;5;124m\"\u001b[39m\u001b[38;5;124mvisit_\u001b[39m\u001b[38;5;132;01m{\u001b[39;00m\u001b[38;5;28mtype\u001b[39m(node)\u001b[38;5;241m.\u001b[39m\u001b[38;5;18m__name__\u001b[39m\u001b[38;5;132;01m}\u001b[39;00m\u001b[38;5;124m\"\u001b[39m\n\u001b[0;32m    411\u001b[0m visitor \u001b[38;5;241m=\u001b[39m \u001b[38;5;28mgetattr\u001b[39m(\u001b[38;5;28mself\u001b[39m, method)\n\u001b[1;32m--> 412\u001b[0m \u001b[38;5;28;01mreturn\u001b[39;00m visitor(node, \u001b[38;5;241m*\u001b[39m\u001b[38;5;241m*\u001b[39mkwargs)\n",
      "File \u001b[1;32m~\\anaconda3\\Lib\\site-packages\\pandas\\core\\computation\\expr.py:719\u001b[0m, in \u001b[0;36mBaseExprVisitor.visit_Compare\u001b[1;34m(self, node, **kwargs)\u001b[0m\n\u001b[0;32m    717\u001b[0m     op \u001b[38;5;241m=\u001b[39m \u001b[38;5;28mself\u001b[39m\u001b[38;5;241m.\u001b[39mtranslate_In(ops[\u001b[38;5;241m0\u001b[39m])\n\u001b[0;32m    718\u001b[0m     binop \u001b[38;5;241m=\u001b[39m ast\u001b[38;5;241m.\u001b[39mBinOp(op\u001b[38;5;241m=\u001b[39mop, left\u001b[38;5;241m=\u001b[39mnode\u001b[38;5;241m.\u001b[39mleft, right\u001b[38;5;241m=\u001b[39mcomps[\u001b[38;5;241m0\u001b[39m])\n\u001b[1;32m--> 719\u001b[0m     \u001b[38;5;28;01mreturn\u001b[39;00m \u001b[38;5;28mself\u001b[39m\u001b[38;5;241m.\u001b[39mvisit(binop)\n\u001b[0;32m    721\u001b[0m \u001b[38;5;66;03m# recursive case: we have a chained comparison, a CMP b CMP c, etc.\u001b[39;00m\n\u001b[0;32m    722\u001b[0m left \u001b[38;5;241m=\u001b[39m node\u001b[38;5;241m.\u001b[39mleft\n",
      "File \u001b[1;32m~\\anaconda3\\Lib\\site-packages\\pandas\\core\\computation\\expr.py:412\u001b[0m, in \u001b[0;36mBaseExprVisitor.visit\u001b[1;34m(self, node, **kwargs)\u001b[0m\n\u001b[0;32m    410\u001b[0m method \u001b[38;5;241m=\u001b[39m \u001b[38;5;124mf\u001b[39m\u001b[38;5;124m\"\u001b[39m\u001b[38;5;124mvisit_\u001b[39m\u001b[38;5;132;01m{\u001b[39;00m\u001b[38;5;28mtype\u001b[39m(node)\u001b[38;5;241m.\u001b[39m\u001b[38;5;18m__name__\u001b[39m\u001b[38;5;132;01m}\u001b[39;00m\u001b[38;5;124m\"\u001b[39m\n\u001b[0;32m    411\u001b[0m visitor \u001b[38;5;241m=\u001b[39m \u001b[38;5;28mgetattr\u001b[39m(\u001b[38;5;28mself\u001b[39m, method)\n\u001b[1;32m--> 412\u001b[0m \u001b[38;5;28;01mreturn\u001b[39;00m visitor(node, \u001b[38;5;241m*\u001b[39m\u001b[38;5;241m*\u001b[39mkwargs)\n",
      "File \u001b[1;32m~\\anaconda3\\Lib\\site-packages\\pandas\\core\\computation\\expr.py:532\u001b[0m, in \u001b[0;36mBaseExprVisitor.visit_BinOp\u001b[1;34m(self, node, **kwargs)\u001b[0m\n\u001b[0;32m    531\u001b[0m \u001b[38;5;28;01mdef\u001b[39;00m \u001b[38;5;21mvisit_BinOp\u001b[39m(\u001b[38;5;28mself\u001b[39m, node, \u001b[38;5;241m*\u001b[39m\u001b[38;5;241m*\u001b[39mkwargs):\n\u001b[1;32m--> 532\u001b[0m     op, op_class, left, right \u001b[38;5;241m=\u001b[39m \u001b[38;5;28mself\u001b[39m\u001b[38;5;241m.\u001b[39m_maybe_transform_eq_ne(node)\n\u001b[0;32m    533\u001b[0m     left, right \u001b[38;5;241m=\u001b[39m \u001b[38;5;28mself\u001b[39m\u001b[38;5;241m.\u001b[39m_maybe_downcast_constants(left, right)\n\u001b[0;32m    534\u001b[0m     \u001b[38;5;28;01mreturn\u001b[39;00m \u001b[38;5;28mself\u001b[39m\u001b[38;5;241m.\u001b[39m_maybe_evaluate_binop(op, op_class, left, right)\n",
      "File \u001b[1;32m~\\anaconda3\\Lib\\site-packages\\pandas\\core\\computation\\expr.py:454\u001b[0m, in \u001b[0;36mBaseExprVisitor._maybe_transform_eq_ne\u001b[1;34m(self, node, left, right)\u001b[0m\n\u001b[0;32m    452\u001b[0m     left \u001b[38;5;241m=\u001b[39m \u001b[38;5;28mself\u001b[39m\u001b[38;5;241m.\u001b[39mvisit(node\u001b[38;5;241m.\u001b[39mleft, side\u001b[38;5;241m=\u001b[39m\u001b[38;5;124m\"\u001b[39m\u001b[38;5;124mleft\u001b[39m\u001b[38;5;124m\"\u001b[39m)\n\u001b[0;32m    453\u001b[0m \u001b[38;5;28;01mif\u001b[39;00m right \u001b[38;5;129;01mis\u001b[39;00m \u001b[38;5;28;01mNone\u001b[39;00m:\n\u001b[1;32m--> 454\u001b[0m     right \u001b[38;5;241m=\u001b[39m \u001b[38;5;28mself\u001b[39m\u001b[38;5;241m.\u001b[39mvisit(node\u001b[38;5;241m.\u001b[39mright, side\u001b[38;5;241m=\u001b[39m\u001b[38;5;124m\"\u001b[39m\u001b[38;5;124mright\u001b[39m\u001b[38;5;124m\"\u001b[39m)\n\u001b[0;32m    455\u001b[0m op, op_class, left, right \u001b[38;5;241m=\u001b[39m \u001b[38;5;28mself\u001b[39m\u001b[38;5;241m.\u001b[39m_rewrite_membership_op(node, left, right)\n\u001b[0;32m    456\u001b[0m \u001b[38;5;28;01mreturn\u001b[39;00m op, op_class, left, right\n",
      "File \u001b[1;32m~\\anaconda3\\Lib\\site-packages\\pandas\\core\\computation\\expr.py:412\u001b[0m, in \u001b[0;36mBaseExprVisitor.visit\u001b[1;34m(self, node, **kwargs)\u001b[0m\n\u001b[0;32m    410\u001b[0m method \u001b[38;5;241m=\u001b[39m \u001b[38;5;124mf\u001b[39m\u001b[38;5;124m\"\u001b[39m\u001b[38;5;124mvisit_\u001b[39m\u001b[38;5;132;01m{\u001b[39;00m\u001b[38;5;28mtype\u001b[39m(node)\u001b[38;5;241m.\u001b[39m\u001b[38;5;18m__name__\u001b[39m\u001b[38;5;132;01m}\u001b[39;00m\u001b[38;5;124m\"\u001b[39m\n\u001b[0;32m    411\u001b[0m visitor \u001b[38;5;241m=\u001b[39m \u001b[38;5;28mgetattr\u001b[39m(\u001b[38;5;28mself\u001b[39m, method)\n\u001b[1;32m--> 412\u001b[0m \u001b[38;5;28;01mreturn\u001b[39;00m visitor(node, \u001b[38;5;241m*\u001b[39m\u001b[38;5;241m*\u001b[39mkwargs)\n",
      "File \u001b[1;32m~\\anaconda3\\Lib\\site-packages\\pandas\\core\\computation\\expr.py:545\u001b[0m, in \u001b[0;36mBaseExprVisitor.visit_Name\u001b[1;34m(self, node, **kwargs)\u001b[0m\n\u001b[0;32m    544\u001b[0m \u001b[38;5;28;01mdef\u001b[39;00m \u001b[38;5;21mvisit_Name\u001b[39m(\u001b[38;5;28mself\u001b[39m, node, \u001b[38;5;241m*\u001b[39m\u001b[38;5;241m*\u001b[39mkwargs) \u001b[38;5;241m-\u001b[39m\u001b[38;5;241m>\u001b[39m Term:\n\u001b[1;32m--> 545\u001b[0m     \u001b[38;5;28;01mreturn\u001b[39;00m \u001b[38;5;28mself\u001b[39m\u001b[38;5;241m.\u001b[39mterm_type(node\u001b[38;5;241m.\u001b[39mid, \u001b[38;5;28mself\u001b[39m\u001b[38;5;241m.\u001b[39menv, \u001b[38;5;241m*\u001b[39m\u001b[38;5;241m*\u001b[39mkwargs)\n",
      "File \u001b[1;32m~\\anaconda3\\Lib\\site-packages\\pandas\\core\\computation\\ops.py:91\u001b[0m, in \u001b[0;36mTerm.__init__\u001b[1;34m(self, name, env, side, encoding)\u001b[0m\n\u001b[0;32m     89\u001b[0m tname \u001b[38;5;241m=\u001b[39m \u001b[38;5;28mstr\u001b[39m(name)\n\u001b[0;32m     90\u001b[0m \u001b[38;5;28mself\u001b[39m\u001b[38;5;241m.\u001b[39mis_local \u001b[38;5;241m=\u001b[39m tname\u001b[38;5;241m.\u001b[39mstartswith(LOCAL_TAG) \u001b[38;5;129;01mor\u001b[39;00m tname \u001b[38;5;129;01min\u001b[39;00m DEFAULT_GLOBALS\n\u001b[1;32m---> 91\u001b[0m \u001b[38;5;28mself\u001b[39m\u001b[38;5;241m.\u001b[39m_value \u001b[38;5;241m=\u001b[39m \u001b[38;5;28mself\u001b[39m\u001b[38;5;241m.\u001b[39m_resolve_name()\n\u001b[0;32m     92\u001b[0m \u001b[38;5;28mself\u001b[39m\u001b[38;5;241m.\u001b[39mencoding \u001b[38;5;241m=\u001b[39m encoding\n",
      "File \u001b[1;32m~\\anaconda3\\Lib\\site-packages\\pandas\\core\\computation\\ops.py:115\u001b[0m, in \u001b[0;36mTerm._resolve_name\u001b[1;34m(self)\u001b[0m\n\u001b[0;32m    110\u001b[0m \u001b[38;5;28;01mif\u001b[39;00m local_name \u001b[38;5;129;01min\u001b[39;00m \u001b[38;5;28mself\u001b[39m\u001b[38;5;241m.\u001b[39menv\u001b[38;5;241m.\u001b[39mscope \u001b[38;5;129;01mand\u001b[39;00m \u001b[38;5;28misinstance\u001b[39m(\n\u001b[0;32m    111\u001b[0m     \u001b[38;5;28mself\u001b[39m\u001b[38;5;241m.\u001b[39menv\u001b[38;5;241m.\u001b[39mscope[local_name], \u001b[38;5;28mtype\u001b[39m\n\u001b[0;32m    112\u001b[0m ):\n\u001b[0;32m    113\u001b[0m     is_local \u001b[38;5;241m=\u001b[39m \u001b[38;5;28;01mFalse\u001b[39;00m\n\u001b[1;32m--> 115\u001b[0m res \u001b[38;5;241m=\u001b[39m \u001b[38;5;28mself\u001b[39m\u001b[38;5;241m.\u001b[39menv\u001b[38;5;241m.\u001b[39mresolve(local_name, is_local\u001b[38;5;241m=\u001b[39mis_local)\n\u001b[0;32m    116\u001b[0m \u001b[38;5;28mself\u001b[39m\u001b[38;5;241m.\u001b[39mupdate(res)\n\u001b[0;32m    118\u001b[0m \u001b[38;5;28;01mif\u001b[39;00m \u001b[38;5;28mhasattr\u001b[39m(res, \u001b[38;5;124m\"\u001b[39m\u001b[38;5;124mndim\u001b[39m\u001b[38;5;124m\"\u001b[39m) \u001b[38;5;129;01mand\u001b[39;00m res\u001b[38;5;241m.\u001b[39mndim \u001b[38;5;241m>\u001b[39m \u001b[38;5;241m2\u001b[39m:\n",
      "File \u001b[1;32m~\\anaconda3\\Lib\\site-packages\\pandas\\core\\computation\\scope.py:244\u001b[0m, in \u001b[0;36mScope.resolve\u001b[1;34m(self, key, is_local)\u001b[0m\n\u001b[0;32m    242\u001b[0m     \u001b[38;5;28;01mreturn\u001b[39;00m \u001b[38;5;28mself\u001b[39m\u001b[38;5;241m.\u001b[39mtemps[key]\n\u001b[0;32m    243\u001b[0m \u001b[38;5;28;01mexcept\u001b[39;00m \u001b[38;5;167;01mKeyError\u001b[39;00m \u001b[38;5;28;01mas\u001b[39;00m err:\n\u001b[1;32m--> 244\u001b[0m     \u001b[38;5;28;01mraise\u001b[39;00m UndefinedVariableError(key, is_local) \u001b[38;5;28;01mfrom\u001b[39;00m \u001b[38;5;21;01merr\u001b[39;00m\n",
      "\u001b[1;31mUndefinedVariableError\u001b[0m: name 'NaT' is not defined"
     ]
    }
   ],
   "source": [
    "#df.query('date_min != payment_date & payment_date!=\"None\"')"
   ]
  },
  {
   "cell_type": "markdown",
   "id": "e2503f1f-e46b-4711-bb21-96008bd5cb8f",
   "metadata": {},
   "source": [
    "### Динамика основных показателей по годам"
   ]
  },
  {
   "cell_type": "markdown",
   "id": "65af925f-fa9e-4387-a3ff-a8d5ceea8a5b",
   "metadata": {},
   "source": [
    "#### Динамика суммы пожертвований"
   ]
  },
  {
   "cell_type": "code",
   "execution_count": 209,
   "id": "a629a319-7937-4321-807e-10911b1ae708",
   "metadata": {},
   "outputs": [],
   "source": [
    "data_sum=df.groupby(by=['payment_month','repeat_transaction'], as_index=False)['fact_sum'].sum()"
   ]
  },
  {
   "cell_type": "code",
   "execution_count": 210,
   "id": "a7d2cb9e-bb7b-4271-ab80-fecb3d20508d",
   "metadata": {},
   "outputs": [],
   "source": [
    "data_sum=data_sum.query('payment_month >=\"2022-01\"')"
   ]
  },
  {
   "cell_type": "code",
   "execution_count": 211,
   "id": "c79f0ef2-8425-44c1-a902-aea45a91b15c",
   "metadata": {},
   "outputs": [],
   "source": [
    "data_sum['payment_month']=data_sum['payment_month'].astype('str')"
   ]
  },
  {
   "cell_type": "code",
   "execution_count": 212,
   "id": "cd2351b7-fc82-4265-bb76-e5d87ebebe62",
   "metadata": {},
   "outputs": [
    {
     "data": {
      "application/vnd.plotly.v1+json": {
       "config": {
        "plotlyServerURL": "https://plot.ly"
       },
       "data": [
        {
         "alignmentgroup": "True",
         "hovertemplate": "repeat_transaction=Да<br>payment_month=%{x}<br>fact_sum=%{y}<extra></extra>",
         "legendgroup": "Да",
         "marker": {
          "color": "#636efa",
          "pattern": {
           "shape": ""
          }
         },
         "name": "Да",
         "offsetgroup": "Да",
         "orientation": "v",
         "showlegend": true,
         "textposition": "auto",
         "type": "bar",
         "x": [
          "2022-01",
          "2022-02",
          "2022-03",
          "2022-04",
          "2022-05",
          "2022-06",
          "2022-07",
          "2022-08",
          "2022-09",
          "2022-10",
          "2022-11",
          "2022-12",
          "2023-01",
          "2023-02",
          "2023-03",
          "2023-04",
          "2023-05",
          "2023-06",
          "2023-07",
          "2023-08",
          "2023-09",
          "2023-10",
          "2023-11",
          "2023-12",
          "2024-01",
          "2024-02",
          "2024-03",
          "2024-04",
          "2024-05",
          "2024-06",
          "2024-07",
          "2024-08",
          "2024-09",
          "2024-10",
          "2024-11",
          "2024-12"
         ],
         "xaxis": "x",
         "y": [
          2315914.61,
          1343503,
          5384865.39,
          2432693,
          2284660.62,
          3952551.5,
          1511757.98,
          11429090.5,
          1890911.71,
          1357165.07,
          1341262.2,
          2198604.02,
          467386.38,
          1337685.12,
          11882614.92,
          2180490.66,
          1491921.01,
          1644474.13,
          1585292.66,
          1621999.11,
          1477182.39,
          2571835.41,
          1867976.3800000001,
          1733354.3800000001,
          1382498.47,
          1015604.01,
          2694226.53,
          2502006.5,
          2431019.24,
          1547623.42,
          753192.85,
          1003147.75,
          1223578.44,
          2227360.28,
          1130351.98,
          1144241.84
         ],
         "yaxis": "y"
        },
        {
         "alignmentgroup": "True",
         "hovertemplate": "repeat_transaction=Нет<br>payment_month=%{x}<br>fact_sum=%{y}<extra></extra>",
         "legendgroup": "Нет",
         "marker": {
          "color": "#EF553B",
          "pattern": {
           "shape": ""
          }
         },
         "name": "Нет",
         "offsetgroup": "Нет",
         "orientation": "v",
         "showlegend": true,
         "textposition": "auto",
         "type": "bar",
         "x": [
          "2022-01",
          "2022-02",
          "2022-03",
          "2022-04",
          "2022-05",
          "2022-06",
          "2022-07",
          "2022-08",
          "2022-09",
          "2022-10",
          "2022-11",
          "2022-12",
          "2023-01",
          "2023-02",
          "2023-03",
          "2023-04",
          "2023-05",
          "2023-06",
          "2023-07",
          "2023-08",
          "2023-09",
          "2023-10",
          "2023-11",
          "2023-12",
          "2024-01",
          "2024-02",
          "2024-03",
          "2024-04",
          "2024-05",
          "2024-06",
          "2024-07",
          "2024-08",
          "2024-09",
          "2024-10",
          "2024-11",
          "2024-12"
         ],
         "xaxis": "x",
         "y": [
          333301.22,
          1114806.09,
          696528.07,
          1707041.24,
          1170519.3,
          1349107.02,
          364035,
          642073.09,
          1698131.73,
          377131.15,
          951365.45,
          1269200.32,
          33246.93,
          863089.61,
          903070.69,
          1308287.79,
          548289.6,
          138596.56,
          679470.41,
          669795.22,
          707498.96,
          1001165.3300000001,
          555046.25,
          606309.56,
          295963.98,
          604599.7,
          2668422.98,
          334724.7,
          450305.7,
          899888.16,
          228361.72,
          509057.12,
          973806.9099999999,
          548873.71,
          140079.61,
          822774.32
         ],
         "yaxis": "y"
        }
       ],
       "layout": {
        "autosize": true,
        "barmode": "relative",
        "legend": {
         "title": {
          "text": "repeat_transaction"
         },
         "tracegroupgap": 0
        },
        "template": {
         "data": {
          "bar": [
           {
            "error_x": {
             "color": "#2a3f5f"
            },
            "error_y": {
             "color": "#2a3f5f"
            },
            "marker": {
             "line": {
              "color": "#E5ECF6",
              "width": 0.5
             },
             "pattern": {
              "fillmode": "overlay",
              "size": 10,
              "solidity": 0.2
             }
            },
            "type": "bar"
           }
          ],
          "barpolar": [
           {
            "marker": {
             "line": {
              "color": "#E5ECF6",
              "width": 0.5
             },
             "pattern": {
              "fillmode": "overlay",
              "size": 10,
              "solidity": 0.2
             }
            },
            "type": "barpolar"
           }
          ],
          "carpet": [
           {
            "aaxis": {
             "endlinecolor": "#2a3f5f",
             "gridcolor": "white",
             "linecolor": "white",
             "minorgridcolor": "white",
             "startlinecolor": "#2a3f5f"
            },
            "baxis": {
             "endlinecolor": "#2a3f5f",
             "gridcolor": "white",
             "linecolor": "white",
             "minorgridcolor": "white",
             "startlinecolor": "#2a3f5f"
            },
            "type": "carpet"
           }
          ],
          "choropleth": [
           {
            "colorbar": {
             "outlinewidth": 0,
             "ticks": ""
            },
            "type": "choropleth"
           }
          ],
          "contour": [
           {
            "colorbar": {
             "outlinewidth": 0,
             "ticks": ""
            },
            "colorscale": [
             [
              0,
              "#0d0887"
             ],
             [
              0.1111111111111111,
              "#46039f"
             ],
             [
              0.2222222222222222,
              "#7201a8"
             ],
             [
              0.3333333333333333,
              "#9c179e"
             ],
             [
              0.4444444444444444,
              "#bd3786"
             ],
             [
              0.5555555555555556,
              "#d8576b"
             ],
             [
              0.6666666666666666,
              "#ed7953"
             ],
             [
              0.7777777777777778,
              "#fb9f3a"
             ],
             [
              0.8888888888888888,
              "#fdca26"
             ],
             [
              1,
              "#f0f921"
             ]
            ],
            "type": "contour"
           }
          ],
          "contourcarpet": [
           {
            "colorbar": {
             "outlinewidth": 0,
             "ticks": ""
            },
            "type": "contourcarpet"
           }
          ],
          "heatmap": [
           {
            "colorbar": {
             "outlinewidth": 0,
             "ticks": ""
            },
            "colorscale": [
             [
              0,
              "#0d0887"
             ],
             [
              0.1111111111111111,
              "#46039f"
             ],
             [
              0.2222222222222222,
              "#7201a8"
             ],
             [
              0.3333333333333333,
              "#9c179e"
             ],
             [
              0.4444444444444444,
              "#bd3786"
             ],
             [
              0.5555555555555556,
              "#d8576b"
             ],
             [
              0.6666666666666666,
              "#ed7953"
             ],
             [
              0.7777777777777778,
              "#fb9f3a"
             ],
             [
              0.8888888888888888,
              "#fdca26"
             ],
             [
              1,
              "#f0f921"
             ]
            ],
            "type": "heatmap"
           }
          ],
          "heatmapgl": [
           {
            "colorbar": {
             "outlinewidth": 0,
             "ticks": ""
            },
            "colorscale": [
             [
              0,
              "#0d0887"
             ],
             [
              0.1111111111111111,
              "#46039f"
             ],
             [
              0.2222222222222222,
              "#7201a8"
             ],
             [
              0.3333333333333333,
              "#9c179e"
             ],
             [
              0.4444444444444444,
              "#bd3786"
             ],
             [
              0.5555555555555556,
              "#d8576b"
             ],
             [
              0.6666666666666666,
              "#ed7953"
             ],
             [
              0.7777777777777778,
              "#fb9f3a"
             ],
             [
              0.8888888888888888,
              "#fdca26"
             ],
             [
              1,
              "#f0f921"
             ]
            ],
            "type": "heatmapgl"
           }
          ],
          "histogram": [
           {
            "marker": {
             "pattern": {
              "fillmode": "overlay",
              "size": 10,
              "solidity": 0.2
             }
            },
            "type": "histogram"
           }
          ],
          "histogram2d": [
           {
            "colorbar": {
             "outlinewidth": 0,
             "ticks": ""
            },
            "colorscale": [
             [
              0,
              "#0d0887"
             ],
             [
              0.1111111111111111,
              "#46039f"
             ],
             [
              0.2222222222222222,
              "#7201a8"
             ],
             [
              0.3333333333333333,
              "#9c179e"
             ],
             [
              0.4444444444444444,
              "#bd3786"
             ],
             [
              0.5555555555555556,
              "#d8576b"
             ],
             [
              0.6666666666666666,
              "#ed7953"
             ],
             [
              0.7777777777777778,
              "#fb9f3a"
             ],
             [
              0.8888888888888888,
              "#fdca26"
             ],
             [
              1,
              "#f0f921"
             ]
            ],
            "type": "histogram2d"
           }
          ],
          "histogram2dcontour": [
           {
            "colorbar": {
             "outlinewidth": 0,
             "ticks": ""
            },
            "colorscale": [
             [
              0,
              "#0d0887"
             ],
             [
              0.1111111111111111,
              "#46039f"
             ],
             [
              0.2222222222222222,
              "#7201a8"
             ],
             [
              0.3333333333333333,
              "#9c179e"
             ],
             [
              0.4444444444444444,
              "#bd3786"
             ],
             [
              0.5555555555555556,
              "#d8576b"
             ],
             [
              0.6666666666666666,
              "#ed7953"
             ],
             [
              0.7777777777777778,
              "#fb9f3a"
             ],
             [
              0.8888888888888888,
              "#fdca26"
             ],
             [
              1,
              "#f0f921"
             ]
            ],
            "type": "histogram2dcontour"
           }
          ],
          "mesh3d": [
           {
            "colorbar": {
             "outlinewidth": 0,
             "ticks": ""
            },
            "type": "mesh3d"
           }
          ],
          "parcoords": [
           {
            "line": {
             "colorbar": {
              "outlinewidth": 0,
              "ticks": ""
             }
            },
            "type": "parcoords"
           }
          ],
          "pie": [
           {
            "automargin": true,
            "type": "pie"
           }
          ],
          "scatter": [
           {
            "fillpattern": {
             "fillmode": "overlay",
             "size": 10,
             "solidity": 0.2
            },
            "type": "scatter"
           }
          ],
          "scatter3d": [
           {
            "line": {
             "colorbar": {
              "outlinewidth": 0,
              "ticks": ""
             }
            },
            "marker": {
             "colorbar": {
              "outlinewidth": 0,
              "ticks": ""
             }
            },
            "type": "scatter3d"
           }
          ],
          "scattercarpet": [
           {
            "marker": {
             "colorbar": {
              "outlinewidth": 0,
              "ticks": ""
             }
            },
            "type": "scattercarpet"
           }
          ],
          "scattergeo": [
           {
            "marker": {
             "colorbar": {
              "outlinewidth": 0,
              "ticks": ""
             }
            },
            "type": "scattergeo"
           }
          ],
          "scattergl": [
           {
            "marker": {
             "colorbar": {
              "outlinewidth": 0,
              "ticks": ""
             }
            },
            "type": "scattergl"
           }
          ],
          "scattermapbox": [
           {
            "marker": {
             "colorbar": {
              "outlinewidth": 0,
              "ticks": ""
             }
            },
            "type": "scattermapbox"
           }
          ],
          "scatterpolar": [
           {
            "marker": {
             "colorbar": {
              "outlinewidth": 0,
              "ticks": ""
             }
            },
            "type": "scatterpolar"
           }
          ],
          "scatterpolargl": [
           {
            "marker": {
             "colorbar": {
              "outlinewidth": 0,
              "ticks": ""
             }
            },
            "type": "scatterpolargl"
           }
          ],
          "scatterternary": [
           {
            "marker": {
             "colorbar": {
              "outlinewidth": 0,
              "ticks": ""
             }
            },
            "type": "scatterternary"
           }
          ],
          "surface": [
           {
            "colorbar": {
             "outlinewidth": 0,
             "ticks": ""
            },
            "colorscale": [
             [
              0,
              "#0d0887"
             ],
             [
              0.1111111111111111,
              "#46039f"
             ],
             [
              0.2222222222222222,
              "#7201a8"
             ],
             [
              0.3333333333333333,
              "#9c179e"
             ],
             [
              0.4444444444444444,
              "#bd3786"
             ],
             [
              0.5555555555555556,
              "#d8576b"
             ],
             [
              0.6666666666666666,
              "#ed7953"
             ],
             [
              0.7777777777777778,
              "#fb9f3a"
             ],
             [
              0.8888888888888888,
              "#fdca26"
             ],
             [
              1,
              "#f0f921"
             ]
            ],
            "type": "surface"
           }
          ],
          "table": [
           {
            "cells": {
             "fill": {
              "color": "#EBF0F8"
             },
             "line": {
              "color": "white"
             }
            },
            "header": {
             "fill": {
              "color": "#C8D4E3"
             },
             "line": {
              "color": "white"
             }
            },
            "type": "table"
           }
          ]
         },
         "layout": {
          "annotationdefaults": {
           "arrowcolor": "#2a3f5f",
           "arrowhead": 0,
           "arrowwidth": 1
          },
          "autotypenumbers": "strict",
          "coloraxis": {
           "colorbar": {
            "outlinewidth": 0,
            "ticks": ""
           }
          },
          "colorscale": {
           "diverging": [
            [
             0,
             "#8e0152"
            ],
            [
             0.1,
             "#c51b7d"
            ],
            [
             0.2,
             "#de77ae"
            ],
            [
             0.3,
             "#f1b6da"
            ],
            [
             0.4,
             "#fde0ef"
            ],
            [
             0.5,
             "#f7f7f7"
            ],
            [
             0.6,
             "#e6f5d0"
            ],
            [
             0.7,
             "#b8e186"
            ],
            [
             0.8,
             "#7fbc41"
            ],
            [
             0.9,
             "#4d9221"
            ],
            [
             1,
             "#276419"
            ]
           ],
           "sequential": [
            [
             0,
             "#0d0887"
            ],
            [
             0.1111111111111111,
             "#46039f"
            ],
            [
             0.2222222222222222,
             "#7201a8"
            ],
            [
             0.3333333333333333,
             "#9c179e"
            ],
            [
             0.4444444444444444,
             "#bd3786"
            ],
            [
             0.5555555555555556,
             "#d8576b"
            ],
            [
             0.6666666666666666,
             "#ed7953"
            ],
            [
             0.7777777777777778,
             "#fb9f3a"
            ],
            [
             0.8888888888888888,
             "#fdca26"
            ],
            [
             1,
             "#f0f921"
            ]
           ],
           "sequentialminus": [
            [
             0,
             "#0d0887"
            ],
            [
             0.1111111111111111,
             "#46039f"
            ],
            [
             0.2222222222222222,
             "#7201a8"
            ],
            [
             0.3333333333333333,
             "#9c179e"
            ],
            [
             0.4444444444444444,
             "#bd3786"
            ],
            [
             0.5555555555555556,
             "#d8576b"
            ],
            [
             0.6666666666666666,
             "#ed7953"
            ],
            [
             0.7777777777777778,
             "#fb9f3a"
            ],
            [
             0.8888888888888888,
             "#fdca26"
            ],
            [
             1,
             "#f0f921"
            ]
           ]
          },
          "colorway": [
           "#636efa",
           "#EF553B",
           "#00cc96",
           "#ab63fa",
           "#FFA15A",
           "#19d3f3",
           "#FF6692",
           "#B6E880",
           "#FF97FF",
           "#FECB52"
          ],
          "font": {
           "color": "#2a3f5f"
          },
          "geo": {
           "bgcolor": "white",
           "lakecolor": "white",
           "landcolor": "#E5ECF6",
           "showlakes": true,
           "showland": true,
           "subunitcolor": "white"
          },
          "hoverlabel": {
           "align": "left"
          },
          "hovermode": "closest",
          "mapbox": {
           "style": "light"
          },
          "paper_bgcolor": "white",
          "plot_bgcolor": "#E5ECF6",
          "polar": {
           "angularaxis": {
            "gridcolor": "white",
            "linecolor": "white",
            "ticks": ""
           },
           "bgcolor": "#E5ECF6",
           "radialaxis": {
            "gridcolor": "white",
            "linecolor": "white",
            "ticks": ""
           }
          },
          "scene": {
           "xaxis": {
            "backgroundcolor": "#E5ECF6",
            "gridcolor": "white",
            "gridwidth": 2,
            "linecolor": "white",
            "showbackground": true,
            "ticks": "",
            "zerolinecolor": "white"
           },
           "yaxis": {
            "backgroundcolor": "#E5ECF6",
            "gridcolor": "white",
            "gridwidth": 2,
            "linecolor": "white",
            "showbackground": true,
            "ticks": "",
            "zerolinecolor": "white"
           },
           "zaxis": {
            "backgroundcolor": "#E5ECF6",
            "gridcolor": "white",
            "gridwidth": 2,
            "linecolor": "white",
            "showbackground": true,
            "ticks": "",
            "zerolinecolor": "white"
           }
          },
          "shapedefaults": {
           "line": {
            "color": "#2a3f5f"
           }
          },
          "ternary": {
           "aaxis": {
            "gridcolor": "white",
            "linecolor": "white",
            "ticks": ""
           },
           "baxis": {
            "gridcolor": "white",
            "linecolor": "white",
            "ticks": ""
           },
           "bgcolor": "#E5ECF6",
           "caxis": {
            "gridcolor": "white",
            "linecolor": "white",
            "ticks": ""
           }
          },
          "title": {
           "x": 0.05
          },
          "xaxis": {
           "automargin": true,
           "gridcolor": "white",
           "linecolor": "white",
           "ticks": "",
           "title": {
            "standoff": 15
           },
           "zerolinecolor": "white",
           "zerolinewidth": 2
          },
          "yaxis": {
           "automargin": true,
           "gridcolor": "white",
           "linecolor": "white",
           "ticks": "",
           "title": {
            "standoff": 15
           },
           "zerolinecolor": "white",
           "zerolinewidth": 2
          }
         }
        },
        "title": {
         "text": "Динамика фактической суммы пожертвования"
        },
        "xaxis": {
         "anchor": "y",
         "autorange": true,
         "domain": [
          0,
          1
         ],
         "range": [
          "2021-12-18",
          "2024-12-15"
         ],
         "tickangle": 45,
         "title": {
          "text": "payment_month"
         },
         "type": "date"
        },
        "yaxis": {
         "anchor": "x",
         "autorange": true,
         "domain": [
          0,
          1
         ],
         "range": [
          0,
          13458616.431578947
         ],
         "title": {
          "text": "fact_sum"
         },
         "type": "linear"
        }
       }
      },
      "image/png": "[encoded data removed]",
      "text/html": [
       "<div>                            <div id=\"96fd18ae-bd35-44a4-8209-17aa540d0c53\" class=\"plotly-graph-div\" style=\"height:525px; width:100%;\"></div>            <script type=\"text/javascript\">                require([\"plotly\"], function(Plotly) {                    window.PLOTLYENV=window.PLOTLYENV || {};                                    if (document.getElementById(\"96fd18ae-bd35-44a4-8209-17aa540d0c53\")) {                    Plotly.newPlot(                        \"96fd18ae-bd35-44a4-8209-17aa540d0c53\",                        [{\"alignmentgroup\":\"True\",\"hovertemplate\":\"repeat_transaction=\\u0414\\u0430\\u003cbr\\u003epayment_month=%{x}\\u003cbr\\u003efact_sum=%{y}\\u003cextra\\u003e\\u003c\\u002fextra\\u003e\",\"legendgroup\":\"\\u0414\\u0430\",\"marker\":{\"color\":\"#636efa\",\"pattern\":{\"shape\":\"\"}},\"name\":\"\\u0414\\u0430\",\"offsetgroup\":\"\\u0414\\u0430\",\"orientation\":\"v\",\"showlegend\":true,\"textposition\":\"auto\",\"x\":[\"2022-01\",\"2022-02\",\"2022-03\",\"2022-04\",\"2022-05\",\"2022-06\",\"2022-07\",\"2022-08\",\"2022-09\",\"2022-10\",\"2022-11\",\"2022-12\",\"2023-01\",\"2023-02\",\"2023-03\",\"2023-04\",\"2023-05\",\"2023-06\",\"2023-07\",\"2023-08\",\"2023-09\",\"2023-10\",\"2023-11\",\"2023-12\",\"2024-01\",\"2024-02\",\"2024-03\",\"2024-04\",\"2024-05\",\"2024-06\",\"2024-07\",\"2024-08\",\"2024-09\",\"2024-10\",\"2024-11\",\"2024-12\"],\"xaxis\":\"x\",\"y\":[2315914.61,1343503.0,5384865.39,2432693.0,2284660.62,3952551.5,1511757.98,11429090.5,1890911.71,1357165.07,1341262.2,2198604.02,467386.38,1337685.12,11882614.92,2180490.66,1491921.01,1644474.13,1585292.66,1621999.11,1477182.39,2571835.41,1867976.3800000001,1733354.3800000001,1382498.47,1015604.01,2694226.53,2502006.5,2431019.24,1547623.42,753192.85,1003147.75,1223578.44,2227360.28,1130351.98,1144241.84],\"yaxis\":\"y\",\"type\":\"bar\"},{\"alignmentgroup\":\"True\",\"hovertemplate\":\"repeat_transaction=\\u041d\\u0435\\u0442\\u003cbr\\u003epayment_month=%{x}\\u003cbr\\u003efact_sum=%{y}\\u003cextra\\u003e\\u003c\\u002fextra\\u003e\",\"legendgroup\":\"\\u041d\\u0435\\u0442\",\"marker\":{\"color\":\"#EF553B\",\"pattern\":{\"shape\":\"\"}},\"name\":\"\\u041d\\u0435\\u0442\",\"offsetgroup\":\"\\u041d\\u0435\\u0442\",\"orientation\":\"v\",\"showlegend\":true,\"textposition\":\"auto\",\"x\":[\"2022-01\",\"2022-02\",\"2022-03\",\"2022-04\",\"2022-05\",\"2022-06\",\"2022-07\",\"2022-08\",\"2022-09\",\"2022-10\",\"2022-11\",\"2022-12\",\"2023-01\",\"2023-02\",\"2023-03\",\"2023-04\",\"2023-05\",\"2023-06\",\"2023-07\",\"2023-08\",\"2023-09\",\"2023-10\",\"2023-11\",\"2023-12\",\"2024-01\",\"2024-02\",\"2024-03\",\"2024-04\",\"2024-05\",\"2024-06\",\"2024-07\",\"2024-08\",\"2024-09\",\"2024-10\",\"2024-11\",\"2024-12\"],\"xaxis\":\"x\",\"y\":[333301.22,1114806.09,696528.07,1707041.24,1170519.3,1349107.02,364035.0,642073.09,1698131.73,377131.15,951365.45,1269200.32,33246.93,863089.61,903070.69,1308287.79,548289.6,138596.56,679470.41,669795.22,707498.96,1001165.3300000001,555046.25,606309.56,295963.98,604599.7,2668422.98,334724.7,450305.7,899888.16,228361.72,509057.12,973806.9099999999,548873.71,140079.61,822774.32],\"yaxis\":\"y\",\"type\":\"bar\"}],                        {\"template\":{\"data\":{\"histogram2dcontour\":[{\"type\":\"histogram2dcontour\",\"colorbar\":{\"outlinewidth\":0,\"ticks\":\"\"},\"colorscale\":[[0.0,\"#0d0887\"],[0.1111111111111111,\"#46039f\"],[0.2222222222222222,\"#7201a8\"],[0.3333333333333333,\"#9c179e\"],[0.4444444444444444,\"#bd3786\"],[0.5555555555555556,\"#d8576b\"],[0.6666666666666666,\"#ed7953\"],[0.7777777777777778,\"#fb9f3a\"],[0.8888888888888888,\"#fdca26\"],[1.0,\"#f0f921\"]]}],\"choropleth\":[{\"type\":\"choropleth\",\"colorbar\":{\"outlinewidth\":0,\"ticks\":\"\"}}],\"histogram2d\":[{\"type\":\"histogram2d\",\"colorbar\":{\"outlinewidth\":0,\"ticks\":\"\"},\"colorscale\":[[0.0,\"#0d0887\"],[0.1111111111111111,\"#46039f\"],[0.2222222222222222,\"#7201a8\"],[0.3333333333333333,\"#9c179e\"],[0.4444444444444444,\"#bd3786\"],[0.5555555555555556,\"#d8576b\"],[0.6666666666666666,\"#ed7953\"],[0.7777777777777778,\"#fb9f3a\"],[0.8888888888888888,\"#fdca26\"],[1.0,\"#f0f921\"]]}],\"heatmap\":[{\"type\":\"heatmap\",\"colorbar\":{\"outlinewidth\":0,\"ticks\":\"\"},\"colorscale\":[[0.0,\"#0d0887\"],[0.1111111111111111,\"#46039f\"],[0.2222222222222222,\"#7201a8\"],[0.3333333333333333,\"#9c179e\"],[0.4444444444444444,\"#bd3786\"],[0.5555555555555556,\"#d8576b\"],[0.6666666666666666,\"#ed7953\"],[0.7777777777777778,\"#fb9f3a\"],[0.8888888888888888,\"#fdca26\"],[1.0,\"#f0f921\"]]}],\"heatmapgl\":[{\"type\":\"heatmapgl\",\"colorbar\":{\"outlinewidth\":0,\"ticks\":\"\"},\"colorscale\":[[0.0,\"#0d0887\"],[0.1111111111111111,\"#46039f\"],[0.2222222222222222,\"#7201a8\"],[0.3333333333333333,\"#9c179e\"],[0.4444444444444444,\"#bd3786\"],[0.5555555555555556,\"#d8576b\"],[0.6666666666666666,\"#ed7953\"],[0.7777777777777778,\"#fb9f3a\"],[0.8888888888888888,\"#fdca26\"],[1.0,\"#f0f921\"]]}],\"contourcarpet\":[{\"type\":\"contourcarpet\",\"colorbar\":{\"outlinewidth\":0,\"ticks\":\"\"}}],\"contour\":[{\"type\":\"contour\",\"colorbar\":{\"outlinewidth\":0,\"ticks\":\"\"},\"colorscale\":[[0.0,\"#0d0887\"],[0.1111111111111111,\"#46039f\"],[0.2222222222222222,\"#7201a8\"],[0.3333333333333333,\"#9c179e\"],[0.4444444444444444,\"#bd3786\"],[0.5555555555555556,\"#d8576b\"],[0.6666666666666666,\"#ed7953\"],[0.7777777777777778,\"#fb9f3a\"],[0.8888888888888888,\"#fdca26\"],[1.0,\"#f0f921\"]]}],\"surface\":[{\"type\":\"surface\",\"colorbar\":{\"outlinewidth\":0,\"ticks\":\"\"},\"colorscale\":[[0.0,\"#0d0887\"],[0.1111111111111111,\"#46039f\"],[0.2222222222222222,\"#7201a8\"],[0.3333333333333333,\"#9c179e\"],[0.4444444444444444,\"#bd3786\"],[0.5555555555555556,\"#d8576b\"],[0.6666666666666666,\"#ed7953\"],[0.7777777777777778,\"#fb9f3a\"],[0.8888888888888888,\"#fdca26\"],[1.0,\"#f0f921\"]]}],\"mesh3d\":[{\"type\":\"mesh3d\",\"colorbar\":{\"outlinewidth\":0,\"ticks\":\"\"}}],\"scatter\":[{\"fillpattern\":{\"fillmode\":\"overlay\",\"size\":10,\"solidity\":0.2},\"type\":\"scatter\"}],\"parcoords\":[{\"type\":\"parcoords\",\"line\":{\"colorbar\":{\"outlinewidth\":0,\"ticks\":\"\"}}}],\"scatterpolargl\":[{\"type\":\"scatterpolargl\",\"marker\":{\"colorbar\":{\"outlinewidth\":0,\"ticks\":\"\"}}}],\"bar\":[{\"error_x\":{\"color\":\"#2a3f5f\"},\"error_y\":{\"color\":\"#2a3f5f\"},\"marker\":{\"line\":{\"color\":\"#E5ECF6\",\"width\":0.5},\"pattern\":{\"fillmode\":\"overlay\",\"size\":10,\"solidity\":0.2}},\"type\":\"bar\"}],\"scattergeo\":[{\"type\":\"scattergeo\",\"marker\":{\"colorbar\":{\"outlinewidth\":0,\"ticks\":\"\"}}}],\"scatterpolar\":[{\"type\":\"scatterpolar\",\"marker\":{\"colorbar\":{\"outlinewidth\":0,\"ticks\":\"\"}}}],\"histogram\":[{\"marker\":{\"pattern\":{\"fillmode\":\"overlay\",\"size\":10,\"solidity\":0.2}},\"type\":\"histogram\"}],\"scattergl\":[{\"type\":\"scattergl\",\"marker\":{\"colorbar\":{\"outlinewidth\":0,\"ticks\":\"\"}}}],\"scatter3d\":[{\"type\":\"scatter3d\",\"line\":{\"colorbar\":{\"outlinewidth\":0,\"ticks\":\"\"}},\"marker\":{\"colorbar\":{\"outlinewidth\":0,\"ticks\":\"\"}}}],\"scattermapbox\":[{\"type\":\"scattermapbox\",\"marker\":{\"colorbar\":{\"outlinewidth\":0,\"ticks\":\"\"}}}],\"scatterternary\":[{\"type\":\"scatterternary\",\"marker\":{\"colorbar\":{\"outlinewidth\":0,\"ticks\":\"\"}}}],\"scattercarpet\":[{\"type\":\"scattercarpet\",\"marker\":{\"colorbar\":{\"outlinewidth\":0,\"ticks\":\"\"}}}],\"carpet\":[{\"aaxis\":{\"endlinecolor\":\"#2a3f5f\",\"gridcolor\":\"white\",\"linecolor\":\"white\",\"minorgridcolor\":\"white\",\"startlinecolor\":\"#2a3f5f\"},\"baxis\":{\"endlinecolor\":\"#2a3f5f\",\"gridcolor\":\"white\",\"linecolor\":\"white\",\"minorgridcolor\":\"white\",\"startlinecolor\":\"#2a3f5f\"},\"type\":\"carpet\"}],\"table\":[{\"cells\":{\"fill\":{\"color\":\"#EBF0F8\"},\"line\":{\"color\":\"white\"}},\"header\":{\"fill\":{\"color\":\"#C8D4E3\"},\"line\":{\"color\":\"white\"}},\"type\":\"table\"}],\"barpolar\":[{\"marker\":{\"line\":{\"color\":\"#E5ECF6\",\"width\":0.5},\"pattern\":{\"fillmode\":\"overlay\",\"size\":10,\"solidity\":0.2}},\"type\":\"barpolar\"}],\"pie\":[{\"automargin\":true,\"type\":\"pie\"}]},\"layout\":{\"autotypenumbers\":\"strict\",\"colorway\":[\"#636efa\",\"#EF553B\",\"#00cc96\",\"#ab63fa\",\"#FFA15A\",\"#19d3f3\",\"#FF6692\",\"#B6E880\",\"#FF97FF\",\"#FECB52\"],\"font\":{\"color\":\"#2a3f5f\"},\"hovermode\":\"closest\",\"hoverlabel\":{\"align\":\"left\"},\"paper_bgcolor\":\"white\",\"plot_bgcolor\":\"#E5ECF6\",\"polar\":{\"bgcolor\":\"#E5ECF6\",\"angularaxis\":{\"gridcolor\":\"white\",\"linecolor\":\"white\",\"ticks\":\"\"},\"radialaxis\":{\"gridcolor\":\"white\",\"linecolor\":\"white\",\"ticks\":\"\"}},\"ternary\":{\"bgcolor\":\"#E5ECF6\",\"aaxis\":{\"gridcolor\":\"white\",\"linecolor\":\"white\",\"ticks\":\"\"},\"baxis\":{\"gridcolor\":\"white\",\"linecolor\":\"white\",\"ticks\":\"\"},\"caxis\":{\"gridcolor\":\"white\",\"linecolor\":\"white\",\"ticks\":\"\"}},\"coloraxis\":{\"colorbar\":{\"outlinewidth\":0,\"ticks\":\"\"}},\"colorscale\":{\"sequential\":[[0.0,\"#0d0887\"],[0.1111111111111111,\"#46039f\"],[0.2222222222222222,\"#7201a8\"],[0.3333333333333333,\"#9c179e\"],[0.4444444444444444,\"#bd3786\"],[0.5555555555555556,\"#d8576b\"],[0.6666666666666666,\"#ed7953\"],[0.7777777777777778,\"#fb9f3a\"],[0.8888888888888888,\"#fdca26\"],[1.0,\"#f0f921\"]],\"sequentialminus\":[[0.0,\"#0d0887\"],[0.1111111111111111,\"#46039f\"],[0.2222222222222222,\"#7201a8\"],[0.3333333333333333,\"#9c179e\"],[0.4444444444444444,\"#bd3786\"],[0.5555555555555556,\"#d8576b\"],[0.6666666666666666,\"#ed7953\"],[0.7777777777777778,\"#fb9f3a\"],[0.8888888888888888,\"#fdca26\"],[1.0,\"#f0f921\"]],\"diverging\":[[0,\"#8e0152\"],[0.1,\"#c51b7d\"],[0.2,\"#de77ae\"],[0.3,\"#f1b6da\"],[0.4,\"#fde0ef\"],[0.5,\"#f7f7f7\"],[0.6,\"#e6f5d0\"],[0.7,\"#b8e186\"],[0.8,\"#7fbc41\"],[0.9,\"#4d9221\"],[1,\"#276419\"]]},\"xaxis\":{\"gridcolor\":\"white\",\"linecolor\":\"white\",\"ticks\":\"\",\"title\":{\"standoff\":15},\"zerolinecolor\":\"white\",\"automargin\":true,\"zerolinewidth\":2},\"yaxis\":{\"gridcolor\":\"white\",\"linecolor\":\"white\",\"ticks\":\"\",\"title\":{\"standoff\":15},\"zerolinecolor\":\"white\",\"automargin\":true,\"zerolinewidth\":2},\"scene\":{\"xaxis\":{\"backgroundcolor\":\"#E5ECF6\",\"gridcolor\":\"white\",\"linecolor\":\"white\",\"showbackground\":true,\"ticks\":\"\",\"zerolinecolor\":\"white\",\"gridwidth\":2},\"yaxis\":{\"backgroundcolor\":\"#E5ECF6\",\"gridcolor\":\"white\",\"linecolor\":\"white\",\"showbackground\":true,\"ticks\":\"\",\"zerolinecolor\":\"white\",\"gridwidth\":2},\"zaxis\":{\"backgroundcolor\":\"#E5ECF6\",\"gridcolor\":\"white\",\"linecolor\":\"white\",\"showbackground\":true,\"ticks\":\"\",\"zerolinecolor\":\"white\",\"gridwidth\":2}},\"shapedefaults\":{\"line\":{\"color\":\"#2a3f5f\"}},\"annotationdefaults\":{\"arrowcolor\":\"#2a3f5f\",\"arrowhead\":0,\"arrowwidth\":1},\"geo\":{\"bgcolor\":\"white\",\"landcolor\":\"#E5ECF6\",\"subunitcolor\":\"white\",\"showland\":true,\"showlakes\":true,\"lakecolor\":\"white\"},\"title\":{\"x\":0.05},\"mapbox\":{\"style\":\"light\"}}},\"xaxis\":{\"anchor\":\"y\",\"domain\":[0.0,1.0],\"title\":{\"text\":\"payment_month\"},\"tickangle\":45},\"yaxis\":{\"anchor\":\"x\",\"domain\":[0.0,1.0],\"title\":{\"text\":\"fact_sum\"}},\"legend\":{\"title\":{\"text\":\"repeat_transaction\"},\"tracegroupgap\":0},\"title\":{\"text\":\"\\u0414\\u0438\\u043d\\u0430\\u043c\\u0438\\u043a\\u0430 \\u0444\\u0430\\u043a\\u0442\\u0438\\u0447\\u0435\\u0441\\u043a\\u043e\\u0439 \\u0441\\u0443\\u043c\\u043c\\u044b \\u043f\\u043e\\u0436\\u0435\\u0440\\u0442\\u0432\\u043e\\u0432\\u0430\\u043d\\u0438\\u044f\"},\"barmode\":\"relative\"},                        {\"responsive\": true}                    ).then(function(){\n",
       "                            \n",
       "var gd = document.getElementById('96fd18ae-bd35-44a4-8209-17aa540d0c53');\n",
       "var x = new MutationObserver(function (mutations, observer) {{\n",
       "        var display = window.getComputedStyle(gd).display;\n",
       "        if (!display || display === 'none') {{\n",
       "            console.log([gd, 'removed!']);\n",
       "            Plotly.purge(gd);\n",
       "            observer.disconnect();\n",
       "        }}\n",
       "}});\n",
       "\n",
       "// Listen for the removal of the full notebook cells\n",
       "var notebookContainer = gd.closest('#notebook-container');\n",
       "if (notebookContainer) {{\n",
       "    x.observe(notebookContainer, {childList: true});\n",
       "}}\n",
       "\n",
       "// Listen for the clearing of the current output cell\n",
       "var outputEl = gd.closest('.output');\n",
       "if (outputEl) {{\n",
       "    x.observe(outputEl, {childList: true});\n",
       "}}\n",
       "\n",
       "                        })                };                });            </script>        </div>"
      ]
     },
     "metadata": {},
     "output_type": "display_data"
    }
   ],
   "source": [
    "fig = px.bar(data_sum, x='payment_month', y='fact_sum', color='repeat_transaction', title='Динамика фактической суммы пожертвования')\n",
    "fig.update_xaxes(tickangle=45)\n",
    "fig.show() "
   ]
  },
  {
   "cell_type": "code",
   "execution_count": 213,
   "id": "0072ef3e-46c8-4705-b650-b45ad9497d86",
   "metadata": {},
   "outputs": [
    {
     "data": {
      "text/html": [
       "<div>\n",
       "<style scoped>\n",
       "    .dataframe tbody tr th:only-of-type {\n",
       "        vertical-align: middle;\n",
       "    }\n",
       "\n",
       "    .dataframe tbody tr th {\n",
       "        vertical-align: top;\n",
       "    }\n",
       "\n",
       "    .dataframe thead th {\n",
       "        text-align: right;\n",
       "    }\n",
       "</style>\n",
       "<table border=\"1\" class=\"dataframe\">\n",
       "  <thead>\n",
       "    <tr style=\"text-align: right;\">\n",
       "      <th></th>\n",
       "      <th>payment_month</th>\n",
       "      <th>repeat_transaction</th>\n",
       "      <th>fact_sum</th>\n",
       "    </tr>\n",
       "  </thead>\n",
       "  <tbody>\n",
       "    <tr>\n",
       "      <th>2</th>\n",
       "      <td>2022-01</td>\n",
       "      <td>Да</td>\n",
       "      <td>2315914.61</td>\n",
       "    </tr>\n",
       "    <tr>\n",
       "      <th>3</th>\n",
       "      <td>2022-01</td>\n",
       "      <td>Нет</td>\n",
       "      <td>333301.22</td>\n",
       "    </tr>\n",
       "    <tr>\n",
       "      <th>4</th>\n",
       "      <td>2022-02</td>\n",
       "      <td>Да</td>\n",
       "      <td>1343503.00</td>\n",
       "    </tr>\n",
       "    <tr>\n",
       "      <th>5</th>\n",
       "      <td>2022-02</td>\n",
       "      <td>Нет</td>\n",
       "      <td>1114806.09</td>\n",
       "    </tr>\n",
       "    <tr>\n",
       "      <th>6</th>\n",
       "      <td>2022-03</td>\n",
       "      <td>Да</td>\n",
       "      <td>5384865.39</td>\n",
       "    </tr>\n",
       "  </tbody>\n",
       "</table>\n",
       "</div>"
      ],
      "text/plain": [
       "  payment_month repeat_transaction    fact_sum\n",
       "2       2022-01                 Да  2315914.61\n",
       "3       2022-01                Нет   333301.22\n",
       "4       2022-02                 Да  1343503.00\n",
       "5       2022-02                Нет  1114806.09\n",
       "6       2022-03                 Да  5384865.39"
      ]
     },
     "execution_count": 213,
     "metadata": {},
     "output_type": "execute_result"
    }
   ],
   "source": [
    "data_sum.head()"
   ]
  },
  {
   "cell_type": "markdown",
   "id": "0f82d06e-7781-4345-9f48-12d4d9495ae9",
   "metadata": {},
   "source": [
    "#### Динамика количества пожертвований"
   ]
  },
  {
   "cell_type": "code",
   "execution_count": 214,
   "id": "f3f29a7e-5346-4829-92df-5687b42e6cd6",
   "metadata": {},
   "outputs": [],
   "source": [
    "data_id=df.groupby(by=['payment_month','repeat_transaction'], as_index=False)['id'].count()"
   ]
  },
  {
   "cell_type": "code",
   "execution_count": 215,
   "id": "418f8f21-6dae-40de-acc1-54021d873c6e",
   "metadata": {},
   "outputs": [],
   "source": [
    "data_id=data_id.query('payment_month >=\"2022-01\"')"
   ]
  },
  {
   "cell_type": "code",
   "execution_count": 216,
   "id": "017a8c63-fc9a-44a5-8a6f-09acf04f2632",
   "metadata": {},
   "outputs": [],
   "source": [
    "data_id['payment_month']=data_id['payment_month'].astype('str')"
   ]
  },
  {
   "cell_type": "code",
   "execution_count": 217,
   "id": "14be0925-4413-4007-b853-574ebe574187",
   "metadata": {},
   "outputs": [
    {
     "data": {
      "application/vnd.plotly.v1+json": {
       "config": {
        "plotlyServerURL": "https://plot.ly"
       },
       "data": [
        {
         "alignmentgroup": "True",
         "hovertemplate": "repeat_transaction=Да<br>payment_month=%{x}<br>id=%{y}<extra></extra>",
         "legendgroup": "Да",
         "marker": {
          "color": "#636efa",
          "pattern": {
           "shape": ""
          }
         },
         "name": "Да",
         "offsetgroup": "Да",
         "orientation": "v",
         "showlegend": true,
         "textposition": "auto",
         "type": "bar",
         "x": [
          "2022-01",
          "2022-02",
          "2022-03",
          "2022-04",
          "2022-05",
          "2022-06",
          "2022-07",
          "2022-08",
          "2022-09",
          "2022-10",
          "2022-11",
          "2022-12",
          "2023-01",
          "2023-02",
          "2023-03",
          "2023-04",
          "2023-05",
          "2023-06",
          "2023-07",
          "2023-08",
          "2023-09",
          "2023-10",
          "2023-11",
          "2023-12",
          "2024-01",
          "2024-02",
          "2024-03",
          "2024-04",
          "2024-05",
          "2024-06",
          "2024-07",
          "2024-08",
          "2024-09",
          "2024-10",
          "2024-11",
          "2024-12"
         ],
         "xaxis": "x",
         "y": [
          740,
          731,
          993,
          846,
          775,
          738,
          671,
          945,
          922,
          818,
          687,
          873,
          369,
          468,
          973,
          763,
          813,
          349,
          788,
          805,
          857,
          842,
          727,
          686,
          586,
          682,
          828,
          791,
          946,
          676,
          580,
          789,
          795,
          685,
          589,
          630
         ],
         "yaxis": "y"
        },
        {
         "alignmentgroup": "True",
         "hovertemplate": "repeat_transaction=Нет<br>payment_month=%{x}<br>id=%{y}<extra></extra>",
         "legendgroup": "Нет",
         "marker": {
          "color": "#EF553B",
          "pattern": {
           "shape": ""
          }
         },
         "name": "Нет",
         "offsetgroup": "Нет",
         "orientation": "v",
         "showlegend": true,
         "textposition": "auto",
         "type": "bar",
         "x": [
          "2022-01",
          "2022-02",
          "2022-03",
          "2022-04",
          "2022-05",
          "2022-06",
          "2022-07",
          "2022-08",
          "2022-09",
          "2022-10",
          "2022-11",
          "2022-12",
          "2023-01",
          "2023-02",
          "2023-03",
          "2023-04",
          "2023-05",
          "2023-06",
          "2023-07",
          "2023-08",
          "2023-09",
          "2023-10",
          "2023-11",
          "2023-12",
          "2024-01",
          "2024-02",
          "2024-03",
          "2024-04",
          "2024-05",
          "2024-06",
          "2024-07",
          "2024-08",
          "2024-09",
          "2024-10",
          "2024-11",
          "2024-12"
         ],
         "xaxis": "x",
         "y": [
          166,
          103,
          377,
          155,
          136,
          133,
          190,
          458,
          270,
          114,
          216,
          457,
          15,
          34,
          1008,
          104,
          106,
          68,
          208,
          456,
          283,
          160,
          143,
          102,
          115,
          65,
          405,
          81,
          253,
          296,
          104,
          359,
          235,
          131,
          82,
          303
         ],
         "yaxis": "y"
        }
       ],
       "layout": {
        "autosize": true,
        "barmode": "relative",
        "legend": {
         "title": {
          "text": "repeat_transaction"
         },
         "tracegroupgap": 0
        },
        "template": {
         "data": {
          "bar": [
           {
            "error_x": {
             "color": "#2a3f5f"
            },
            "error_y": {
             "color": "#2a3f5f"
            },
            "marker": {
             "line": {
              "color": "#E5ECF6",
              "width": 0.5
             },
             "pattern": {
              "fillmode": "overlay",
              "size": 10,
              "solidity": 0.2
             }
            },
            "type": "bar"
           }
          ],
          "barpolar": [
           {
            "marker": {
             "line": {
              "color": "#E5ECF6",
              "width": 0.5
             },
             "pattern": {
              "fillmode": "overlay",
              "size": 10,
              "solidity": 0.2
             }
            },
            "type": "barpolar"
           }
          ],
          "carpet": [
           {
            "aaxis": {
             "endlinecolor": "#2a3f5f",
             "gridcolor": "white",
             "linecolor": "white",
             "minorgridcolor": "white",
             "startlinecolor": "#2a3f5f"
            },
            "baxis": {
             "endlinecolor": "#2a3f5f",
             "gridcolor": "white",
             "linecolor": "white",
             "minorgridcolor": "white",
             "startlinecolor": "#2a3f5f"
            },
            "type": "carpet"
           }
          ],
          "choropleth": [
           {
            "colorbar": {
             "outlinewidth": 0,
             "ticks": ""
            },
            "type": "choropleth"
           }
          ],
          "contour": [
           {
            "colorbar": {
             "outlinewidth": 0,
             "ticks": ""
            },
            "colorscale": [
             [
              0,
              "#0d0887"
             ],
             [
              0.1111111111111111,
              "#46039f"
             ],
             [
              0.2222222222222222,
              "#7201a8"
             ],
             [
              0.3333333333333333,
              "#9c179e"
             ],
             [
              0.4444444444444444,
              "#bd3786"
             ],
             [
              0.5555555555555556,
              "#d8576b"
             ],
             [
              0.6666666666666666,
              "#ed7953"
             ],
             [
              0.7777777777777778,
              "#fb9f3a"
             ],
             [
              0.8888888888888888,
              "#fdca26"
             ],
             [
              1,
              "#f0f921"
             ]
            ],
            "type": "contour"
           }
          ],
          "contourcarpet": [
           {
            "colorbar": {
             "outlinewidth": 0,
             "ticks": ""
            },
            "type": "contourcarpet"
           }
          ],
          "heatmap": [
           {
            "colorbar": {
             "outlinewidth": 0,
             "ticks": ""
            },
            "colorscale": [
             [
              0,
              "#0d0887"
             ],
             [
              0.1111111111111111,
              "#46039f"
             ],
             [
              0.2222222222222222,
              "#7201a8"
             ],
             [
              0.3333333333333333,
              "#9c179e"
             ],
             [
              0.4444444444444444,
              "#bd3786"
             ],
             [
              0.5555555555555556,
              "#d8576b"
             ],
             [
              0.6666666666666666,
              "#ed7953"
             ],
             [
              0.7777777777777778,
              "#fb9f3a"
             ],
             [
              0.8888888888888888,
              "#fdca26"
             ],
             [
              1,
              "#f0f921"
             ]
            ],
            "type": "heatmap"
           }
          ],
          "heatmapgl": [
           {
            "colorbar": {
             "outlinewidth": 0,
             "ticks": ""
            },
            "colorscale": [
             [
              0,
              "#0d0887"
             ],
             [
              0.1111111111111111,
              "#46039f"
             ],
             [
              0.2222222222222222,
              "#7201a8"
             ],
             [
              0.3333333333333333,
              "#9c179e"
             ],
             [
              0.4444444444444444,
              "#bd3786"
             ],
             [
              0.5555555555555556,
              "#d8576b"
             ],
             [
              0.6666666666666666,
              "#ed7953"
             ],
             [
              0.7777777777777778,
              "#fb9f3a"
             ],
             [
              0.8888888888888888,
              "#fdca26"
             ],
             [
              1,
              "#f0f921"
             ]
            ],
            "type": "heatmapgl"
           }
          ],
          "histogram": [
           {
            "marker": {
             "pattern": {
              "fillmode": "overlay",
              "size": 10,
              "solidity": 0.2
             }
            },
            "type": "histogram"
           }
          ],
          "histogram2d": [
           {
            "colorbar": {
             "outlinewidth": 0,
             "ticks": ""
            },
            "colorscale": [
             [
              0,
              "#0d0887"
             ],
             [
              0.1111111111111111,
              "#46039f"
             ],
             [
              0.2222222222222222,
              "#7201a8"
             ],
             [
              0.3333333333333333,
              "#9c179e"
             ],
             [
              0.4444444444444444,
              "#bd3786"
             ],
             [
              0.5555555555555556,
              "#d8576b"
             ],
             [
              0.6666666666666666,
              "#ed7953"
             ],
             [
              0.7777777777777778,
              "#fb9f3a"
             ],
             [
              0.8888888888888888,
              "#fdca26"
             ],
             [
              1,
              "#f0f921"
             ]
            ],
            "type": "histogram2d"
           }
          ],
          "histogram2dcontour": [
           {
            "colorbar": {
             "outlinewidth": 0,
             "ticks": ""
            },
            "colorscale": [
             [
              0,
              "#0d0887"
             ],
             [
              0.1111111111111111,
              "#46039f"
             ],
             [
              0.2222222222222222,
              "#7201a8"
             ],
             [
              0.3333333333333333,
              "#9c179e"
             ],
             [
              0.4444444444444444,
              "#bd3786"
             ],
             [
              0.5555555555555556,
              "#d8576b"
             ],
             [
              0.6666666666666666,
              "#ed7953"
             ],
             [
              0.7777777777777778,
              "#fb9f3a"
             ],
             [
              0.8888888888888888,
              "#fdca26"
             ],
             [
              1,
              "#f0f921"
             ]
            ],
            "type": "histogram2dcontour"
           }
          ],
          "mesh3d": [
           {
            "colorbar": {
             "outlinewidth": 0,
             "ticks": ""
            },
            "type": "mesh3d"
           }
          ],
          "parcoords": [
           {
            "line": {
             "colorbar": {
              "outlinewidth": 0,
              "ticks": ""
             }
            },
            "type": "parcoords"
           }
          ],
          "pie": [
           {
            "automargin": true,
            "type": "pie"
           }
          ],
          "scatter": [
           {
            "fillpattern": {
             "fillmode": "overlay",
             "size": 10,
             "solidity": 0.2
            },
            "type": "scatter"
           }
          ],
          "scatter3d": [
           {
            "line": {
             "colorbar": {
              "outlinewidth": 0,
              "ticks": ""
             }
            },
            "marker": {
             "colorbar": {
              "outlinewidth": 0,
              "ticks": ""
             }
            },
            "type": "scatter3d"
           }
          ],
          "scattercarpet": [
           {
            "marker": {
             "colorbar": {
              "outlinewidth": 0,
              "ticks": ""
             }
            },
            "type": "scattercarpet"
           }
          ],
          "scattergeo": [
           {
            "marker": {
             "colorbar": {
              "outlinewidth": 0,
              "ticks": ""
             }
            },
            "type": "scattergeo"
           }
          ],
          "scattergl": [
           {
            "marker": {
             "colorbar": {
              "outlinewidth": 0,
              "ticks": ""
             }
            },
            "type": "scattergl"
           }
          ],
          "scattermapbox": [
           {
            "marker": {
             "colorbar": {
              "outlinewidth": 0,
              "ticks": ""
             }
            },
            "type": "scattermapbox"
           }
          ],
          "scatterpolar": [
           {
            "marker": {
             "colorbar": {
              "outlinewidth": 0,
              "ticks": ""
             }
            },
            "type": "scatterpolar"
           }
          ],
          "scatterpolargl": [
           {
            "marker": {
             "colorbar": {
              "outlinewidth": 0,
              "ticks": ""
             }
            },
            "type": "scatterpolargl"
           }
          ],
          "scatterternary": [
           {
            "marker": {
             "colorbar": {
              "outlinewidth": 0,
              "ticks": ""
             }
            },
            "type": "scatterternary"
           }
          ],
          "surface": [
           {
            "colorbar": {
             "outlinewidth": 0,
             "ticks": ""
            },
            "colorscale": [
             [
              0,
              "#0d0887"
             ],
             [
              0.1111111111111111,
              "#46039f"
             ],
             [
              0.2222222222222222,
              "#7201a8"
             ],
             [
              0.3333333333333333,
              "#9c179e"
             ],
             [
              0.4444444444444444,
              "#bd3786"
             ],
             [
              0.5555555555555556,
              "#d8576b"
             ],
             [
              0.6666666666666666,
              "#ed7953"
             ],
             [
              0.7777777777777778,
              "#fb9f3a"
             ],
             [
              0.8888888888888888,
              "#fdca26"
             ],
             [
              1,
              "#f0f921"
             ]
            ],
            "type": "surface"
           }
          ],
          "table": [
           {
            "cells": {
             "fill": {
              "color": "#EBF0F8"
             },
             "line": {
              "color": "white"
             }
            },
            "header": {
             "fill": {
              "color": "#C8D4E3"
             },
             "line": {
              "color": "white"
             }
            },
            "type": "table"
           }
          ]
         },
         "layout": {
          "annotationdefaults": {
           "arrowcolor": "#2a3f5f",
           "arrowhead": 0,
           "arrowwidth": 1
          },
          "autotypenumbers": "strict",
          "coloraxis": {
           "colorbar": {
            "outlinewidth": 0,
            "ticks": ""
           }
          },
          "colorscale": {
           "diverging": [
            [
             0,
             "#8e0152"
            ],
            [
             0.1,
             "#c51b7d"
            ],
            [
             0.2,
             "#de77ae"
            ],
            [
             0.3,
             "#f1b6da"
            ],
            [
             0.4,
             "#fde0ef"
            ],
            [
             0.5,
             "#f7f7f7"
            ],
            [
             0.6,
             "#e6f5d0"
            ],
            [
             0.7,
             "#b8e186"
            ],
            [
             0.8,
             "#7fbc41"
            ],
            [
             0.9,
             "#4d9221"
            ],
            [
             1,
             "#276419"
            ]
           ],
           "sequential": [
            [
             0,
             "#0d0887"
            ],
            [
             0.1111111111111111,
             "#46039f"
            ],
            [
             0.2222222222222222,
             "#7201a8"
            ],
            [
             0.3333333333333333,
             "#9c179e"
            ],
            [
             0.4444444444444444,
             "#bd3786"
            ],
            [
             0.5555555555555556,
             "#d8576b"
            ],
            [
             0.6666666666666666,
             "#ed7953"
            ],
            [
             0.7777777777777778,
             "#fb9f3a"
            ],
            [
             0.8888888888888888,
             "#fdca26"
            ],
            [
             1,
             "#f0f921"
            ]
           ],
           "sequentialminus": [
            [
             0,
             "#0d0887"
            ],
            [
             0.1111111111111111,
             "#46039f"
            ],
            [
             0.2222222222222222,
             "#7201a8"
            ],
            [
             0.3333333333333333,
             "#9c179e"
            ],
            [
             0.4444444444444444,
             "#bd3786"
            ],
            [
             0.5555555555555556,
             "#d8576b"
            ],
            [
             0.6666666666666666,
             "#ed7953"
            ],
            [
             0.7777777777777778,
             "#fb9f3a"
            ],
            [
             0.8888888888888888,
             "#fdca26"
            ],
            [
             1,
             "#f0f921"
            ]
           ]
          },
          "colorway": [
           "#636efa",
           "#EF553B",
           "#00cc96",
           "#ab63fa",
           "#FFA15A",
           "#19d3f3",
           "#FF6692",
           "#B6E880",
           "#FF97FF",
           "#FECB52"
          ],
          "font": {
           "color": "#2a3f5f"
          },
          "geo": {
           "bgcolor": "white",
           "lakecolor": "white",
           "landcolor": "#E5ECF6",
           "showlakes": true,
           "showland": true,
           "subunitcolor": "white"
          },
          "hoverlabel": {
           "align": "left"
          },
          "hovermode": "closest",
          "mapbox": {
           "style": "light"
          },
          "paper_bgcolor": "white",
          "plot_bgcolor": "#E5ECF6",
          "polar": {
           "angularaxis": {
            "gridcolor": "white",
            "linecolor": "white",
            "ticks": ""
           },
           "bgcolor": "#E5ECF6",
           "radialaxis": {
            "gridcolor": "white",
            "linecolor": "white",
            "ticks": ""
           }
          },
          "scene": {
           "xaxis": {
            "backgroundcolor": "#E5ECF6",
            "gridcolor": "white",
            "gridwidth": 2,
            "linecolor": "white",
            "showbackground": true,
            "ticks": "",
            "zerolinecolor": "white"
           },
           "yaxis": {
            "backgroundcolor": "#E5ECF6",
            "gridcolor": "white",
            "gridwidth": 2,
            "linecolor": "white",
            "showbackground": true,
            "ticks": "",
            "zerolinecolor": "white"
           },
           "zaxis": {
            "backgroundcolor": "#E5ECF6",
            "gridcolor": "white",
            "gridwidth": 2,
            "linecolor": "white",
            "showbackground": true,
            "ticks": "",
            "zerolinecolor": "white"
           }
          },
          "shapedefaults": {
           "line": {
            "color": "#2a3f5f"
           }
          },
          "ternary": {
           "aaxis": {
            "gridcolor": "white",
            "linecolor": "white",
            "ticks": ""
           },
           "baxis": {
            "gridcolor": "white",
            "linecolor": "white",
            "ticks": ""
           },
           "bgcolor": "#E5ECF6",
           "caxis": {
            "gridcolor": "white",
            "linecolor": "white",
            "ticks": ""
           }
          },
          "title": {
           "x": 0.05
          },
          "xaxis": {
           "automargin": true,
           "gridcolor": "white",
           "linecolor": "white",
           "ticks": "",
           "title": {
            "standoff": 15
           },
           "zerolinecolor": "white",
           "zerolinewidth": 2
          },
          "yaxis": {
           "automargin": true,
           "gridcolor": "white",
           "linecolor": "white",
           "ticks": "",
           "title": {
            "standoff": 15
           },
           "zerolinecolor": "white",
           "zerolinewidth": 2
          }
         }
        },
        "title": {
         "text": "Динамика количества пожертвований"
        },
        "xaxis": {
         "anchor": "y",
         "autorange": true,
         "domain": [
          0,
          1
         ],
         "range": [
          "2021-12-18",
          "2024-12-15"
         ],
         "tickangle": 45,
         "title": {
          "text": "payment_month"
         },
         "type": "date"
        },
        "yaxis": {
         "anchor": "x",
         "autorange": true,
         "domain": [
          0,
          1
         ],
         "range": [
          0,
          2085.2631578947367
         ],
         "title": {
          "text": "id"
         },
         "type": "linear"
        }
       }
      },
      "image/png": "[encoded data removed]",
      "text/html": [
       "<div>                            <div id=\"cef0a34b-23fa-4aec-a9b1-a1acc055d313\" class=\"plotly-graph-div\" style=\"height:525px; width:100%;\"></div>            <script type=\"text/javascript\">                require([\"plotly\"], function(Plotly) {                    window.PLOTLYENV=window.PLOTLYENV || {};                                    if (document.getElementById(\"cef0a34b-23fa-4aec-a9b1-a1acc055d313\")) {                    Plotly.newPlot(                        \"cef0a34b-23fa-4aec-a9b1-a1acc055d313\",                        [{\"alignmentgroup\":\"True\",\"hovertemplate\":\"repeat_transaction=\\u0414\\u0430\\u003cbr\\u003epayment_month=%{x}\\u003cbr\\u003eid=%{y}\\u003cextra\\u003e\\u003c\\u002fextra\\u003e\",\"legendgroup\":\"\\u0414\\u0430\",\"marker\":{\"color\":\"#636efa\",\"pattern\":{\"shape\":\"\"}},\"name\":\"\\u0414\\u0430\",\"offsetgroup\":\"\\u0414\\u0430\",\"orientation\":\"v\",\"showlegend\":true,\"textposition\":\"auto\",\"x\":[\"2022-01\",\"2022-02\",\"2022-03\",\"2022-04\",\"2022-05\",\"2022-06\",\"2022-07\",\"2022-08\",\"2022-09\",\"2022-10\",\"2022-11\",\"2022-12\",\"2023-01\",\"2023-02\",\"2023-03\",\"2023-04\",\"2023-05\",\"2023-06\",\"2023-07\",\"2023-08\",\"2023-09\",\"2023-10\",\"2023-11\",\"2023-12\",\"2024-01\",\"2024-02\",\"2024-03\",\"2024-04\",\"2024-05\",\"2024-06\",\"2024-07\",\"2024-08\",\"2024-09\",\"2024-10\",\"2024-11\",\"2024-12\"],\"xaxis\":\"x\",\"y\":[740,731,993,846,775,738,671,945,922,818,687,873,369,468,973,763,813,349,788,805,857,842,727,686,586,682,828,791,946,676,580,789,795,685,589,630],\"yaxis\":\"y\",\"type\":\"bar\"},{\"alignmentgroup\":\"True\",\"hovertemplate\":\"repeat_transaction=\\u041d\\u0435\\u0442\\u003cbr\\u003epayment_month=%{x}\\u003cbr\\u003eid=%{y}\\u003cextra\\u003e\\u003c\\u002fextra\\u003e\",\"legendgroup\":\"\\u041d\\u0435\\u0442\",\"marker\":{\"color\":\"#EF553B\",\"pattern\":{\"shape\":\"\"}},\"name\":\"\\u041d\\u0435\\u0442\",\"offsetgroup\":\"\\u041d\\u0435\\u0442\",\"orientation\":\"v\",\"showlegend\":true,\"textposition\":\"auto\",\"x\":[\"2022-01\",\"2022-02\",\"2022-03\",\"2022-04\",\"2022-05\",\"2022-06\",\"2022-07\",\"2022-08\",\"2022-09\",\"2022-10\",\"2022-11\",\"2022-12\",\"2023-01\",\"2023-02\",\"2023-03\",\"2023-04\",\"2023-05\",\"2023-06\",\"2023-07\",\"2023-08\",\"2023-09\",\"2023-10\",\"2023-11\",\"2023-12\",\"2024-01\",\"2024-02\",\"2024-03\",\"2024-04\",\"2024-05\",\"2024-06\",\"2024-07\",\"2024-08\",\"2024-09\",\"2024-10\",\"2024-11\",\"2024-12\"],\"xaxis\":\"x\",\"y\":[166,103,377,155,136,133,190,458,270,114,216,457,15,34,1008,104,106,68,208,456,283,160,143,102,115,65,405,81,253,296,104,359,235,131,82,303],\"yaxis\":\"y\",\"type\":\"bar\"}],                        {\"template\":{\"data\":{\"histogram2dcontour\":[{\"type\":\"histogram2dcontour\",\"colorbar\":{\"outlinewidth\":0,\"ticks\":\"\"},\"colorscale\":[[0.0,\"#0d0887\"],[0.1111111111111111,\"#46039f\"],[0.2222222222222222,\"#7201a8\"],[0.3333333333333333,\"#9c179e\"],[0.4444444444444444,\"#bd3786\"],[0.5555555555555556,\"#d8576b\"],[0.6666666666666666,\"#ed7953\"],[0.7777777777777778,\"#fb9f3a\"],[0.8888888888888888,\"#fdca26\"],[1.0,\"#f0f921\"]]}],\"choropleth\":[{\"type\":\"choropleth\",\"colorbar\":{\"outlinewidth\":0,\"ticks\":\"\"}}],\"histogram2d\":[{\"type\":\"histogram2d\",\"colorbar\":{\"outlinewidth\":0,\"ticks\":\"\"},\"colorscale\":[[0.0,\"#0d0887\"],[0.1111111111111111,\"#46039f\"],[0.2222222222222222,\"#7201a8\"],[0.3333333333333333,\"#9c179e\"],[0.4444444444444444,\"#bd3786\"],[0.5555555555555556,\"#d8576b\"],[0.6666666666666666,\"#ed7953\"],[0.7777777777777778,\"#fb9f3a\"],[0.8888888888888888,\"#fdca26\"],[1.0,\"#f0f921\"]]}],\"heatmap\":[{\"type\":\"heatmap\",\"colorbar\":{\"outlinewidth\":0,\"ticks\":\"\"},\"colorscale\":[[0.0,\"#0d0887\"],[0.1111111111111111,\"#46039f\"],[0.2222222222222222,\"#7201a8\"],[0.3333333333333333,\"#9c179e\"],[0.4444444444444444,\"#bd3786\"],[0.5555555555555556,\"#d8576b\"],[0.6666666666666666,\"#ed7953\"],[0.7777777777777778,\"#fb9f3a\"],[0.8888888888888888,\"#fdca26\"],[1.0,\"#f0f921\"]]}],\"heatmapgl\":[{\"type\":\"heatmapgl\",\"colorbar\":{\"outlinewidth\":0,\"ticks\":\"\"},\"colorscale\":[[0.0,\"#0d0887\"],[0.1111111111111111,\"#46039f\"],[0.2222222222222222,\"#7201a8\"],[0.3333333333333333,\"#9c179e\"],[0.4444444444444444,\"#bd3786\"],[0.5555555555555556,\"#d8576b\"],[0.6666666666666666,\"#ed7953\"],[0.7777777777777778,\"#fb9f3a\"],[0.8888888888888888,\"#fdca26\"],[1.0,\"#f0f921\"]]}],\"contourcarpet\":[{\"type\":\"contourcarpet\",\"colorbar\":{\"outlinewidth\":0,\"ticks\":\"\"}}],\"contour\":[{\"type\":\"contour\",\"colorbar\":{\"outlinewidth\":0,\"ticks\":\"\"},\"colorscale\":[[0.0,\"#0d0887\"],[0.1111111111111111,\"#46039f\"],[0.2222222222222222,\"#7201a8\"],[0.3333333333333333,\"#9c179e\"],[0.4444444444444444,\"#bd3786\"],[0.5555555555555556,\"#d8576b\"],[0.6666666666666666,\"#ed7953\"],[0.7777777777777778,\"#fb9f3a\"],[0.8888888888888888,\"#fdca26\"],[1.0,\"#f0f921\"]]}],\"surface\":[{\"type\":\"surface\",\"colorbar\":{\"outlinewidth\":0,\"ticks\":\"\"},\"colorscale\":[[0.0,\"#0d0887\"],[0.1111111111111111,\"#46039f\"],[0.2222222222222222,\"#7201a8\"],[0.3333333333333333,\"#9c179e\"],[0.4444444444444444,\"#bd3786\"],[0.5555555555555556,\"#d8576b\"],[0.6666666666666666,\"#ed7953\"],[0.7777777777777778,\"#fb9f3a\"],[0.8888888888888888,\"#fdca26\"],[1.0,\"#f0f921\"]]}],\"mesh3d\":[{\"type\":\"mesh3d\",\"colorbar\":{\"outlinewidth\":0,\"ticks\":\"\"}}],\"scatter\":[{\"fillpattern\":{\"fillmode\":\"overlay\",\"size\":10,\"solidity\":0.2},\"type\":\"scatter\"}],\"parcoords\":[{\"type\":\"parcoords\",\"line\":{\"colorbar\":{\"outlinewidth\":0,\"ticks\":\"\"}}}],\"scatterpolargl\":[{\"type\":\"scatterpolargl\",\"marker\":{\"colorbar\":{\"outlinewidth\":0,\"ticks\":\"\"}}}],\"bar\":[{\"error_x\":{\"color\":\"#2a3f5f\"},\"error_y\":{\"color\":\"#2a3f5f\"},\"marker\":{\"line\":{\"color\":\"#E5ECF6\",\"width\":0.5},\"pattern\":{\"fillmode\":\"overlay\",\"size\":10,\"solidity\":0.2}},\"type\":\"bar\"}],\"scattergeo\":[{\"type\":\"scattergeo\",\"marker\":{\"colorbar\":{\"outlinewidth\":0,\"ticks\":\"\"}}}],\"scatterpolar\":[{\"type\":\"scatterpolar\",\"marker\":{\"colorbar\":{\"outlinewidth\":0,\"ticks\":\"\"}}}],\"histogram\":[{\"marker\":{\"pattern\":{\"fillmode\":\"overlay\",\"size\":10,\"solidity\":0.2}},\"type\":\"histogram\"}],\"scattergl\":[{\"type\":\"scattergl\",\"marker\":{\"colorbar\":{\"outlinewidth\":0,\"ticks\":\"\"}}}],\"scatter3d\":[{\"type\":\"scatter3d\",\"line\":{\"colorbar\":{\"outlinewidth\":0,\"ticks\":\"\"}},\"marker\":{\"colorbar\":{\"outlinewidth\":0,\"ticks\":\"\"}}}],\"scattermapbox\":[{\"type\":\"scattermapbox\",\"marker\":{\"colorbar\":{\"outlinewidth\":0,\"ticks\":\"\"}}}],\"scatterternary\":[{\"type\":\"scatterternary\",\"marker\":{\"colorbar\":{\"outlinewidth\":0,\"ticks\":\"\"}}}],\"scattercarpet\":[{\"type\":\"scattercarpet\",\"marker\":{\"colorbar\":{\"outlinewidth\":0,\"ticks\":\"\"}}}],\"carpet\":[{\"aaxis\":{\"endlinecolor\":\"#2a3f5f\",\"gridcolor\":\"white\",\"linecolor\":\"white\",\"minorgridcolor\":\"white\",\"startlinecolor\":\"#2a3f5f\"},\"baxis\":{\"endlinecolor\":\"#2a3f5f\",\"gridcolor\":\"white\",\"linecolor\":\"white\",\"minorgridcolor\":\"white\",\"startlinecolor\":\"#2a3f5f\"},\"type\":\"carpet\"}],\"table\":[{\"cells\":{\"fill\":{\"color\":\"#EBF0F8\"},\"line\":{\"color\":\"white\"}},\"header\":{\"fill\":{\"color\":\"#C8D4E3\"},\"line\":{\"color\":\"white\"}},\"type\":\"table\"}],\"barpolar\":[{\"marker\":{\"line\":{\"color\":\"#E5ECF6\",\"width\":0.5},\"pattern\":{\"fillmode\":\"overlay\",\"size\":10,\"solidity\":0.2}},\"type\":\"barpolar\"}],\"pie\":[{\"automargin\":true,\"type\":\"pie\"}]},\"layout\":{\"autotypenumbers\":\"strict\",\"colorway\":[\"#636efa\",\"#EF553B\",\"#00cc96\",\"#ab63fa\",\"#FFA15A\",\"#19d3f3\",\"#FF6692\",\"#B6E880\",\"#FF97FF\",\"#FECB52\"],\"font\":{\"color\":\"#2a3f5f\"},\"hovermode\":\"closest\",\"hoverlabel\":{\"align\":\"left\"},\"paper_bgcolor\":\"white\",\"plot_bgcolor\":\"#E5ECF6\",\"polar\":{\"bgcolor\":\"#E5ECF6\",\"angularaxis\":{\"gridcolor\":\"white\",\"linecolor\":\"white\",\"ticks\":\"\"},\"radialaxis\":{\"gridcolor\":\"white\",\"linecolor\":\"white\",\"ticks\":\"\"}},\"ternary\":{\"bgcolor\":\"#E5ECF6\",\"aaxis\":{\"gridcolor\":\"white\",\"linecolor\":\"white\",\"ticks\":\"\"},\"baxis\":{\"gridcolor\":\"white\",\"linecolor\":\"white\",\"ticks\":\"\"},\"caxis\":{\"gridcolor\":\"white\",\"linecolor\":\"white\",\"ticks\":\"\"}},\"coloraxis\":{\"colorbar\":{\"outlinewidth\":0,\"ticks\":\"\"}},\"colorscale\":{\"sequential\":[[0.0,\"#0d0887\"],[0.1111111111111111,\"#46039f\"],[0.2222222222222222,\"#7201a8\"],[0.3333333333333333,\"#9c179e\"],[0.4444444444444444,\"#bd3786\"],[0.5555555555555556,\"#d8576b\"],[0.6666666666666666,\"#ed7953\"],[0.7777777777777778,\"#fb9f3a\"],[0.8888888888888888,\"#fdca26\"],[1.0,\"#f0f921\"]],\"sequentialminus\":[[0.0,\"#0d0887\"],[0.1111111111111111,\"#46039f\"],[0.2222222222222222,\"#7201a8\"],[0.3333333333333333,\"#9c179e\"],[0.4444444444444444,\"#bd3786\"],[0.5555555555555556,\"#d8576b\"],[0.6666666666666666,\"#ed7953\"],[0.7777777777777778,\"#fb9f3a\"],[0.8888888888888888,\"#fdca26\"],[1.0,\"#f0f921\"]],\"diverging\":[[0,\"#8e0152\"],[0.1,\"#c51b7d\"],[0.2,\"#de77ae\"],[0.3,\"#f1b6da\"],[0.4,\"#fde0ef\"],[0.5,\"#f7f7f7\"],[0.6,\"#e6f5d0\"],[0.7,\"#b8e186\"],[0.8,\"#7fbc41\"],[0.9,\"#4d9221\"],[1,\"#276419\"]]},\"xaxis\":{\"gridcolor\":\"white\",\"linecolor\":\"white\",\"ticks\":\"\",\"title\":{\"standoff\":15},\"zerolinecolor\":\"white\",\"automargin\":true,\"zerolinewidth\":2},\"yaxis\":{\"gridcolor\":\"white\",\"linecolor\":\"white\",\"ticks\":\"\",\"title\":{\"standoff\":15},\"zerolinecolor\":\"white\",\"automargin\":true,\"zerolinewidth\":2},\"scene\":{\"xaxis\":{\"backgroundcolor\":\"#E5ECF6\",\"gridcolor\":\"white\",\"linecolor\":\"white\",\"showbackground\":true,\"ticks\":\"\",\"zerolinecolor\":\"white\",\"gridwidth\":2},\"yaxis\":{\"backgroundcolor\":\"#E5ECF6\",\"gridcolor\":\"white\",\"linecolor\":\"white\",\"showbackground\":true,\"ticks\":\"\",\"zerolinecolor\":\"white\",\"gridwidth\":2},\"zaxis\":{\"backgroundcolor\":\"#E5ECF6\",\"gridcolor\":\"white\",\"linecolor\":\"white\",\"showbackground\":true,\"ticks\":\"\",\"zerolinecolor\":\"white\",\"gridwidth\":2}},\"shapedefaults\":{\"line\":{\"color\":\"#2a3f5f\"}},\"annotationdefaults\":{\"arrowcolor\":\"#2a3f5f\",\"arrowhead\":0,\"arrowwidth\":1},\"geo\":{\"bgcolor\":\"white\",\"landcolor\":\"#E5ECF6\",\"subunitcolor\":\"white\",\"showland\":true,\"showlakes\":true,\"lakecolor\":\"white\"},\"title\":{\"x\":0.05},\"mapbox\":{\"style\":\"light\"}}},\"xaxis\":{\"anchor\":\"y\",\"domain\":[0.0,1.0],\"title\":{\"text\":\"payment_month\"},\"tickangle\":45},\"yaxis\":{\"anchor\":\"x\",\"domain\":[0.0,1.0],\"title\":{\"text\":\"id\"}},\"legend\":{\"title\":{\"text\":\"repeat_transaction\"},\"tracegroupgap\":0},\"title\":{\"text\":\"\\u0414\\u0438\\u043d\\u0430\\u043c\\u0438\\u043a\\u0430 \\u043a\\u043e\\u043b\\u0438\\u0447\\u0435\\u0441\\u0442\\u0432\\u0430 \\u043f\\u043e\\u0436\\u0435\\u0440\\u0442\\u0432\\u043e\\u0432\\u0430\\u043d\\u0438\\u0439\"},\"barmode\":\"relative\"},                        {\"responsive\": true}                    ).then(function(){\n",
       "                            \n",
       "var gd = document.getElementById('cef0a34b-23fa-4aec-a9b1-a1acc055d313');\n",
       "var x = new MutationObserver(function (mutations, observer) {{\n",
       "        var display = window.getComputedStyle(gd).display;\n",
       "        if (!display || display === 'none') {{\n",
       "            console.log([gd, 'removed!']);\n",
       "            Plotly.purge(gd);\n",
       "            observer.disconnect();\n",
       "        }}\n",
       "}});\n",
       "\n",
       "// Listen for the removal of the full notebook cells\n",
       "var notebookContainer = gd.closest('#notebook-container');\n",
       "if (notebookContainer) {{\n",
       "    x.observe(notebookContainer, {childList: true});\n",
       "}}\n",
       "\n",
       "// Listen for the clearing of the current output cell\n",
       "var outputEl = gd.closest('.output');\n",
       "if (outputEl) {{\n",
       "    x.observe(outputEl, {childList: true});\n",
       "}}\n",
       "\n",
       "                        })                };                });            </script>        </div>"
      ]
     },
     "metadata": {},
     "output_type": "display_data"
    }
   ],
   "source": [
    "fig = px.bar(data_id, x='payment_month', y='id', color='repeat_transaction', title='Динамика количества пожертвований')\n",
    "fig.update_xaxes(tickangle=45)\n",
    "fig.show() "
   ]
  },
  {
   "cell_type": "code",
   "execution_count": 218,
   "id": "4fdb314e-f582-469a-9b97-405f0eaee31d",
   "metadata": {},
   "outputs": [
    {
     "data": {
      "text/html": [
       "<div>\n",
       "<style scoped>\n",
       "    .dataframe tbody tr th:only-of-type {\n",
       "        vertical-align: middle;\n",
       "    }\n",
       "\n",
       "    .dataframe tbody tr th {\n",
       "        vertical-align: top;\n",
       "    }\n",
       "\n",
       "    .dataframe thead th {\n",
       "        text-align: right;\n",
       "    }\n",
       "</style>\n",
       "<table border=\"1\" class=\"dataframe\">\n",
       "  <thead>\n",
       "    <tr style=\"text-align: right;\">\n",
       "      <th></th>\n",
       "      <th>payment_month</th>\n",
       "      <th>repeat_transaction</th>\n",
       "      <th>id</th>\n",
       "    </tr>\n",
       "  </thead>\n",
       "  <tbody>\n",
       "    <tr>\n",
       "      <th>2</th>\n",
       "      <td>2022-01</td>\n",
       "      <td>Да</td>\n",
       "      <td>740</td>\n",
       "    </tr>\n",
       "    <tr>\n",
       "      <th>3</th>\n",
       "      <td>2022-01</td>\n",
       "      <td>Нет</td>\n",
       "      <td>166</td>\n",
       "    </tr>\n",
       "    <tr>\n",
       "      <th>4</th>\n",
       "      <td>2022-02</td>\n",
       "      <td>Да</td>\n",
       "      <td>731</td>\n",
       "    </tr>\n",
       "    <tr>\n",
       "      <th>5</th>\n",
       "      <td>2022-02</td>\n",
       "      <td>Нет</td>\n",
       "      <td>103</td>\n",
       "    </tr>\n",
       "    <tr>\n",
       "      <th>6</th>\n",
       "      <td>2022-03</td>\n",
       "      <td>Да</td>\n",
       "      <td>993</td>\n",
       "    </tr>\n",
       "  </tbody>\n",
       "</table>\n",
       "</div>"
      ],
      "text/plain": [
       "  payment_month repeat_transaction   id\n",
       "2       2022-01                 Да  740\n",
       "3       2022-01                Нет  166\n",
       "4       2022-02                 Да  731\n",
       "5       2022-02                Нет  103\n",
       "6       2022-03                 Да  993"
      ]
     },
     "execution_count": 218,
     "metadata": {},
     "output_type": "execute_result"
    }
   ],
   "source": [
    "data_id.head()"
   ]
  },
  {
   "cell_type": "markdown",
   "id": "1f659c9d-f4ec-4fff-af4e-fe8caf661537",
   "metadata": {},
   "source": [
    "#### Динамика числа доноров"
   ]
  },
  {
   "cell_type": "code",
   "execution_count": 231,
   "id": "678692dd-c29e-49f8-a914-8c74814a2be6",
   "metadata": {},
   "outputs": [],
   "source": [
    "data_users= df.query('user_id!=0')"
   ]
  },
  {
   "cell_type": "code",
   "execution_count": 232,
   "id": "916784f8-f7aa-4e70-976d-583741fd3667",
   "metadata": {},
   "outputs": [],
   "source": [
    "data_users=data_users.groupby(by=['payment_month','repeat_transaction'], as_index=False)['user_id'].count()"
   ]
  },
  {
   "cell_type": "code",
   "execution_count": 233,
   "id": "eec62ea9-3e5d-40d9-8412-ea236d2b2e39",
   "metadata": {},
   "outputs": [],
   "source": [
    "data_users=data_users.query('payment_month >=\"2022-01\"')"
   ]
  },
  {
   "cell_type": "code",
   "execution_count": 234,
   "id": "5a218836-e771-4417-afad-05236df60fcd",
   "metadata": {},
   "outputs": [],
   "source": [
    "data_users['payment_month']=data_users['payment_month'].astype('str')"
   ]
  },
  {
   "cell_type": "code",
   "execution_count": 235,
   "id": "e80de336-492c-41c8-89c3-74406c48044b",
   "metadata": {},
   "outputs": [
    {
     "data": {
      "application/vnd.plotly.v1+json": {
       "config": {
        "plotlyServerURL": "https://plot.ly"
       },
       "data": [
        {
         "alignmentgroup": "True",
         "hovertemplate": "repeat_transaction=Да<br>payment_month=%{x}<br>user_id=%{y}<extra></extra>",
         "legendgroup": "Да",
         "marker": {
          "color": "#636efa",
          "pattern": {
           "shape": ""
          }
         },
         "name": "Да",
         "offsetgroup": "Да",
         "orientation": "v",
         "showlegend": true,
         "textposition": "auto",
         "type": "bar",
         "x": [
          "2022-01",
          "2022-02",
          "2022-03",
          "2022-04",
          "2022-05",
          "2022-06",
          "2022-07",
          "2022-08",
          "2022-09",
          "2022-10",
          "2022-11",
          "2022-12",
          "2023-01",
          "2023-02",
          "2023-03",
          "2023-04",
          "2023-05",
          "2023-06",
          "2023-07",
          "2023-08",
          "2023-09",
          "2023-10",
          "2023-11",
          "2023-12",
          "2024-01",
          "2024-02",
          "2024-03",
          "2024-04",
          "2024-05",
          "2024-06",
          "2024-07",
          "2024-08",
          "2024-09",
          "2024-10",
          "2024-11",
          "2024-12"
         ],
         "xaxis": "x",
         "y": [
          714,
          725,
          982,
          837,
          770,
          728,
          669,
          945,
          922,
          815,
          685,
          872,
          368,
          467,
          970,
          760,
          810,
          347,
          788,
          803,
          857,
          842,
          725,
          686,
          586,
          682,
          821,
          759,
          910,
          646,
          580,
          789,
          795,
          684,
          589,
          628
         ],
         "yaxis": "y"
        },
        {
         "alignmentgroup": "True",
         "hovertemplate": "repeat_transaction=Нет<br>payment_month=%{x}<br>user_id=%{y}<extra></extra>",
         "legendgroup": "Нет",
         "marker": {
          "color": "#EF553B",
          "pattern": {
           "shape": ""
          }
         },
         "name": "Нет",
         "offsetgroup": "Нет",
         "orientation": "v",
         "showlegend": true,
         "textposition": "auto",
         "type": "bar",
         "x": [
          "2022-01",
          "2022-02",
          "2022-03",
          "2022-04",
          "2022-05",
          "2022-06",
          "2022-07",
          "2022-08",
          "2022-09",
          "2022-10",
          "2022-11",
          "2022-12",
          "2023-01",
          "2023-02",
          "2023-03",
          "2023-04",
          "2023-05",
          "2023-06",
          "2023-07",
          "2023-08",
          "2023-09",
          "2023-10",
          "2023-11",
          "2023-12",
          "2024-01",
          "2024-02",
          "2024-03",
          "2024-04",
          "2024-05",
          "2024-06",
          "2024-07",
          "2024-08",
          "2024-09",
          "2024-10",
          "2024-11",
          "2024-12"
         ],
         "xaxis": "x",
         "y": [
          146,
          91,
          363,
          149,
          131,
          107,
          189,
          458,
          270,
          113,
          216,
          457,
          15,
          32,
          1008,
          103,
          106,
          68,
          208,
          455,
          282,
          160,
          143,
          102,
          115,
          65,
          403,
          79,
          253,
          295,
          104,
          359,
          234,
          131,
          81,
          303
         ],
         "yaxis": "y"
        }
       ],
       "layout": {
        "autosize": true,
        "barmode": "relative",
        "legend": {
         "title": {
          "text": "repeat_transaction"
         },
         "tracegroupgap": 0
        },
        "template": {
         "data": {
          "bar": [
           {
            "error_x": {
             "color": "#2a3f5f"
            },
            "error_y": {
             "color": "#2a3f5f"
            },
            "marker": {
             "line": {
              "color": "#E5ECF6",
              "width": 0.5
             },
             "pattern": {
              "fillmode": "overlay",
              "size": 10,
              "solidity": 0.2
             }
            },
            "type": "bar"
           }
          ],
          "barpolar": [
           {
            "marker": {
             "line": {
              "color": "#E5ECF6",
              "width": 0.5
             },
             "pattern": {
              "fillmode": "overlay",
              "size": 10,
              "solidity": 0.2
             }
            },
            "type": "barpolar"
           }
          ],
          "carpet": [
           {
            "aaxis": {
             "endlinecolor": "#2a3f5f",
             "gridcolor": "white",
             "linecolor": "white",
             "minorgridcolor": "white",
             "startlinecolor": "#2a3f5f"
            },
            "baxis": {
             "endlinecolor": "#2a3f5f",
             "gridcolor": "white",
             "linecolor": "white",
             "minorgridcolor": "white",
             "startlinecolor": "#2a3f5f"
            },
            "type": "carpet"
           }
          ],
          "choropleth": [
           {
            "colorbar": {
             "outlinewidth": 0,
             "ticks": ""
            },
            "type": "choropleth"
           }
          ],
          "contour": [
           {
            "colorbar": {
             "outlinewidth": 0,
             "ticks": ""
            },
            "colorscale": [
             [
              0,
              "#0d0887"
             ],
             [
              0.1111111111111111,
              "#46039f"
             ],
             [
              0.2222222222222222,
              "#7201a8"
             ],
             [
              0.3333333333333333,
              "#9c179e"
             ],
             [
              0.4444444444444444,
              "#bd3786"
             ],
             [
              0.5555555555555556,
              "#d8576b"
             ],
             [
              0.6666666666666666,
              "#ed7953"
             ],
             [
              0.7777777777777778,
              "#fb9f3a"
             ],
             [
              0.8888888888888888,
              "#fdca26"
             ],
             [
              1,
              "#f0f921"
             ]
            ],
            "type": "contour"
           }
          ],
          "contourcarpet": [
           {
            "colorbar": {
             "outlinewidth": 0,
             "ticks": ""
            },
            "type": "contourcarpet"
           }
          ],
          "heatmap": [
           {
            "colorbar": {
             "outlinewidth": 0,
             "ticks": ""
            },
            "colorscale": [
             [
              0,
              "#0d0887"
             ],
             [
              0.1111111111111111,
              "#46039f"
             ],
             [
              0.2222222222222222,
              "#7201a8"
             ],
             [
              0.3333333333333333,
              "#9c179e"
             ],
             [
              0.4444444444444444,
              "#bd3786"
             ],
             [
              0.5555555555555556,
              "#d8576b"
             ],
             [
              0.6666666666666666,
              "#ed7953"
             ],
             [
              0.7777777777777778,
              "#fb9f3a"
             ],
             [
              0.8888888888888888,
              "#fdca26"
             ],
             [
              1,
              "#f0f921"
             ]
            ],
            "type": "heatmap"
           }
          ],
          "heatmapgl": [
           {
            "colorbar": {
             "outlinewidth": 0,
             "ticks": ""
            },
            "colorscale": [
             [
              0,
              "#0d0887"
             ],
             [
              0.1111111111111111,
              "#46039f"
             ],
             [
              0.2222222222222222,
              "#7201a8"
             ],
             [
              0.3333333333333333,
              "#9c179e"
             ],
             [
              0.4444444444444444,
              "#bd3786"
             ],
             [
              0.5555555555555556,
              "#d8576b"
             ],
             [
              0.6666666666666666,
              "#ed7953"
             ],
             [
              0.7777777777777778,
              "#fb9f3a"
             ],
             [
              0.8888888888888888,
              "#fdca26"
             ],
             [
              1,
              "#f0f921"
             ]
            ],
            "type": "heatmapgl"
           }
          ],
          "histogram": [
           {
            "marker": {
             "pattern": {
              "fillmode": "overlay",
              "size": 10,
              "solidity": 0.2
             }
            },
            "type": "histogram"
           }
          ],
          "histogram2d": [
           {
            "colorbar": {
             "outlinewidth": 0,
             "ticks": ""
            },
            "colorscale": [
             [
              0,
              "#0d0887"
             ],
             [
              0.1111111111111111,
              "#46039f"
             ],
             [
              0.2222222222222222,
              "#7201a8"
             ],
             [
              0.3333333333333333,
              "#9c179e"
             ],
             [
              0.4444444444444444,
              "#bd3786"
             ],
             [
              0.5555555555555556,
              "#d8576b"
             ],
             [
              0.6666666666666666,
              "#ed7953"
             ],
             [
              0.7777777777777778,
              "#fb9f3a"
             ],
             [
              0.8888888888888888,
              "#fdca26"
             ],
             [
              1,
              "#f0f921"
             ]
            ],
            "type": "histogram2d"
           }
          ],
          "histogram2dcontour": [
           {
            "colorbar": {
             "outlinewidth": 0,
             "ticks": ""
            },
            "colorscale": [
             [
              0,
              "#0d0887"
             ],
             [
              0.1111111111111111,
              "#46039f"
             ],
             [
              0.2222222222222222,
              "#7201a8"
             ],
             [
              0.3333333333333333,
              "#9c179e"
             ],
             [
              0.4444444444444444,
              "#bd3786"
             ],
             [
              0.5555555555555556,
              "#d8576b"
             ],
             [
              0.6666666666666666,
              "#ed7953"
             ],
             [
              0.7777777777777778,
              "#fb9f3a"
             ],
             [
              0.8888888888888888,
              "#fdca26"
             ],
             [
              1,
              "#f0f921"
             ]
            ],
            "type": "histogram2dcontour"
           }
          ],
          "mesh3d": [
           {
            "colorbar": {
             "outlinewidth": 0,
             "ticks": ""
            },
            "type": "mesh3d"
           }
          ],
          "parcoords": [
           {
            "line": {
             "colorbar": {
              "outlinewidth": 0,
              "ticks": ""
             }
            },
            "type": "parcoords"
           }
          ],
          "pie": [
           {
            "automargin": true,
            "type": "pie"
           }
          ],
          "scatter": [
           {
            "fillpattern": {
             "fillmode": "overlay",
             "size": 10,
             "solidity": 0.2
            },
            "type": "scatter"
           }
          ],
          "scatter3d": [
           {
            "line": {
             "colorbar": {
              "outlinewidth": 0,
              "ticks": ""
             }
            },
            "marker": {
             "colorbar": {
              "outlinewidth": 0,
              "ticks": ""
             }
            },
            "type": "scatter3d"
           }
          ],
          "scattercarpet": [
           {
            "marker": {
             "colorbar": {
              "outlinewidth": 0,
              "ticks": ""
             }
            },
            "type": "scattercarpet"
           }
          ],
          "scattergeo": [
           {
            "marker": {
             "colorbar": {
              "outlinewidth": 0,
              "ticks": ""
             }
            },
            "type": "scattergeo"
           }
          ],
          "scattergl": [
           {
            "marker": {
             "colorbar": {
              "outlinewidth": 0,
              "ticks": ""
             }
            },
            "type": "scattergl"
           }
          ],
          "scattermapbox": [
           {
            "marker": {
             "colorbar": {
              "outlinewidth": 0,
              "ticks": ""
             }
            },
            "type": "scattermapbox"
           }
          ],
          "scatterpolar": [
           {
            "marker": {
             "colorbar": {
              "outlinewidth": 0,
              "ticks": ""
             }
            },
            "type": "scatterpolar"
           }
          ],
          "scatterpolargl": [
           {
            "marker": {
             "colorbar": {
              "outlinewidth": 0,
              "ticks": ""
             }
            },
            "type": "scatterpolargl"
           }
          ],
          "scatterternary": [
           {
            "marker": {
             "colorbar": {
              "outlinewidth": 0,
              "ticks": ""
             }
            },
            "type": "scatterternary"
           }
          ],
          "surface": [
           {
            "colorbar": {
             "outlinewidth": 0,
             "ticks": ""
            },
            "colorscale": [
             [
              0,
              "#0d0887"
             ],
             [
              0.1111111111111111,
              "#46039f"
             ],
             [
              0.2222222222222222,
              "#7201a8"
             ],
             [
              0.3333333333333333,
              "#9c179e"
             ],
             [
              0.4444444444444444,
              "#bd3786"
             ],
             [
              0.5555555555555556,
              "#d8576b"
             ],
             [
              0.6666666666666666,
              "#ed7953"
             ],
             [
              0.7777777777777778,
              "#fb9f3a"
             ],
             [
              0.8888888888888888,
              "#fdca26"
             ],
             [
              1,
              "#f0f921"
             ]
            ],
            "type": "surface"
           }
          ],
          "table": [
           {
            "cells": {
             "fill": {
              "color": "#EBF0F8"
             },
             "line": {
              "color": "white"
             }
            },
            "header": {
             "fill": {
              "color": "#C8D4E3"
             },
             "line": {
              "color": "white"
             }
            },
            "type": "table"
           }
          ]
         },
         "layout": {
          "annotationdefaults": {
           "arrowcolor": "#2a3f5f",
           "arrowhead": 0,
           "arrowwidth": 1
          },
          "autotypenumbers": "strict",
          "coloraxis": {
           "colorbar": {
            "outlinewidth": 0,
            "ticks": ""
           }
          },
          "colorscale": {
           "diverging": [
            [
             0,
             "#8e0152"
            ],
            [
             0.1,
             "#c51b7d"
            ],
            [
             0.2,
             "#de77ae"
            ],
            [
             0.3,
             "#f1b6da"
            ],
            [
             0.4,
             "#fde0ef"
            ],
            [
             0.5,
             "#f7f7f7"
            ],
            [
             0.6,
             "#e6f5d0"
            ],
            [
             0.7,
             "#b8e186"
            ],
            [
             0.8,
             "#7fbc41"
            ],
            [
             0.9,
             "#4d9221"
            ],
            [
             1,
             "#276419"
            ]
           ],
           "sequential": [
            [
             0,
             "#0d0887"
            ],
            [
             0.1111111111111111,
             "#46039f"
            ],
            [
             0.2222222222222222,
             "#7201a8"
            ],
            [
             0.3333333333333333,
             "#9c179e"
            ],
            [
             0.4444444444444444,
             "#bd3786"
            ],
            [
             0.5555555555555556,
             "#d8576b"
            ],
            [
             0.6666666666666666,
             "#ed7953"
            ],
            [
             0.7777777777777778,
             "#fb9f3a"
            ],
            [
             0.8888888888888888,
             "#fdca26"
            ],
            [
             1,
             "#f0f921"
            ]
           ],
           "sequentialminus": [
            [
             0,
             "#0d0887"
            ],
            [
             0.1111111111111111,
             "#46039f"
            ],
            [
             0.2222222222222222,
             "#7201a8"
            ],
            [
             0.3333333333333333,
             "#9c179e"
            ],
            [
             0.4444444444444444,
             "#bd3786"
            ],
            [
             0.5555555555555556,
             "#d8576b"
            ],
            [
             0.6666666666666666,
             "#ed7953"
            ],
            [
             0.7777777777777778,
             "#fb9f3a"
            ],
            [
             0.8888888888888888,
             "#fdca26"
            ],
            [
             1,
             "#f0f921"
            ]
           ]
          },
          "colorway": [
           "#636efa",
           "#EF553B",
           "#00cc96",
           "#ab63fa",
           "#FFA15A",
           "#19d3f3",
           "#FF6692",
           "#B6E880",
           "#FF97FF",
           "#FECB52"
          ],
          "font": {
           "color": "#2a3f5f"
          },
          "geo": {
           "bgcolor": "white",
           "lakecolor": "white",
           "landcolor": "#E5ECF6",
           "showlakes": true,
           "showland": true,
           "subunitcolor": "white"
          },
          "hoverlabel": {
           "align": "left"
          },
          "hovermode": "closest",
          "mapbox": {
           "style": "light"
          },
          "paper_bgcolor": "white",
          "plot_bgcolor": "#E5ECF6",
          "polar": {
           "angularaxis": {
            "gridcolor": "white",
            "linecolor": "white",
            "ticks": ""
           },
           "bgcolor": "#E5ECF6",
           "radialaxis": {
            "gridcolor": "white",
            "linecolor": "white",
            "ticks": ""
           }
          },
          "scene": {
           "xaxis": {
            "backgroundcolor": "#E5ECF6",
            "gridcolor": "white",
            "gridwidth": 2,
            "linecolor": "white",
            "showbackground": true,
            "ticks": "",
            "zerolinecolor": "white"
           },
           "yaxis": {
            "backgroundcolor": "#E5ECF6",
            "gridcolor": "white",
            "gridwidth": 2,
            "linecolor": "white",
            "showbackground": true,
            "ticks": "",
            "zerolinecolor": "white"
           },
           "zaxis": {
            "backgroundcolor": "#E5ECF6",
            "gridcolor": "white",
            "gridwidth": 2,
            "linecolor": "white",
            "showbackground": true,
            "ticks": "",
            "zerolinecolor": "white"
           }
          },
          "shapedefaults": {
           "line": {
            "color": "#2a3f5f"
           }
          },
          "ternary": {
           "aaxis": {
            "gridcolor": "white",
            "linecolor": "white",
            "ticks": ""
           },
           "baxis": {
            "gridcolor": "white",
            "linecolor": "white",
            "ticks": ""
           },
           "bgcolor": "#E5ECF6",
           "caxis": {
            "gridcolor": "white",
            "linecolor": "white",
            "ticks": ""
           }
          },
          "title": {
           "x": 0.05
          },
          "xaxis": {
           "automargin": true,
           "gridcolor": "white",
           "linecolor": "white",
           "ticks": "",
           "title": {
            "standoff": 15
           },
           "zerolinecolor": "white",
           "zerolinewidth": 2
          },
          "yaxis": {
           "automargin": true,
           "gridcolor": "white",
           "linecolor": "white",
           "ticks": "",
           "title": {
            "standoff": 15
           },
           "zerolinecolor": "white",
           "zerolinewidth": 2
          }
         }
        },
        "title": {
         "text": "Динамика количества доноров"
        },
        "xaxis": {
         "anchor": "y",
         "autorange": true,
         "domain": [
          0,
          1
         ],
         "range": [
          "2021-12-18",
          "2024-12-15"
         ],
         "tickangle": 45,
         "title": {
          "text": "payment_month"
         },
         "type": "date"
        },
        "yaxis": {
         "anchor": "x",
         "autorange": true,
         "domain": [
          0,
          1
         ],
         "range": [
          0,
          2082.1052631578946
         ],
         "title": {
          "text": "user_id"
         },
         "type": "linear"
        }
       }
      },
      "image/png": "[encoded data removed]",
      "text/html": [
       "<div>                            <div id=\"af2321f1-404d-46ca-be9d-4ca0da0f828a\" class=\"plotly-graph-div\" style=\"height:525px; width:100%;\"></div>            <script type=\"text/javascript\">                require([\"plotly\"], function(Plotly) {                    window.PLOTLYENV=window.PLOTLYENV || {};                                    if (document.getElementById(\"af2321f1-404d-46ca-be9d-4ca0da0f828a\")) {                    Plotly.newPlot(                        \"af2321f1-404d-46ca-be9d-4ca0da0f828a\",                        [{\"alignmentgroup\":\"True\",\"hovertemplate\":\"repeat_transaction=\\u0414\\u0430\\u003cbr\\u003epayment_month=%{x}\\u003cbr\\u003euser_id=%{y}\\u003cextra\\u003e\\u003c\\u002fextra\\u003e\",\"legendgroup\":\"\\u0414\\u0430\",\"marker\":{\"color\":\"#636efa\",\"pattern\":{\"shape\":\"\"}},\"name\":\"\\u0414\\u0430\",\"offsetgroup\":\"\\u0414\\u0430\",\"orientation\":\"v\",\"showlegend\":true,\"textposition\":\"auto\",\"x\":[\"2022-01\",\"2022-02\",\"2022-03\",\"2022-04\",\"2022-05\",\"2022-06\",\"2022-07\",\"2022-08\",\"2022-09\",\"2022-10\",\"2022-11\",\"2022-12\",\"2023-01\",\"2023-02\",\"2023-03\",\"2023-04\",\"2023-05\",\"2023-06\",\"2023-07\",\"2023-08\",\"2023-09\",\"2023-10\",\"2023-11\",\"2023-12\",\"2024-01\",\"2024-02\",\"2024-03\",\"2024-04\",\"2024-05\",\"2024-06\",\"2024-07\",\"2024-08\",\"2024-09\",\"2024-10\",\"2024-11\",\"2024-12\"],\"xaxis\":\"x\",\"y\":[714,725,982,837,770,728,669,945,922,815,685,872,368,467,970,760,810,347,788,803,857,842,725,686,586,682,821,759,910,646,580,789,795,684,589,628],\"yaxis\":\"y\",\"type\":\"bar\"},{\"alignmentgroup\":\"True\",\"hovertemplate\":\"repeat_transaction=\\u041d\\u0435\\u0442\\u003cbr\\u003epayment_month=%{x}\\u003cbr\\u003euser_id=%{y}\\u003cextra\\u003e\\u003c\\u002fextra\\u003e\",\"legendgroup\":\"\\u041d\\u0435\\u0442\",\"marker\":{\"color\":\"#EF553B\",\"pattern\":{\"shape\":\"\"}},\"name\":\"\\u041d\\u0435\\u0442\",\"offsetgroup\":\"\\u041d\\u0435\\u0442\",\"orientation\":\"v\",\"showlegend\":true,\"textposition\":\"auto\",\"x\":[\"2022-01\",\"2022-02\",\"2022-03\",\"2022-04\",\"2022-05\",\"2022-06\",\"2022-07\",\"2022-08\",\"2022-09\",\"2022-10\",\"2022-11\",\"2022-12\",\"2023-01\",\"2023-02\",\"2023-03\",\"2023-04\",\"2023-05\",\"2023-06\",\"2023-07\",\"2023-08\",\"2023-09\",\"2023-10\",\"2023-11\",\"2023-12\",\"2024-01\",\"2024-02\",\"2024-03\",\"2024-04\",\"2024-05\",\"2024-06\",\"2024-07\",\"2024-08\",\"2024-09\",\"2024-10\",\"2024-11\",\"2024-12\"],\"xaxis\":\"x\",\"y\":[146,91,363,149,131,107,189,458,270,113,216,457,15,32,1008,103,106,68,208,455,282,160,143,102,115,65,403,79,253,295,104,359,234,131,81,303],\"yaxis\":\"y\",\"type\":\"bar\"}],                        {\"template\":{\"data\":{\"histogram2dcontour\":[{\"type\":\"histogram2dcontour\",\"colorbar\":{\"outlinewidth\":0,\"ticks\":\"\"},\"colorscale\":[[0.0,\"#0d0887\"],[0.1111111111111111,\"#46039f\"],[0.2222222222222222,\"#7201a8\"],[0.3333333333333333,\"#9c179e\"],[0.4444444444444444,\"#bd3786\"],[0.5555555555555556,\"#d8576b\"],[0.6666666666666666,\"#ed7953\"],[0.7777777777777778,\"#fb9f3a\"],[0.8888888888888888,\"#fdca26\"],[1.0,\"#f0f921\"]]}],\"choropleth\":[{\"type\":\"choropleth\",\"colorbar\":{\"outlinewidth\":0,\"ticks\":\"\"}}],\"histogram2d\":[{\"type\":\"histogram2d\",\"colorbar\":{\"outlinewidth\":0,\"ticks\":\"\"},\"colorscale\":[[0.0,\"#0d0887\"],[0.1111111111111111,\"#46039f\"],[0.2222222222222222,\"#7201a8\"],[0.3333333333333333,\"#9c179e\"],[0.4444444444444444,\"#bd3786\"],[0.5555555555555556,\"#d8576b\"],[0.6666666666666666,\"#ed7953\"],[0.7777777777777778,\"#fb9f3a\"],[0.8888888888888888,\"#fdca26\"],[1.0,\"#f0f921\"]]}],\"heatmap\":[{\"type\":\"heatmap\",\"colorbar\":{\"outlinewidth\":0,\"ticks\":\"\"},\"colorscale\":[[0.0,\"#0d0887\"],[0.1111111111111111,\"#46039f\"],[0.2222222222222222,\"#7201a8\"],[0.3333333333333333,\"#9c179e\"],[0.4444444444444444,\"#bd3786\"],[0.5555555555555556,\"#d8576b\"],[0.6666666666666666,\"#ed7953\"],[0.7777777777777778,\"#fb9f3a\"],[0.8888888888888888,\"#fdca26\"],[1.0,\"#f0f921\"]]}],\"heatmapgl\":[{\"type\":\"heatmapgl\",\"colorbar\":{\"outlinewidth\":0,\"ticks\":\"\"},\"colorscale\":[[0.0,\"#0d0887\"],[0.1111111111111111,\"#46039f\"],[0.2222222222222222,\"#7201a8\"],[0.3333333333333333,\"#9c179e\"],[0.4444444444444444,\"#bd3786\"],[0.5555555555555556,\"#d8576b\"],[0.6666666666666666,\"#ed7953\"],[0.7777777777777778,\"#fb9f3a\"],[0.8888888888888888,\"#fdca26\"],[1.0,\"#f0f921\"]]}],\"contourcarpet\":[{\"type\":\"contourcarpet\",\"colorbar\":{\"outlinewidth\":0,\"ticks\":\"\"}}],\"contour\":[{\"type\":\"contour\",\"colorbar\":{\"outlinewidth\":0,\"ticks\":\"\"},\"colorscale\":[[0.0,\"#0d0887\"],[0.1111111111111111,\"#46039f\"],[0.2222222222222222,\"#7201a8\"],[0.3333333333333333,\"#9c179e\"],[0.4444444444444444,\"#bd3786\"],[0.5555555555555556,\"#d8576b\"],[0.6666666666666666,\"#ed7953\"],[0.7777777777777778,\"#fb9f3a\"],[0.8888888888888888,\"#fdca26\"],[1.0,\"#f0f921\"]]}],\"surface\":[{\"type\":\"surface\",\"colorbar\":{\"outlinewidth\":0,\"ticks\":\"\"},\"colorscale\":[[0.0,\"#0d0887\"],[0.1111111111111111,\"#46039f\"],[0.2222222222222222,\"#7201a8\"],[0.3333333333333333,\"#9c179e\"],[0.4444444444444444,\"#bd3786\"],[0.5555555555555556,\"#d8576b\"],[0.6666666666666666,\"#ed7953\"],[0.7777777777777778,\"#fb9f3a\"],[0.8888888888888888,\"#fdca26\"],[1.0,\"#f0f921\"]]}],\"mesh3d\":[{\"type\":\"mesh3d\",\"colorbar\":{\"outlinewidth\":0,\"ticks\":\"\"}}],\"scatter\":[{\"fillpattern\":{\"fillmode\":\"overlay\",\"size\":10,\"solidity\":0.2},\"type\":\"scatter\"}],\"parcoords\":[{\"type\":\"parcoords\",\"line\":{\"colorbar\":{\"outlinewidth\":0,\"ticks\":\"\"}}}],\"scatterpolargl\":[{\"type\":\"scatterpolargl\",\"marker\":{\"colorbar\":{\"outlinewidth\":0,\"ticks\":\"\"}}}],\"bar\":[{\"error_x\":{\"color\":\"#2a3f5f\"},\"error_y\":{\"color\":\"#2a3f5f\"},\"marker\":{\"line\":{\"color\":\"#E5ECF6\",\"width\":0.5},\"pattern\":{\"fillmode\":\"overlay\",\"size\":10,\"solidity\":0.2}},\"type\":\"bar\"}],\"scattergeo\":[{\"type\":\"scattergeo\",\"marker\":{\"colorbar\":{\"outlinewidth\":0,\"ticks\":\"\"}}}],\"scatterpolar\":[{\"type\":\"scatterpolar\",\"marker\":{\"colorbar\":{\"outlinewidth\":0,\"ticks\":\"\"}}}],\"histogram\":[{\"marker\":{\"pattern\":{\"fillmode\":\"overlay\",\"size\":10,\"solidity\":0.2}},\"type\":\"histogram\"}],\"scattergl\":[{\"type\":\"scattergl\",\"marker\":{\"colorbar\":{\"outlinewidth\":0,\"ticks\":\"\"}}}],\"scatter3d\":[{\"type\":\"scatter3d\",\"line\":{\"colorbar\":{\"outlinewidth\":0,\"ticks\":\"\"}},\"marker\":{\"colorbar\":{\"outlinewidth\":0,\"ticks\":\"\"}}}],\"scattermapbox\":[{\"type\":\"scattermapbox\",\"marker\":{\"colorbar\":{\"outlinewidth\":0,\"ticks\":\"\"}}}],\"scatterternary\":[{\"type\":\"scatterternary\",\"marker\":{\"colorbar\":{\"outlinewidth\":0,\"ticks\":\"\"}}}],\"scattercarpet\":[{\"type\":\"scattercarpet\",\"marker\":{\"colorbar\":{\"outlinewidth\":0,\"ticks\":\"\"}}}],\"carpet\":[{\"aaxis\":{\"endlinecolor\":\"#2a3f5f\",\"gridcolor\":\"white\",\"linecolor\":\"white\",\"minorgridcolor\":\"white\",\"startlinecolor\":\"#2a3f5f\"},\"baxis\":{\"endlinecolor\":\"#2a3f5f\",\"gridcolor\":\"white\",\"linecolor\":\"white\",\"minorgridcolor\":\"white\",\"startlinecolor\":\"#2a3f5f\"},\"type\":\"carpet\"}],\"table\":[{\"cells\":{\"fill\":{\"color\":\"#EBF0F8\"},\"line\":{\"color\":\"white\"}},\"header\":{\"fill\":{\"color\":\"#C8D4E3\"},\"line\":{\"color\":\"white\"}},\"type\":\"table\"}],\"barpolar\":[{\"marker\":{\"line\":{\"color\":\"#E5ECF6\",\"width\":0.5},\"pattern\":{\"fillmode\":\"overlay\",\"size\":10,\"solidity\":0.2}},\"type\":\"barpolar\"}],\"pie\":[{\"automargin\":true,\"type\":\"pie\"}]},\"layout\":{\"autotypenumbers\":\"strict\",\"colorway\":[\"#636efa\",\"#EF553B\",\"#00cc96\",\"#ab63fa\",\"#FFA15A\",\"#19d3f3\",\"#FF6692\",\"#B6E880\",\"#FF97FF\",\"#FECB52\"],\"font\":{\"color\":\"#2a3f5f\"},\"hovermode\":\"closest\",\"hoverlabel\":{\"align\":\"left\"},\"paper_bgcolor\":\"white\",\"plot_bgcolor\":\"#E5ECF6\",\"polar\":{\"bgcolor\":\"#E5ECF6\",\"angularaxis\":{\"gridcolor\":\"white\",\"linecolor\":\"white\",\"ticks\":\"\"},\"radialaxis\":{\"gridcolor\":\"white\",\"linecolor\":\"white\",\"ticks\":\"\"}},\"ternary\":{\"bgcolor\":\"#E5ECF6\",\"aaxis\":{\"gridcolor\":\"white\",\"linecolor\":\"white\",\"ticks\":\"\"},\"baxis\":{\"gridcolor\":\"white\",\"linecolor\":\"white\",\"ticks\":\"\"},\"caxis\":{\"gridcolor\":\"white\",\"linecolor\":\"white\",\"ticks\":\"\"}},\"coloraxis\":{\"colorbar\":{\"outlinewidth\":0,\"ticks\":\"\"}},\"colorscale\":{\"sequential\":[[0.0,\"#0d0887\"],[0.1111111111111111,\"#46039f\"],[0.2222222222222222,\"#7201a8\"],[0.3333333333333333,\"#9c179e\"],[0.4444444444444444,\"#bd3786\"],[0.5555555555555556,\"#d8576b\"],[0.6666666666666666,\"#ed7953\"],[0.7777777777777778,\"#fb9f3a\"],[0.8888888888888888,\"#fdca26\"],[1.0,\"#f0f921\"]],\"sequentialminus\":[[0.0,\"#0d0887\"],[0.1111111111111111,\"#46039f\"],[0.2222222222222222,\"#7201a8\"],[0.3333333333333333,\"#9c179e\"],[0.4444444444444444,\"#bd3786\"],[0.5555555555555556,\"#d8576b\"],[0.6666666666666666,\"#ed7953\"],[0.7777777777777778,\"#fb9f3a\"],[0.8888888888888888,\"#fdca26\"],[1.0,\"#f0f921\"]],\"diverging\":[[0,\"#8e0152\"],[0.1,\"#c51b7d\"],[0.2,\"#de77ae\"],[0.3,\"#f1b6da\"],[0.4,\"#fde0ef\"],[0.5,\"#f7f7f7\"],[0.6,\"#e6f5d0\"],[0.7,\"#b8e186\"],[0.8,\"#7fbc41\"],[0.9,\"#4d9221\"],[1,\"#276419\"]]},\"xaxis\":{\"gridcolor\":\"white\",\"linecolor\":\"white\",\"ticks\":\"\",\"title\":{\"standoff\":15},\"zerolinecolor\":\"white\",\"automargin\":true,\"zerolinewidth\":2},\"yaxis\":{\"gridcolor\":\"white\",\"linecolor\":\"white\",\"ticks\":\"\",\"title\":{\"standoff\":15},\"zerolinecolor\":\"white\",\"automargin\":true,\"zerolinewidth\":2},\"scene\":{\"xaxis\":{\"backgroundcolor\":\"#E5ECF6\",\"gridcolor\":\"white\",\"linecolor\":\"white\",\"showbackground\":true,\"ticks\":\"\",\"zerolinecolor\":\"white\",\"gridwidth\":2},\"yaxis\":{\"backgroundcolor\":\"#E5ECF6\",\"gridcolor\":\"white\",\"linecolor\":\"white\",\"showbackground\":true,\"ticks\":\"\",\"zerolinecolor\":\"white\",\"gridwidth\":2},\"zaxis\":{\"backgroundcolor\":\"#E5ECF6\",\"gridcolor\":\"white\",\"linecolor\":\"white\",\"showbackground\":true,\"ticks\":\"\",\"zerolinecolor\":\"white\",\"gridwidth\":2}},\"shapedefaults\":{\"line\":{\"color\":\"#2a3f5f\"}},\"annotationdefaults\":{\"arrowcolor\":\"#2a3f5f\",\"arrowhead\":0,\"arrowwidth\":1},\"geo\":{\"bgcolor\":\"white\",\"landcolor\":\"#E5ECF6\",\"subunitcolor\":\"white\",\"showland\":true,\"showlakes\":true,\"lakecolor\":\"white\"},\"title\":{\"x\":0.05},\"mapbox\":{\"style\":\"light\"}}},\"xaxis\":{\"anchor\":\"y\",\"domain\":[0.0,1.0],\"title\":{\"text\":\"payment_month\"},\"tickangle\":45},\"yaxis\":{\"anchor\":\"x\",\"domain\":[0.0,1.0],\"title\":{\"text\":\"user_id\"}},\"legend\":{\"title\":{\"text\":\"repeat_transaction\"},\"tracegroupgap\":0},\"title\":{\"text\":\"\\u0414\\u0438\\u043d\\u0430\\u043c\\u0438\\u043a\\u0430 \\u043a\\u043e\\u043b\\u0438\\u0447\\u0435\\u0441\\u0442\\u0432\\u0430 \\u0434\\u043e\\u043d\\u043e\\u0440\\u043e\\u0432\"},\"barmode\":\"relative\"},                        {\"responsive\": true}                    ).then(function(){\n",
       "                            \n",
       "var gd = document.getElementById('af2321f1-404d-46ca-be9d-4ca0da0f828a');\n",
       "var x = new MutationObserver(function (mutations, observer) {{\n",
       "        var display = window.getComputedStyle(gd).display;\n",
       "        if (!display || display === 'none') {{\n",
       "            console.log([gd, 'removed!']);\n",
       "            Plotly.purge(gd);\n",
       "            observer.disconnect();\n",
       "        }}\n",
       "}});\n",
       "\n",
       "// Listen for the removal of the full notebook cells\n",
       "var notebookContainer = gd.closest('#notebook-container');\n",
       "if (notebookContainer) {{\n",
       "    x.observe(notebookContainer, {childList: true});\n",
       "}}\n",
       "\n",
       "// Listen for the clearing of the current output cell\n",
       "var outputEl = gd.closest('.output');\n",
       "if (outputEl) {{\n",
       "    x.observe(outputEl, {childList: true});\n",
       "}}\n",
       "\n",
       "                        })                };                });            </script>        </div>"
      ]
     },
     "metadata": {},
     "output_type": "display_data"
    }
   ],
   "source": [
    "fig = px.bar(data_users, x='payment_month', y='user_id', color='repeat_transaction', title='Динамика количества доноров')\n",
    "fig.update_xaxes(tickangle=45)\n",
    "fig.show() "
   ]
  },
  {
   "cell_type": "code",
   "execution_count": 224,
   "id": "5d9a1b5a-db57-4635-9dc6-5ee341d0b8e1",
   "metadata": {},
   "outputs": [
    {
     "data": {
      "text/html": [
       "<div>\n",
       "<style scoped>\n",
       "    .dataframe tbody tr th:only-of-type {\n",
       "        vertical-align: middle;\n",
       "    }\n",
       "\n",
       "    .dataframe tbody tr th {\n",
       "        vertical-align: top;\n",
       "    }\n",
       "\n",
       "    .dataframe thead th {\n",
       "        text-align: right;\n",
       "    }\n",
       "</style>\n",
       "<table border=\"1\" class=\"dataframe\">\n",
       "  <thead>\n",
       "    <tr style=\"text-align: right;\">\n",
       "      <th></th>\n",
       "      <th>payment_month</th>\n",
       "      <th>repeat_transaction</th>\n",
       "      <th>user_id</th>\n",
       "    </tr>\n",
       "  </thead>\n",
       "  <tbody>\n",
       "    <tr>\n",
       "      <th>2</th>\n",
       "      <td>2022-01</td>\n",
       "      <td>Да</td>\n",
       "      <td>740</td>\n",
       "    </tr>\n",
       "    <tr>\n",
       "      <th>3</th>\n",
       "      <td>2022-01</td>\n",
       "      <td>Нет</td>\n",
       "      <td>166</td>\n",
       "    </tr>\n",
       "    <tr>\n",
       "      <th>4</th>\n",
       "      <td>2022-02</td>\n",
       "      <td>Да</td>\n",
       "      <td>731</td>\n",
       "    </tr>\n",
       "    <tr>\n",
       "      <th>5</th>\n",
       "      <td>2022-02</td>\n",
       "      <td>Нет</td>\n",
       "      <td>103</td>\n",
       "    </tr>\n",
       "    <tr>\n",
       "      <th>6</th>\n",
       "      <td>2022-03</td>\n",
       "      <td>Да</td>\n",
       "      <td>993</td>\n",
       "    </tr>\n",
       "  </tbody>\n",
       "</table>\n",
       "</div>"
      ],
      "text/plain": [
       "  payment_month repeat_transaction  user_id\n",
       "2       2022-01                 Да      740\n",
       "3       2022-01                Нет      166\n",
       "4       2022-02                 Да      731\n",
       "5       2022-02                Нет      103\n",
       "6       2022-03                 Да      993"
      ]
     },
     "execution_count": 224,
     "metadata": {},
     "output_type": "execute_result"
    }
   ],
   "source": [
    "data.head()"
   ]
  },
  {
   "cell_type": "code",
   "execution_count": null,
   "id": "ed8758c5-bbac-45dd-8819-edd1a6b1f26c",
   "metadata": {},
   "outputs": [],
   "source": []
  }
 ],
 "metadata": {
  "kernelspec": {
   "display_name": "Python 3 (ipykernel)",
   "language": "python",
   "name": "python3"
  },
  "language_info": {
   "codemirror_mode": {
    "name": "ipython",
    "version": 3
   },
   "file_extension": ".py",
   "mimetype": "text/x-python",
   "name": "python",
   "nbconvert_exporter": "python",
   "pygments_lexer": "ipython3",
   "version": "3.12.7"
  },
  "toc": {
   "base_numbering": 1,
   "nav_menu": {},
   "number_sections": true,
   "sideBar": true,
   "skip_h1_title": true,
   "title_cell": "Table of Contents",
   "title_sidebar": "Contents",
   "toc_cell": true,
   "toc_position": {},
   "toc_section_display": true,
   "toc_window_display": false
  }
 },
 "nbformat": 4,
 "nbformat_minor": 5
}
